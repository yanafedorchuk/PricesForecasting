{
 "cells": [
  {
   "cell_type": "code",
   "execution_count": 1,
   "metadata": {},
   "outputs": [],
   "source": [
    "import pandas as pd\n",
    "import numpy as np"
   ]
  },
  {
   "cell_type": "code",
   "execution_count": 2,
   "metadata": {},
   "outputs": [
    {
     "data": {
      "text/plain": [
       "(Decimal('37.587093'), Decimal('55.733969'))"
      ]
     },
     "execution_count": 2,
     "metadata": {},
     "output_type": "execute_result"
    }
   ],
   "source": [
    "from decimal import Decimal\n",
    "\n",
    "from yandex_geocoder import Client\n",
    "\n",
    "\n",
    "client = Client(\"0e9e630a-fe09-4a9c-adb7-a518575602ef\")\n",
    "\n",
    "coordinates = client.coordinates(\"Москва Льва Толстого 16\")\n",
    "coordinates"
   ]
  },
  {
   "cell_type": "code",
   "execution_count": 3,
   "metadata": {},
   "outputs": [
    {
     "data": {
      "text/plain": [
       "(Decimal('37.634173'), Decimal('55.765336'))"
      ]
     },
     "execution_count": 3,
     "metadata": {},
     "output_type": "execute_result"
    }
   ],
   "source": [
    "coordinates = client.coordinates(\"Russia, Moscow, Bobrov Lane, 4с1\")\n",
    "coordinates"
   ]
  },
  {
   "cell_type": "code",
   "execution_count": 4,
   "metadata": {},
   "outputs": [
    {
     "ename": "UnexpectedResponse",
     "evalue": "status_code=400, body=b'{\"statusCode\":400,\"error\":\"Bad Request\",\"message\":\"Parameter \\\\\"geocode\\\\\": \\\\\"geocode\\\\\" is not allowed to be empty\"}'",
     "output_type": "error",
     "traceback": [
      "\u001b[1;31m---------------------------------------------------------------------------\u001b[0m",
      "\u001b[1;31mUnexpectedResponse\u001b[0m                        Traceback (most recent call last)",
      "\u001b[1;32m<ipython-input-4-4d0e05c81b0d>\u001b[0m in \u001b[0;36m<module>\u001b[1;34m\u001b[0m\n\u001b[0;32m      1\u001b[0m \u001b[0mcoordinates_list\u001b[0m\u001b[1;33m=\u001b[0m\u001b[1;33m[\u001b[0m\u001b[1;33m]\u001b[0m\u001b[1;33m\u001b[0m\u001b[1;33m\u001b[0m\u001b[0m\n\u001b[1;32m----> 2\u001b[1;33m \u001b[0mcoordinates\u001b[0m \u001b[1;33m=\u001b[0m \u001b[0mclient\u001b[0m\u001b[1;33m.\u001b[0m\u001b[0mcoordinates\u001b[0m\u001b[1;33m(\u001b[0m\u001b[1;34m\"\"\u001b[0m\u001b[1;33m)\u001b[0m\u001b[1;33m\u001b[0m\u001b[1;33m\u001b[0m\u001b[0m\n\u001b[0m\u001b[0;32m      3\u001b[0m \u001b[0mcoordinates_list\u001b[0m\u001b[1;33m.\u001b[0m\u001b[0mappend\u001b[0m\u001b[1;33m(\u001b[0m\u001b[0mcoordinates\u001b[0m\u001b[1;33m)\u001b[0m\u001b[1;33m\u001b[0m\u001b[1;33m\u001b[0m\u001b[0m\n\u001b[0;32m      4\u001b[0m \u001b[0mcoordinates\u001b[0m \u001b[1;33m=\u001b[0m \u001b[0mclient\u001b[0m\u001b[1;33m.\u001b[0m\u001b[0mcoordinates\u001b[0m\u001b[1;33m(\u001b[0m\u001b[1;34m\"\"\u001b[0m\u001b[1;33m)\u001b[0m\u001b[1;33m\u001b[0m\u001b[1;33m\u001b[0m\u001b[0m\n\u001b[0;32m      5\u001b[0m \u001b[0mcoordinates_list\u001b[0m\u001b[1;33m.\u001b[0m\u001b[0mappend\u001b[0m\u001b[1;33m(\u001b[0m\u001b[0mcoordinates\u001b[0m\u001b[1;33m)\u001b[0m\u001b[1;33m\u001b[0m\u001b[1;33m\u001b[0m\u001b[0m\n",
      "\u001b[1;32m~\\anaconda3\\lib\\site-packages\\yandex_geocoder\\client.py\u001b[0m in \u001b[0;36mcoordinates\u001b[1;34m(self, address)\u001b[0m\n\u001b[0;32m     46\u001b[0m     \u001b[1;32mdef\u001b[0m \u001b[0mcoordinates\u001b[0m\u001b[1;33m(\u001b[0m\u001b[0mself\u001b[0m\u001b[1;33m,\u001b[0m \u001b[0maddress\u001b[0m\u001b[1;33m:\u001b[0m \u001b[0mstr\u001b[0m\u001b[1;33m)\u001b[0m \u001b[1;33m->\u001b[0m \u001b[0mTuple\u001b[0m\u001b[1;33m[\u001b[0m\u001b[0mDecimal\u001b[0m\u001b[1;33m]\u001b[0m\u001b[1;33m:\u001b[0m\u001b[1;33m\u001b[0m\u001b[1;33m\u001b[0m\u001b[0m\n\u001b[0;32m     47\u001b[0m         \u001b[1;34m\"\"\"Fetch coordinates (longitude, latitude) for passed address.\"\"\"\u001b[0m\u001b[1;33m\u001b[0m\u001b[1;33m\u001b[0m\u001b[0m\n\u001b[1;32m---> 48\u001b[1;33m         \u001b[0mdata\u001b[0m \u001b[1;33m=\u001b[0m \u001b[0mself\u001b[0m\u001b[1;33m.\u001b[0m\u001b[0m_request\u001b[0m\u001b[1;33m(\u001b[0m\u001b[0maddress\u001b[0m\u001b[1;33m)\u001b[0m\u001b[1;33m[\u001b[0m\u001b[1;34m\"GeoObjectCollection\"\u001b[0m\u001b[1;33m]\u001b[0m\u001b[1;33m[\u001b[0m\u001b[1;34m\"featureMember\"\u001b[0m\u001b[1;33m]\u001b[0m\u001b[1;33m\u001b[0m\u001b[1;33m\u001b[0m\u001b[0m\n\u001b[0m\u001b[0;32m     49\u001b[0m \u001b[1;33m\u001b[0m\u001b[0m\n\u001b[0;32m     50\u001b[0m         \u001b[1;32mif\u001b[0m \u001b[1;32mnot\u001b[0m \u001b[0mdata\u001b[0m\u001b[1;33m:\u001b[0m\u001b[1;33m\u001b[0m\u001b[1;33m\u001b[0m\u001b[0m\n",
      "\u001b[1;32m~\\anaconda3\\lib\\site-packages\\yandex_geocoder\\client.py\u001b[0m in \u001b[0;36m_request\u001b[1;34m(self, address)\u001b[0m\n\u001b[0;32m     41\u001b[0m         \u001b[1;32melse\u001b[0m\u001b[1;33m:\u001b[0m\u001b[1;33m\u001b[0m\u001b[1;33m\u001b[0m\u001b[0m\n\u001b[0;32m     42\u001b[0m             raise UnexpectedResponse(\n\u001b[1;32m---> 43\u001b[1;33m                 \u001b[1;34mf\"status_code={response.status_code}, body={response.content}\"\u001b[0m\u001b[1;33m\u001b[0m\u001b[1;33m\u001b[0m\u001b[0m\n\u001b[0m\u001b[0;32m     44\u001b[0m             )\n\u001b[0;32m     45\u001b[0m \u001b[1;33m\u001b[0m\u001b[0m\n",
      "\u001b[1;31mUnexpectedResponse\u001b[0m: status_code=400, body=b'{\"statusCode\":400,\"error\":\"Bad Request\",\"message\":\"Parameter \\\\\"geocode\\\\\": \\\\\"geocode\\\\\" is not allowed to be empty\"}'"
     ]
    }
   ],
   "source": [
    "coordinates_list=[]\n",
    "coordinates = client.coordinates(\"\")\n",
    "coordinates_list.append(coordinates)\n",
    "coordinates = client.coordinates(\"\")\n",
    "coordinates_list.append(coordinates)\n",
    "coordinates = client.coordinates(\"\")\n",
    "coordinates_list.append(coordinates)\n",
    "coordinates = client.coordinates(\"\")\n",
    "coordinates_list.append(coordinates)\n",
    "coordinates = client.coordinates(\"\")\n",
    "coordinates_list.append(coordinates)\n",
    "coordinates = client.coordinates(\"\")\n",
    "coordinates_list.append(coordinates)\n",
    "coordinates = client.coordinates(\"\")\n",
    "coordinates_list.append(coordinates)\n",
    "coordinates = client.coordinates(\"\")\n",
    "coordinates_list.append(coordinates)\n",
    "coordinates = client.coordinates(\"\")\n",
    "coordinates_list.append(coordinates)\n",
    "coordinates = client.coordinates(\"\")\n",
    "coordinates_list.append(coordinates)\n",
    "coordinates = client.coordinates(\"\")\n",
    "coordinates_list.append(coordinates)\n",
    "coordinates = client.coordinates(\"\")\n",
    "coordinates_list.append(coordinates)\n",
    "coordinates = client.coordinates(\"\")\n",
    "coordinates_list.append(coordinates)\n",
    "coordinates = client.coordinates(\"\")\n",
    "coordinates_list.append(coordinates)\n",
    "coordinates = client.coordinates(\"\")\n",
    "coordinates_list.append(coordinates)\n",
    "coordinates = client.coordinates(\"\")\n",
    "coordinates_list.append(coordinates)\n",
    "coordinates = client.coordinates(\"\")\n",
    "coordinates_list.append(coordinates)\n",
    "coordinates = client.coordinates(\"\")\n",
    "coordinates_list.append(coordinates)\n",
    "coordinates = client.coordinates(\"\")\n",
    "coordinates_list.append(coordinates)\n",
    "coordinates = client.coordinates(\"\")\n",
    "coordinates_list.append(coordinates)\n",
    "coordinates = client.coordinates(\"\")\n",
    "coordinates_list.append(coordinates)\n",
    "coordinates = client.coordinates(\"\")\n",
    "coordinates_list.append(coordinates)\n",
    "coordinates = client.coordinates(\"\")\n",
    "coordinates_list.append(coordinates)\n",
    "coordinates = client.coordinates(\"\")\n",
    "coordinates_list.append(coordinates)\n",
    "coordinates = client.coordinates(\"\")\n",
    "coordinates_list.append(coordinates)\n",
    "coordinates = client.coordinates(\"\")\n",
    "coordinates_list.append(coordinates)\n",
    "coordinates = client.coordinates(\"\")\n",
    "coordinates_list.append(coordinates)\n",
    "coordinates = client.coordinates(\"\")\n",
    "coordinates_list.append(coordinates)\n",
    "coordinates = client.coordinates(\"\")\n",
    "coordinates_list.append(coordinates)\n",
    "coordinates = client.coordinates(\"\")\n",
    "coordinates_list.append(coordinates)\n",
    "coordinates = client.coordinates(\"\")\n",
    "coordinates_list.append(coordinates)\n",
    "coordinates = client.coordinates(\"\")\n",
    "coordinates_list.append(coordinates)\n",
    "coordinates_list"
   ]
  },
  {
   "cell_type": "code",
   "execution_count": null,
   "metadata": {},
   "outputs": [],
   "source": [
    "coordinates = client.coordinates(\"Russia, Moscow, Bobrov Lane, 4с1\")\n",
    "coordinates_list.append(coordinates)\n",
    "coordinates_list"
   ]
  },
  {
   "cell_type": "code",
   "execution_count": null,
   "metadata": {},
   "outputs": [],
   "source": [
    "num = np.array(coordinates_list)"
   ]
  },
  {
   "cell_type": "code",
   "execution_count": null,
   "metadata": {},
   "outputs": [],
   "source": [
    "num"
   ]
  },
  {
   "cell_type": "code",
   "execution_count": null,
   "metadata": {},
   "outputs": [],
   "source": [
    "reshaped = num.reshape(4,2)"
   ]
  },
  {
   "cell_type": "code",
   "execution_count": 5,
   "metadata": {},
   "outputs": [
    {
     "ename": "NameError",
     "evalue": "name 'reshaped' is not defined",
     "output_type": "error",
     "traceback": [
      "\u001b[1;31m---------------------------------------------------------------------------\u001b[0m",
      "\u001b[1;31mNameError\u001b[0m                                 Traceback (most recent call last)",
      "\u001b[1;32m<ipython-input-5-fa3ee9818419>\u001b[0m in \u001b[0;36m<module>\u001b[1;34m\u001b[0m\n\u001b[1;32m----> 1\u001b[1;33m \u001b[0mreshaped\u001b[0m\u001b[1;33m\u001b[0m\u001b[1;33m\u001b[0m\u001b[0m\n\u001b[0m",
      "\u001b[1;31mNameError\u001b[0m: name 'reshaped' is not defined"
     ]
    }
   ],
   "source": [
    "reshaped"
   ]
  },
  {
   "cell_type": "code",
   "execution_count": 6,
   "metadata": {},
   "outputs": [
    {
     "ename": "NameError",
     "evalue": "name 'reshaped' is not defined",
     "output_type": "error",
     "traceback": [
      "\u001b[1;31m---------------------------------------------------------------------------\u001b[0m",
      "\u001b[1;31mNameError\u001b[0m                                 Traceback (most recent call last)",
      "\u001b[1;32m<ipython-input-6-0b103cc1920b>\u001b[0m in \u001b[0;36m<module>\u001b[1;34m\u001b[0m\n\u001b[1;32m----> 1\u001b[1;33m \u001b[0mdf\u001b[0m\u001b[1;33m=\u001b[0m\u001b[0mpd\u001b[0m\u001b[1;33m.\u001b[0m\u001b[0mDataFrame\u001b[0m\u001b[1;33m(\u001b[0m\u001b[0mreshaped\u001b[0m\u001b[1;33m,\u001b[0m \u001b[0mcolumns\u001b[0m\u001b[1;33m=\u001b[0m\u001b[1;33m[\u001b[0m\u001b[1;34m'latitude'\u001b[0m\u001b[1;33m,\u001b[0m\u001b[1;34m'longitude'\u001b[0m\u001b[1;33m]\u001b[0m\u001b[1;33m)\u001b[0m\u001b[1;33m\u001b[0m\u001b[1;33m\u001b[0m\u001b[0m\n\u001b[0m",
      "\u001b[1;31mNameError\u001b[0m: name 'reshaped' is not defined"
     ]
    }
   ],
   "source": [
    "df=pd.DataFrame(reshaped, columns=['latitude','longitude'])"
   ]
  },
  {
   "cell_type": "code",
   "execution_count": 7,
   "metadata": {},
   "outputs": [
    {
     "ename": "NameError",
     "evalue": "name 'df' is not defined",
     "output_type": "error",
     "traceback": [
      "\u001b[1;31m---------------------------------------------------------------------------\u001b[0m",
      "\u001b[1;31mNameError\u001b[0m                                 Traceback (most recent call last)",
      "\u001b[1;32m<ipython-input-7-00cf07b74dcd>\u001b[0m in \u001b[0;36m<module>\u001b[1;34m\u001b[0m\n\u001b[1;32m----> 1\u001b[1;33m \u001b[0mdf\u001b[0m\u001b[1;33m\u001b[0m\u001b[1;33m\u001b[0m\u001b[0m\n\u001b[0m",
      "\u001b[1;31mNameError\u001b[0m: name 'df' is not defined"
     ]
    }
   ],
   "source": [
    "df"
   ]
  },
  {
   "cell_type": "code",
   "execution_count": 8,
   "metadata": {},
   "outputs": [],
   "source": [
    "from lxml import html\n",
    "import requests"
   ]
  },
  {
   "cell_type": "code",
   "execution_count": 9,
   "metadata": {},
   "outputs": [],
   "source": [
    "page = requests.get('https://yandex.com/maps/213/moscow/search/%D0%B1%D0%B0%D1%80%D1%8B%20%D0%B8%20%D1%80%D0%B5%D1%81%D1%82%D0%BE%D1%80%D0%B0%D0%BD%D1%8B%20%D0%BC%D0%BE%D1%81%D0%BA%D0%B2%D1%8B/?ll=37.605322%2C55.758484&sll=37.584948%2C55.755226&sspn=0.999787%2C0.333340&z=12.98')\n",
    "tree = html.fromstring(page.content)"
   ]
  },
  {
   "cell_type": "code",
   "execution_count": 10,
   "metadata": {},
   "outputs": [
    {
     "ename": "NameError",
     "evalue": "name 'content' is not defined",
     "output_type": "error",
     "traceback": [
      "\u001b[1;31m---------------------------------------------------------------------------\u001b[0m",
      "\u001b[1;31mNameError\u001b[0m                                 Traceback (most recent call last)",
      "\u001b[1;32m<ipython-input-10-0ad565fdf599>\u001b[0m in \u001b[0;36m<module>\u001b[1;34m\u001b[0m\n\u001b[1;32m----> 1\u001b[1;33m \u001b[0madress_line\u001b[0m \u001b[1;33m=\u001b[0m \u001b[0mcontent\u001b[0m\u001b[1;33m.\u001b[0m\u001b[0mquerySelectorAll\u001b[0m\u001b[1;33m(\u001b[0m\u001b[1;34m\"div[class=search-business-snippet-view__address]\"\u001b[0m\u001b[1;33m)\u001b[0m\u001b[1;33m[\u001b[0m\u001b[1;36m0\u001b[0m\u001b[1;33m]\u001b[0m\u001b[1;33m.\u001b[0m\u001b[0mtextContent\u001b[0m\u001b[1;33m\u001b[0m\u001b[1;33m\u001b[0m\u001b[0m\n\u001b[0m",
      "\u001b[1;31mNameError\u001b[0m: name 'content' is not defined"
     ]
    }
   ],
   "source": [
    "adress_line = content.querySelectorAll(\"div[class=search-business-snippet-view__address]\")[0].textContent"
   ]
  },
  {
   "cell_type": "code",
   "execution_count": null,
   "metadata": {},
   "outputs": [],
   "source": [
    "adress_line"
   ]
  },
  {
   "cell_type": "code",
   "execution_count": null,
   "metadata": {},
   "outputs": [],
   "source": [
    "page = requests.get('http://econpy.pythonanywhere.com/ex/001.html')\n",
    "tree = html.fromstring(page.content)"
   ]
  },
  {
   "cell_type": "code",
   "execution_count": 11,
   "metadata": {},
   "outputs": [],
   "source": [
    "#This will create a list of buyers:\n",
    "buyers = tree.xpath('//div[@title=\"buyer-name\"]/text()')\n",
    "#This will create a list of prices\n",
    "prices = tree.xpath('//span[@class=\"item-price\"]/text()')"
   ]
  },
  {
   "cell_type": "code",
   "execution_count": 12,
   "metadata": {},
   "outputs": [
    {
     "data": {
      "text/plain": [
       "[]"
      ]
     },
     "execution_count": 12,
     "metadata": {},
     "output_type": "execute_result"
    }
   ],
   "source": [
    "buyers\n"
   ]
  },
  {
   "cell_type": "code",
   "execution_count": 13,
   "metadata": {},
   "outputs": [],
   "source": [
    "import requests\n",
    "from bs4 import BeautifulSoup as Soup\n",
    "html = requests.get('https://yandex.com/maps/213/moscow/search/%D0%B1%D0%B0%D1%80%D1%8B%20%D0%B8%20%D1%80%D0%B5%D1%81%D1%82%D0%BE%D1%80%D0%B0%D0%BD%D1%8B%20%D0%BC%D0%BE%D1%81%D0%BA%D0%B2%D1%8B/?ll=37.605322%2C55.758484&sll=37.584948%2C55.755226&sspn=0.999787%2C0.333340&z=12.98').content\n",
    "soup = Soup(html)"
   ]
  },
  {
   "cell_type": "code",
   "execution_count": 14,
   "metadata": {},
   "outputs": [],
   "source": [
    "example=soup.select('div[class=search-business-snippet-view__address]')"
   ]
  },
  {
   "cell_type": "code",
   "execution_count": 15,
   "metadata": {},
   "outputs": [
    {
     "data": {
      "text/plain": [
       "[<div class=\"search-business-snippet-view__address\">Krasnaya Presnya Street, 32-34с3</div>,\n",
       " <div class=\"search-business-snippet-view__address\">Bolshoy Cherkassky Lane, 15-17с1</div>,\n",
       " <div class=\"search-business-snippet-view__address\">Maroseyka Street, 2/15с1</div>,\n",
       " <div class=\"search-business-snippet-view__address\">Novaya Square, 8с2</div>,\n",
       " <div class=\"search-business-snippet-view__address\">1905 Goda Street, 10с1</div>]"
      ]
     },
     "execution_count": 15,
     "metadata": {},
     "output_type": "execute_result"
    }
   ],
   "source": [
    "example"
   ]
  },
  {
   "cell_type": "code",
   "execution_count": 16,
   "metadata": {},
   "outputs": [],
   "source": [
    "example_1=soup.find_all('div[class=search-business-snippet-view__address]')"
   ]
  },
  {
   "cell_type": "code",
   "execution_count": 17,
   "metadata": {},
   "outputs": [
    {
     "data": {
      "text/plain": [
       "[]"
      ]
     },
     "execution_count": 17,
     "metadata": {},
     "output_type": "execute_result"
    }
   ],
   "source": [
    "example_1"
   ]
  },
  {
   "cell_type": "code",
   "execution_count": 18,
   "metadata": {},
   "outputs": [
    {
     "ename": "IndexError",
     "evalue": "list index out of range",
     "output_type": "error",
     "traceback": [
      "\u001b[1;31m---------------------------------------------------------------------------\u001b[0m",
      "\u001b[1;31mIndexError\u001b[0m                                Traceback (most recent call last)",
      "\u001b[1;32m<ipython-input-18-3c359d60721f>\u001b[0m in \u001b[0;36m<module>\u001b[1;34m\u001b[0m\n\u001b[1;32m----> 1\u001b[1;33m \u001b[0mexample_2\u001b[0m\u001b[1;33m=\u001b[0m\u001b[0msoup\u001b[0m\u001b[1;33m.\u001b[0m\u001b[0mfind_all\u001b[0m\u001b[1;33m(\u001b[0m\u001b[1;34m\"div\"\u001b[0m\u001b[1;33m,\u001b[0m \u001b[0mclass_\u001b[0m\u001b[1;33m=\u001b[0m\u001b[1;34m\"search-business-snippet-view__address\"\u001b[0m\u001b[1;33m)\u001b[0m\u001b[1;33m[\u001b[0m\u001b[1;36m16\u001b[0m\u001b[1;33m]\u001b[0m\u001b[1;33m\u001b[0m\u001b[1;33m\u001b[0m\u001b[0m\n\u001b[0m",
      "\u001b[1;31mIndexError\u001b[0m: list index out of range"
     ]
    }
   ],
   "source": [
    "example_2=soup.find_all(\"div\", class_=\"search-business-snippet-view__address\")[16]"
   ]
  },
  {
   "cell_type": "code",
   "execution_count": 19,
   "metadata": {},
   "outputs": [
    {
     "ename": "NameError",
     "evalue": "name 'example_2' is not defined",
     "output_type": "error",
     "traceback": [
      "\u001b[1;31m---------------------------------------------------------------------------\u001b[0m",
      "\u001b[1;31mNameError\u001b[0m                                 Traceback (most recent call last)",
      "\u001b[1;32m<ipython-input-19-8b08c91a23f1>\u001b[0m in \u001b[0;36m<module>\u001b[1;34m\u001b[0m\n\u001b[1;32m----> 1\u001b[1;33m \u001b[0mexample_2\u001b[0m\u001b[1;33m\u001b[0m\u001b[1;33m\u001b[0m\u001b[0m\n\u001b[0m",
      "\u001b[1;31mNameError\u001b[0m: name 'example_2' is not defined"
     ]
    }
   ],
   "source": [
    "example_2"
   ]
  },
  {
   "cell_type": "code",
   "execution_count": 20,
   "metadata": {},
   "outputs": [],
   "source": [
    "example_3=soup.find_all(\"div\", string=\"Moscow\")"
   ]
  },
  {
   "cell_type": "code",
   "execution_count": 21,
   "metadata": {},
   "outputs": [
    {
     "data": {
      "text/plain": [
       "[]"
      ]
     },
     "execution_count": 21,
     "metadata": {},
     "output_type": "execute_result"
    }
   ],
   "source": [
    "example_3"
   ]
  },
  {
   "cell_type": "code",
   "execution_count": 22,
   "metadata": {},
   "outputs": [
    {
     "ename": "SyntaxError",
     "evalue": "invalid syntax (<ipython-input-22-81409cc8e545>, line 1)",
     "output_type": "error",
     "traceback": [
      "\u001b[1;36m  File \u001b[1;32m\"<ipython-input-22-81409cc8e545>\"\u001b[1;36m, line \u001b[1;32m1\u001b[0m\n\u001b[1;33m    var fruits = [];\u001b[0m\n\u001b[1;37m             ^\u001b[0m\n\u001b[1;31mSyntaxError\u001b[0m\u001b[1;31m:\u001b[0m invalid syntax\n"
     ]
    }
   ],
   "source": [
    "var fruits = [];\n",
    "var image = document.querySelectorAll(\"div.search-business-snippet-view__address\");\n",
    "for (var i = 0; i<image.length; i++){\n",
    "      fruits.push(image[i].textContent);\n",
    "}\n",
    "fruits"
   ]
  },
  {
   "cell_type": "code",
   "execution_count": 23,
   "metadata": {},
   "outputs": [],
   "source": [
    "#https://yandex.com/maps/213/moscow/search/%D0%B1%D0%B0%D1%80%D1%8B%20%D0%B8%20%D1%80%D0%B5%D1%81%D1%82%D0%BE%D1%80%D0%B0%D0%BD%D1%8B%20%D0%BC%D0%BE%D1%81%D0%BA%D0%B2%D1%8B/?ll=37.605322%2C55.758484&sll=37.584948%2C55.755226&sspn=0.999787%2C0.333340&z=12.98"
   ]
  },
  {
   "cell_type": "code",
   "execution_count": 24,
   "metadata": {},
   "outputs": [],
   "source": [
    "list=[\"Bolshoy Cherkassky Lane, 15-17с1\", \"Blagoveschensky Lane, 1А\", \"Bolshaya Dorogomilovskaya Street, 4\", \"Tverskoy Boulevard, 26А\", \"Gogolevsky Boulevard, 33/1\"]"
   ]
  },
  {
   "cell_type": "code",
   "execution_count": 25,
   "metadata": {},
   "outputs": [],
   "source": [
    "def adress_line(Pls):\n",
    "    coordinates_list=[]\n",
    "    for i in Pls:\n",
    "        coordinates = client.coordinates(i)\n",
    "        coordinates_list.append(coordinates)\n",
    "    return coordinates_list\n",
    "        "
   ]
  },
  {
   "cell_type": "code",
   "execution_count": 26,
   "metadata": {},
   "outputs": [
    {
     "data": {
      "text/plain": [
       "[(Decimal('37.627669'), Decimal('55.756781')),\n",
       " (Decimal('37.597019'), Decimal('55.766876')),\n",
       " (Decimal('37.57068'), Decimal('55.74599')),\n",
       " (Decimal('37.605032'), Decimal('55.7637')),\n",
       " (Decimal('37.599849'), Decimal('55.750758'))]"
      ]
     },
     "execution_count": 26,
     "metadata": {},
     "output_type": "execute_result"
    }
   ],
   "source": [
    "adress_line(list)"
   ]
  },
  {
   "cell_type": "code",
   "execution_count": 40,
   "metadata": {},
   "outputs": [
    {
     "name": "stdout",
     "output_type": "stream",
     "text": [
      "                                           url           date_saved District1  \\\n",
      "0      https://www.cian.ru/sale/flat/11825143/  2020-04-27 00:08:05      ЮВАО   \n",
      "1      https://www.cian.ru/sale/flat/12047605/  2020-04-29 01:01:33       САО   \n",
      "2      https://www.cian.ru/sale/flat/12108103/  2020-05-18 19:08:01       ЦАО   \n",
      "3       https://www.cian.ru/sale/flat/1217743/  2020-04-30 12:20:18       САО   \n",
      "4      https://www.cian.ru/sale/flat/12939895/  2020-05-01 21:10:36       САО   \n",
      "...                                        ...                  ...       ...   \n",
      "51585  https://www.cian.ru/sale/flat/51105793/  2020-05-19 21:46:02       ВАО   \n",
      "51586  https://www.cian.ru/sale/flat/51936209/  2020-05-20 01:06:11      ЮЗАО   \n",
      "51587   https://www.cian.ru/sale/flat/6651416/  2020-04-26 14:01:07       САО   \n",
      "51588    https://www.cian.ru/sale/flat/889171/  2020-04-28 12:32:29      СЗАО   \n",
      "51589   https://www.cian.ru/sale/flat/9331361/  2020-04-28 13:30:17       ЦАО   \n",
      "\n",
      "      District2                                     ad_breadCrumbs  \\\n",
      "0          ЮВАО  Недвижимость в Москве, Продажа, Продажа 3-комн...   \n",
      "1           САО  Недвижимость в Москве, Продажа, Продажа 3-комн...   \n",
      "2           ЦАО  Недвижимость в Москве, Продажа, Продажа 2-комн...   \n",
      "3           САО  Недвижимость в Москве, Продажа, Продажа 3-комн...   \n",
      "4           САО  Недвижимость в Москве, Продажа, Продажа 2-комн...   \n",
      "...         ...                                                ...   \n",
      "51585       ВАО  Недвижимость в Москве, Продажа, Продажа 2-комн...   \n",
      "51586      ЮЗАО  Недвижимость в Москве, Продажа, Продажа 3-комн...   \n",
      "51587       САО  Недвижимость в Москве, Продажа, Продажа 3-комн...   \n",
      "51588      СЗАО  Недвижимость в Москве, Продажа, Продажа 3-комн...   \n",
      "51589       ЦАО  Недвижимость в Москве, Продажа, Продажа 3-комн...   \n",
      "\n",
      "            ad_change_time ad_objectType  ad_offerPhone    ad_price  \\\n",
      "0      2020-03-20 12:03:00      flat_old   7.985997e+10  18800000.0   \n",
      "1      2020-03-16 14:40:58      flat_old   7.916812e+10  50000000.0   \n",
      "2      2020-03-03 23:34:16      flat_old            NaN  55000000.0   \n",
      "3                      NaN      flat_old   7.964500e+10         NaN   \n",
      "4                      NaN      flat_old   7.964500e+10         NaN   \n",
      "...                    ...           ...            ...         ...   \n",
      "51585  2019-10-03 15:36:21      flat_old   7.925446e+10   7850000.0   \n",
      "51586  2019-06-17 11:27:07      flat_old   7.926987e+10  32500000.0   \n",
      "51587  2019-10-01 08:35:10      flat_old   7.909933e+10   1275000.0   \n",
      "51588  2020-02-20 14:30:05      flat_old   7.903125e+10  33500000.0   \n",
      "51589  2020-04-04 13:20:25      flat_old   7.964500e+10   2000000.0   \n",
      "\n",
      "      ad_price_cur  ...  offer_similarOffersCount  offer_status offer_title  \\\n",
      "0              rur  ...                         0     published         NaN   \n",
      "1              rur  ...                         0     published         NaN   \n",
      "2              rur  ...                         0         draft         NaN   \n",
      "3              NaN  ...                         0     published         NaN   \n",
      "4              NaN  ...                         0     published         NaN   \n",
      "...            ...  ...                       ...           ...         ...   \n",
      "51585          rur  ...                         0     published         NaN   \n",
      "51586          rur  ...                         0     published         NaN   \n",
      "51587          usd  ...                         0     published         NaN   \n",
      "51588          rur  ...                         0     published         NaN   \n",
      "51589          usd  ...                         0     published         NaN   \n",
      "\n",
      "       offer_totalArea  offer_valueAddedServices_isColorized  \\\n",
      "0                106.0                                 False   \n",
      "1                130.0                                 False   \n",
      "2                108.5                                 False   \n",
      "3                 87.0                                 False   \n",
      "4                 55.0                                 False   \n",
      "...                ...                                   ...   \n",
      "51585             45.0                                 False   \n",
      "51586             80.0                                 False   \n",
      "51587            128.0                                 False   \n",
      "51588            113.0                                 False   \n",
      "51589            138.0                                 False   \n",
      "\n",
      "       offer_valueAddedServices_isPaid  offer_valueAddedServices_isPremium  \\\n",
      "0                                 True                               False   \n",
      "1                                 True                               False   \n",
      "2                                False                               False   \n",
      "3                                 True                               False   \n",
      "4                                 True                               False   \n",
      "...                                ...                                 ...   \n",
      "51585                             True                               False   \n",
      "51586                             True                               False   \n",
      "51587                             True                               False   \n",
      "51588                             True                               False   \n",
      "51589                             True                               False   \n",
      "\n",
      "       offer_valueAddedServices_isTop3  offer_wcType  offer_windowsViewType  \n",
      "0                                False           NaN          yardAndStreet  \n",
      "1                                False           NaN          yardAndStreet  \n",
      "2                                False           NaN                 street  \n",
      "3                                False           NaN          yardAndStreet  \n",
      "4                                False           NaN                   yard  \n",
      "...                                ...           ...                    ...  \n",
      "51585                            False           NaN                 street  \n",
      "51586                            False           NaN                   yard  \n",
      "51587                            False           NaN          yardAndStreet  \n",
      "51588                            False           NaN                   yard  \n",
      "51589                            False           NaN                   yard  \n",
      "\n",
      "[51590 rows x 225 columns]\n"
     ]
    }
   ],
   "source": [
    "df_train = pd.read_excel('CianDataset2020.xlsx')\n",
    "print(df_train)"
   ]
  },
  {
   "cell_type": "code",
   "execution_count": 93,
   "metadata": {},
   "outputs": [
    {
     "data": {
      "text/plain": [
       "0        NaN\n",
       "1        NaN\n",
       "2        NaN\n",
       "3        NaN\n",
       "4        NaN\n",
       "        ... \n",
       "51585    NaN\n",
       "51586    NaN\n",
       "51587    NaN\n",
       "51588    NaN\n",
       "51589    NaN\n",
       "Name: offer_geo_railways_10_name, Length: 51590, dtype: object"
      ]
     },
     "execution_count": 93,
     "metadata": {},
     "output_type": "execute_result"
    }
   ],
   "source": [
    "df_train.offer_geo_railways_10_name"
   ]
  },
  {
   "cell_type": "code",
   "execution_count": 175,
   "metadata": {},
   "outputs": [
    {
     "data": {
      "text/plain": [
       "array(['Москва', nan, 'Московская область'], dtype=object)"
      ]
     },
     "execution_count": 175,
     "metadata": {},
     "output_type": "execute_result"
    }
   ],
   "source": [
    "df_train.bti_district_regionTitle.unique()"
   ]
  },
  {
   "cell_type": "code",
   "execution_count": 206,
   "metadata": {},
   "outputs": [
    {
     "data": {
      "text/plain": [
       "0"
      ]
     },
     "execution_count": 206,
     "metadata": {},
     "output_type": "execute_result"
    }
   ],
   "source": [
    "count_nan = len(df_train) - df_train.offer_valueAddedServices_isTop3.count()\n",
    "count_nan"
   ]
  },
  {
   "cell_type": "code",
   "execution_count": 41,
   "metadata": {},
   "outputs": [
    {
     "data": {
      "text/plain": [
       "pandas.core.frame.DataFrame"
      ]
     },
     "execution_count": 41,
     "metadata": {},
     "output_type": "execute_result"
    }
   ],
   "source": [
    "type(df_train)"
   ]
  },
  {
   "cell_type": "code",
   "execution_count": 43,
   "metadata": {},
   "outputs": [
    {
     "data": {
      "text/plain": [
       "array(['ЮВАО', 'САО', 'ЦАО', 'ЗАО', 'ЮАО', 'СВАО', 'ЮЗАО', 'СЗАО', 'ВАО',\n",
       "       'НАО', 'ЗелАО', 'ТАО', nan], dtype=object)"
      ]
     },
     "execution_count": 43,
     "metadata": {},
     "output_type": "execute_result"
    }
   ],
   "source": [
    "df_train.District1.unique()"
   ]
  },
  {
   "cell_type": "code",
   "execution_count": 48,
   "metadata": {},
   "outputs": [],
   "source": [
    "list_columns=df_train.columns.to_list()"
   ]
  },
  {
   "cell_type": "code",
   "execution_count": 49,
   "metadata": {},
   "outputs": [
    {
     "data": {
      "text/plain": [
       "['url',\n",
       " 'date_saved',\n",
       " 'District1',\n",
       " 'District2',\n",
       " 'ad_breadCrumbs',\n",
       " 'ad_change_time',\n",
       " 'ad_objectType',\n",
       " 'ad_offerPhone',\n",
       " 'ad_price',\n",
       " 'ad_price_cur',\n",
       " 'ad_stat_daily',\n",
       " 'ad_stat_total',\n",
       " 'agent_accountType',\n",
       " 'agent_isCianPartner',\n",
       " 'agent_isDeveloper',\n",
       " 'agent_isPrivateBroker',\n",
       " 'agent_isPro',\n",
       " 'agent_isRecidivist',\n",
       " 'agent_isSelfEmployed',\n",
       " 'agent_isSubAgent',\n",
       " 'agent_isUserOffersHasErrors',\n",
       " 'agent_offersCount',\n",
       " 'agent_userTrustLevel',\n",
       " 'agent_userType',\n",
       " 'bti_district_avgHouseAge',\n",
       " 'bti_district_districtTitle',\n",
       " 'bti_district_priceSqm',\n",
       " 'bti_district_priceSqmDiff',\n",
       " 'bti_district_regionTitle',\n",
       " 'bti_district_roomRentPrice',\n",
       " 'bti_district_roomRentPriceDiff',\n",
       " 'bti_district_roomSalePrice',\n",
       " 'bti_district_roomSalePriceDiff',\n",
       " 'bti_house_demolishedInMoscowProgramm',\n",
       " 'bti_house_entrances',\n",
       " 'bti_house_flatCount',\n",
       " 'bti_house_floorMax',\n",
       " 'bti_house_houseGasSupplyType',\n",
       " 'bti_house_houseHeatSupplyType',\n",
       " 'bti_house_houseMaterialType',\n",
       " 'bti_house_houseOverhaulFundType',\n",
       " 'bti_house_houseOverlapType',\n",
       " 'bti_house_isEmergency',\n",
       " 'bti_house_lifts',\n",
       " 'bti_house_priceCian',\n",
       " 'bti_house_priceCianMax',\n",
       " 'bti_house_priceCianMin',\n",
       " 'bti_house_priceSqm',\n",
       " 'bti_house_priceSqmDiff',\n",
       " 'bti_house_roomRentPrice',\n",
       " 'bti_house_roomRentPriceDiff',\n",
       " 'bti_house_seriesName',\n",
       " 'bti_house_yearRelease',\n",
       " 'company_newobjectsCount',\n",
       " 'company_offersCount',\n",
       " 'company_yearFoundation',\n",
       " 'demandJsonQuery_price_gte',\n",
       " 'demandJsonQuery_price_lte',\n",
       " 'newObject_stats_done',\n",
       " 'newObject_stats_progress',\n",
       " 'newObject_status',\n",
       " 'offer_added',\n",
       " 'offer_allRoomsArea',\n",
       " 'offer_archivedDate',\n",
       " 'offer_balconiesCount',\n",
       " 'offer_bargainTerms_agentBonus_currency',\n",
       " 'offer_bargainTerms_agentBonus_paymentType',\n",
       " 'offer_bargainTerms_agentBonus_value',\n",
       " 'offer_bargainTerms_currency',\n",
       " 'offer_bargainTerms_deposit',\n",
       " 'offer_bargainTerms_depositPrices_eur',\n",
       " 'offer_bargainTerms_depositPrices_rur',\n",
       " 'offer_bargainTerms_depositPrices_usd',\n",
       " 'offer_bargainTerms_leaseTermType',\n",
       " 'offer_bargainTerms_mortgageAllowed',\n",
       " 'offer_bargainTerms_price',\n",
       " 'offer_bargainTerms_prices_eur',\n",
       " 'offer_bargainTerms_prices_rur',\n",
       " 'offer_bargainTerms_prices_usd',\n",
       " 'offer_bargainTerms_saleType',\n",
       " 'offer_breadCrumbs',\n",
       " 'offer_building_buildYear',\n",
       " 'offer_building_cargoLiftsCount',\n",
       " 'offer_building_ceilingHeight',\n",
       " 'offer_building_deadline_isComplete',\n",
       " 'offer_building_deadline_quarter',\n",
       " 'offer_building_deadline_quarterEnd',\n",
       " 'offer_building_deadline_year',\n",
       " 'offer_building_floorsCount',\n",
       " 'offer_building_hasGarbageChute',\n",
       " 'offer_building_houseMaterialType',\n",
       " 'offer_building_materialType',\n",
       " 'offer_building_name',\n",
       " 'offer_building_parking_type',\n",
       " 'offer_building_passengerLiftsCount',\n",
       " 'offer_building_series',\n",
       " 'offer_building_totalArea',\n",
       " 'offer_cargoLiftsCount',\n",
       " 'offer_category',\n",
       " 'offer_combinedWcsCount',\n",
       " 'offer_deadline_isComplete',\n",
       " 'offer_deadline_quarter',\n",
       " 'offer_deadline_quarterEnd',\n",
       " 'offer_deadline_year',\n",
       " 'offer_decoration',\n",
       " 'offer_demolishedInMoscowProgramm',\n",
       " 'offer_description',\n",
       " 'offer_editDate',\n",
       " 'offer_flatType',\n",
       " 'offer_floorNumber',\n",
       " 'offer_geo_coordinates_lat',\n",
       " 'offer_geo_coordinates_lng',\n",
       " 'offer_geo_highways_1_distance',\n",
       " 'offer_geo_highways_1_name',\n",
       " 'offer_geo_highways_2_distance',\n",
       " 'offer_geo_highways_2_name',\n",
       " 'offer_geo_highways_3_distance',\n",
       " 'offer_geo_highways_3_name',\n",
       " 'offer_geo_jk_displayName',\n",
       " 'offer_geo_railways_10_name',\n",
       " 'offer_geo_railways_10_time',\n",
       " 'offer_geo_railways_10_travelType',\n",
       " 'offer_geo_railways_11_name',\n",
       " 'offer_geo_railways_11_time',\n",
       " 'offer_geo_railways_11_travelType',\n",
       " 'offer_geo_railways_12_name',\n",
       " 'offer_geo_railways_12_time',\n",
       " 'offer_geo_railways_12_travelType',\n",
       " 'offer_geo_railways_1_name',\n",
       " 'offer_geo_railways_1_time',\n",
       " 'offer_geo_railways_1_travelType',\n",
       " 'offer_geo_railways_2_name',\n",
       " 'offer_geo_railways_2_time',\n",
       " 'offer_geo_railways_2_travelType',\n",
       " 'offer_geo_railways_3_name',\n",
       " 'offer_geo_railways_3_time',\n",
       " 'offer_geo_railways_3_travelType',\n",
       " 'offer_geo_railways_4_name',\n",
       " 'offer_geo_railways_4_time',\n",
       " 'offer_geo_railways_4_travelType',\n",
       " 'offer_geo_railways_5_name',\n",
       " 'offer_geo_railways_5_time',\n",
       " 'offer_geo_railways_5_travelType',\n",
       " 'offer_geo_railways_6_name',\n",
       " 'offer_geo_railways_6_time',\n",
       " 'offer_geo_railways_6_travelType',\n",
       " 'offer_geo_railways_7_name',\n",
       " 'offer_geo_railways_7_time',\n",
       " 'offer_geo_railways_7_travelType',\n",
       " 'offer_geo_railways_8_name',\n",
       " 'offer_geo_railways_8_time',\n",
       " 'offer_geo_railways_8_travelType',\n",
       " 'offer_geo_railways_9_name',\n",
       " 'offer_geo_railways_9_time',\n",
       " 'offer_geo_railways_9_travelType',\n",
       " 'offer_geo_undergrounds_1_lineColor',\n",
       " 'offer_geo_undergrounds_1_name',\n",
       " 'offer_geo_undergrounds_1_releaseYear',\n",
       " 'offer_geo_undergrounds_1_travelTime',\n",
       " 'offer_geo_undergrounds_1_travelType',\n",
       " 'offer_geo_undergrounds_1_underConstruction',\n",
       " 'offer_geo_undergrounds_2_lineColor',\n",
       " 'offer_geo_undergrounds_2_name',\n",
       " 'offer_geo_undergrounds_2_releaseYear',\n",
       " 'offer_geo_undergrounds_2_travelTime',\n",
       " 'offer_geo_undergrounds_2_travelType',\n",
       " 'offer_geo_undergrounds_2_underConstruction',\n",
       " 'offer_geo_undergrounds_3_lineColor',\n",
       " 'offer_geo_undergrounds_3_name',\n",
       " 'offer_geo_undergrounds_3_releaseYear',\n",
       " 'offer_geo_undergrounds_3_travelTime',\n",
       " 'offer_geo_undergrounds_3_travelType',\n",
       " 'offer_geo_undergrounds_3_underConstruction',\n",
       " 'offer_hasFurniture',\n",
       " 'offer_hasPhone',\n",
       " 'offer_hasRamp',\n",
       " 'offer_homeownerProofs',\n",
       " 'offer_isApartments',\n",
       " 'offer_isByHomeowner',\n",
       " 'offer_isFromBuilder',\n",
       " 'offer_isFromSeller',\n",
       " 'offer_isImported',\n",
       " 'offer_isInHiddenBase',\n",
       " 'offer_isPenthouse',\n",
       " 'offer_kitchenArea',\n",
       " 'offer_livingArea',\n",
       " 'offer_loggiasCount',\n",
       " 'offer_newbuilding_house_isFinished',\n",
       " 'offer_newbuilding_house_isReliable',\n",
       " 'offer_newbuilding_house_name',\n",
       " 'offer_newbuilding_isFromBuilder',\n",
       " 'offer_newbuilding_isFromDeveloper',\n",
       " 'offer_newbuilding_isFromLeadFactory',\n",
       " 'offer_newbuilding_isFromSeller',\n",
       " 'offer_newbuilding_isReliable',\n",
       " 'offer_newbuilding_name',\n",
       " 'offer_newbuilding_newbuildingFeatures_deadlineInfo',\n",
       " 'offer_newbuilding_newbuildingFeatures_imagesCount',\n",
       " 'offer_newbuilding_newbuildingFeatures_videosCount',\n",
       " 'offer_newbuilding_showJkReliableFlag',\n",
       " 'offer_passengerLiftsCount',\n",
       " 'offer_promoLabel',\n",
       " 'offer_publicationDate',\n",
       " 'offer_publishTerms_autoprolong',\n",
       " 'offer_publishTerms_terms_days',\n",
       " 'offer_publishTerms_terms_services',\n",
       " 'offer_publishTerms_terms_tariff',\n",
       " 'offer_publishTerms_terms_type',\n",
       " 'offer_rentByPartsDescription',\n",
       " 'offer_repairType',\n",
       " 'offer_roomType',\n",
       " 'offer_roomsCount',\n",
       " 'offer_roomsForSaleCount',\n",
       " 'offer_rosreestrCheck',\n",
       " 'offer_separateWcsCount',\n",
       " 'offer_similarOffersCount',\n",
       " 'offer_status',\n",
       " 'offer_title',\n",
       " 'offer_totalArea',\n",
       " 'offer_valueAddedServices_isColorized',\n",
       " 'offer_valueAddedServices_isPaid',\n",
       " 'offer_valueAddedServices_isPremium',\n",
       " 'offer_valueAddedServices_isTop3',\n",
       " 'offer_wcType',\n",
       " 'offer_windowsViewType']"
      ]
     },
     "execution_count": 49,
     "metadata": {},
     "output_type": "execute_result"
    }
   ],
   "source": [
    "list_columns"
   ]
  },
  {
   "cell_type": "code",
   "execution_count": 207,
   "metadata": {},
   "outputs": [],
   "source": [
    "df_train1=df_train.drop(columns=['offer_livingArea','offer_kitchenArea','offer_geo_railways_7_travelType','offer_building_hasGarbageChute','offer_building_buildYear','offer_bargainTerms_prices_usd','offer_bargainTerms_prices_rur','offer_bargainTerms_prices_eur','bti_district_regionTitle','offer_bargainTerms_leaseTermType','offer_balconiesCount','offer_building_materialType','offer_building_houseMaterialType','District2','ad_change_time','offer_wcType','offer_combinedWcsCount','url','date_saved','ad_breadCrumbs','ad_offerPhone','ad_price_cur','agent_isCianPartner','agent_isDeveloper','agent_isPrivateBroker','agent_isPro','agent_isRecidivist','agent_isSelfEmployed','agent_isSubAgent','agent_isUserOffersHasErrors','agent_userType','bti_house_houseOverhaulFundType','bti_house_isEmergency','bti_house_seriesName','company_newobjectsCount','company_offersCount','company_yearFoundation','newObject_stats_done','newObject_stats_progress','newObject_status','offer_added','offer_allRoomsArea','offer_archivedDate','offer_bargainTerms_agentBonus_currency','offer_bargainTerms_agentBonus_paymentType','offer_bargainTerms_agentBonus_value','offer_bargainTerms_currency','offer_bargainTerms_deposit','offer_bargainTerms_depositPrices_eur','offer_bargainTerms_depositPrices_rur','offer_bargainTerms_depositPrices_usd','offer_bargainTerms_saleType','offer_breadCrumbs','offer_building_ceilingHeight','offer_building_deadline_isComplete','offer_building_deadline_quarter','offer_building_deadline_quarterEnd','offer_building_deadline_year','offer_building_name','offer_building_parking_type','offer_building_passengerLiftsCount','offer_building_series','offer_cargoLiftsCount','offer_category','offer_deadline_isComplete','offer_deadline_quarter','offer_deadline_quarterEnd','offer_deadline_year','offer_decoration','offer_demolishedInMoscowProgramm','offer_description','offer_editDate','offer_flatType','offer_geo_highways_1_distance','offer_geo_highways_1_name','offer_geo_highways_2_distance','offer_geo_highways_2_name','offer_geo_highways_3_distance','offer_geo_highways_3_name','offer_geo_jk_displayName','offer_geo_railways_10_name','offer_geo_railways_10_time','offer_geo_railways_10_travelType','offer_geo_railways_11_name','offer_geo_railways_11_time','offer_geo_railways_11_travelType','offer_geo_railways_12_name','offer_geo_railways_12_time','offer_geo_railways_12_travelType','offer_geo_railways_7_name','offer_geo_railways_7_time','offer_geo_railways_7_time','offer_geo_railways_8_name','offer_geo_railways_8_time','offer_geo_railways_8_travelType','offer_geo_railways_9_name','offer_geo_railways_9_time','offer_geo_railways_9_travelType','offer_geo_undergrounds_1_releaseYear','offer_geo_undergrounds_2_lineColor','offer_geo_undergrounds_2_name','offer_geo_undergrounds_2_releaseYear','offer_geo_undergrounds_2_travelTime','offer_geo_undergrounds_2_travelType','offer_geo_undergrounds_2_underConstruction','offer_geo_undergrounds_3_name','offer_geo_undergrounds_3_releaseYear','offer_geo_undergrounds_3_lineColor','offer_geo_undergrounds_3_travelTime','offer_geo_undergrounds_3_travelType','offer_geo_undergrounds_3_underConstruction','offer_hasFurniture','offer_hasPhone','offer_hasRamp','offer_homeownerProofs','offer_isApartments','offer_isByHomeowner','offer_isFromBuilder','offer_isFromSeller','offer_isImported','offer_isInHiddenBase','offer_isPenthouse','offer_loggiasCount','offer_newbuilding_house_isFinished','offer_newbuilding_house_isReliable','offer_newbuilding_house_name','offer_newbuilding_isFromBuilder','offer_newbuilding_isFromDeveloper','offer_newbuilding_isFromLeadFactory','offer_newbuilding_isFromSeller','offer_newbuilding_isReliable','offer_newbuilding_name','offer_newbuilding_newbuildingFeatures_deadlineInfo','offer_newbuilding_newbuildingFeatures_imagesCount','offer_newbuilding_newbuildingFeatures_videosCount','offer_newbuilding_showJkReliableFlag','offer_passengerLiftsCount','offer_promoLabel','offer_publicationDate','offer_publishTerms_autoprolong','offer_publishTerms_terms_days','offer_publishTerms_terms_services','offer_publishTerms_terms_tariff','offer_publishTerms_terms_type','offer_rentByPartsDescription','offer_repairType','offer_roomType','offer_roomsForSaleCount','offer_rosreestrCheck','offer_separateWcsCount','offer_status','offer_title','offer_valueAddedServices_isColorized','offer_valueAddedServices_isPaid','offer_valueAddedServices_isPremium','offer_windowsViewType'])"
   ]
  },
  {
   "cell_type": "code",
   "execution_count": 208,
   "metadata": {},
   "outputs": [
    {
     "data": {
      "text/plain": [
       "Index(['District1', 'ad_objectType', 'ad_price', 'ad_stat_daily',\n",
       "       'ad_stat_total', 'agent_accountType', 'agent_offersCount',\n",
       "       'agent_userTrustLevel', 'bti_district_avgHouseAge',\n",
       "       'bti_district_districtTitle', 'bti_district_priceSqm',\n",
       "       'bti_district_priceSqmDiff', 'bti_district_roomRentPrice',\n",
       "       'bti_district_roomRentPriceDiff', 'bti_district_roomSalePrice',\n",
       "       'bti_district_roomSalePriceDiff',\n",
       "       'bti_house_demolishedInMoscowProgramm', 'bti_house_entrances',\n",
       "       'bti_house_flatCount', 'bti_house_floorMax',\n",
       "       'bti_house_houseGasSupplyType', 'bti_house_houseHeatSupplyType',\n",
       "       'bti_house_houseMaterialType', 'bti_house_houseOverlapType',\n",
       "       'bti_house_lifts', 'bti_house_priceCian', 'bti_house_priceCianMax',\n",
       "       'bti_house_priceCianMin', 'bti_house_priceSqm',\n",
       "       'bti_house_priceSqmDiff', 'bti_house_roomRentPrice',\n",
       "       'bti_house_roomRentPriceDiff', 'bti_house_yearRelease',\n",
       "       'demandJsonQuery_price_gte', 'demandJsonQuery_price_lte',\n",
       "       'offer_bargainTerms_mortgageAllowed', 'offer_bargainTerms_price',\n",
       "       'offer_building_cargoLiftsCount', 'offer_building_floorsCount',\n",
       "       'offer_building_totalArea', 'offer_floorNumber',\n",
       "       'offer_geo_coordinates_lat', 'offer_geo_coordinates_lng',\n",
       "       'offer_geo_railways_1_name', 'offer_geo_railways_1_time',\n",
       "       'offer_geo_railways_1_travelType', 'offer_geo_railways_2_name',\n",
       "       'offer_geo_railways_2_time', 'offer_geo_railways_2_travelType',\n",
       "       'offer_geo_railways_3_name', 'offer_geo_railways_3_time',\n",
       "       'offer_geo_railways_3_travelType', 'offer_geo_railways_4_name',\n",
       "       'offer_geo_railways_4_time', 'offer_geo_railways_4_travelType',\n",
       "       'offer_geo_railways_5_name', 'offer_geo_railways_5_time',\n",
       "       'offer_geo_railways_5_travelType', 'offer_geo_railways_6_name',\n",
       "       'offer_geo_railways_6_time', 'offer_geo_railways_6_travelType',\n",
       "       'offer_geo_undergrounds_1_lineColor', 'offer_geo_undergrounds_1_name',\n",
       "       'offer_geo_undergrounds_1_travelTime',\n",
       "       'offer_geo_undergrounds_1_travelType',\n",
       "       'offer_geo_undergrounds_1_underConstruction', 'offer_roomsCount',\n",
       "       'offer_similarOffersCount', 'offer_totalArea',\n",
       "       'offer_valueAddedServices_isTop3'],\n",
       "      dtype='object')"
      ]
     },
     "execution_count": 208,
     "metadata": {},
     "output_type": "execute_result"
    }
   ],
   "source": [
    "df_train1.columns"
   ]
  },
  {
   "cell_type": "code",
   "execution_count": 45,
   "metadata": {},
   "outputs": [
    {
     "data": {
      "text/plain": [
       "12700000.0"
      ]
     },
     "execution_count": 45,
     "metadata": {},
     "output_type": "execute_result"
    }
   ],
   "source": [
    "df_train.ad_price[16]"
   ]
  },
  {
   "cell_type": "code",
   "execution_count": 36,
   "metadata": {},
   "outputs": [],
   "source": [
    "import matplotlib.pyplot as plt\n",
    "import seaborn as sns\n",
    "from sklearn.ensemble import RandomForestRegressor\n",
    "from sklearn.model_selection import train_test_split\n",
    "from sklearn.preprocessing import LabelEncoder\n",
    "from sklearn.metrics import mean_squared_error, r2_score, mean_absolute_error\n",
    "from sklearn.model_selection import GridSearchCV"
   ]
  },
  {
   "cell_type": "code",
   "execution_count": 37,
   "metadata": {},
   "outputs": [],
   "source": [
    "import numpy as np\n",
    "import pandas as pd\n",
    "import matplotlib.pyplot as plt\n",
    "import seaborn as sns\n",
    "from IPython.display import display\n",
    "import numpy as np\n",
    "import pandas as pd\n",
    "import matplotlib.pyplot as plt\n",
    "import seaborn as sns\n",
    "from IPython.display import display\n",
    "\n",
    "from sklearn.pipeline import Pipeline\n",
    "from sklearn.preprocessing import MinMaxScaler, StandardScaler, RobustScaler\n",
    "from sklearn.model_selection import train_test_split, cross_val_score, GridSearchCV, KFold \n",
    "from sklearn.neighbors import KNeighborsClassifier \n",
    "from sklearn.linear_model import LogisticRegression\n",
    "from sklearn.ensemble import RandomForestClassifier\n",
    "from sklearn.model_selection import StratifiedShuffleSplit\n",
    "from sklearn import svm\n",
    "from sklearn.ensemble import GradientBoostingClassifier\n",
    "from sklearn.preprocessing import PolynomialFeatures\n",
    "from sklearn.tree import DecisionTreeClassifier\n",
    "from sklearn.metrics import f1_score"
   ]
  },
  {
   "cell_type": "code",
   "execution_count": 149,
   "metadata": {},
   "outputs": [
    {
     "ename": "ValueError",
     "evalue": "Input contains NaN, infinity or a value too large for dtype('float64').",
     "output_type": "error",
     "traceback": [
      "\u001b[1;31m---------------------------------------------------------------------------\u001b[0m",
      "\u001b[1;31mValueError\u001b[0m                                Traceback (most recent call last)",
      "\u001b[1;32m<ipython-input-149-96f43e6d901e>\u001b[0m in \u001b[0;36m<module>\u001b[1;34m\u001b[0m\n\u001b[0;32m      5\u001b[0m \u001b[1;31m# сплитуйте X и y как хотите\u001b[0m\u001b[1;33m\u001b[0m\u001b[1;33m\u001b[0m\u001b[1;33m\u001b[0m\u001b[0m\n\u001b[0;32m      6\u001b[0m X_train, X_test, y_train, y_test = train_test_split(X, y, test_size = 0.1, random_state=0, \n\u001b[1;32m----> 7\u001b[1;33m                                                     shuffle=True, stratify = df_train.ad_price)\n\u001b[0m",
      "\u001b[1;32m~\\anaconda3\\lib\\site-packages\\sklearn\\model_selection\\_split.py\u001b[0m in \u001b[0;36mtrain_test_split\u001b[1;34m(*arrays, **options)\u001b[0m\n\u001b[0;32m   2141\u001b[0m                      random_state=random_state)\n\u001b[0;32m   2142\u001b[0m \u001b[1;33m\u001b[0m\u001b[0m\n\u001b[1;32m-> 2143\u001b[1;33m         \u001b[0mtrain\u001b[0m\u001b[1;33m,\u001b[0m \u001b[0mtest\u001b[0m \u001b[1;33m=\u001b[0m \u001b[0mnext\u001b[0m\u001b[1;33m(\u001b[0m\u001b[0mcv\u001b[0m\u001b[1;33m.\u001b[0m\u001b[0msplit\u001b[0m\u001b[1;33m(\u001b[0m\u001b[0mX\u001b[0m\u001b[1;33m=\u001b[0m\u001b[0marrays\u001b[0m\u001b[1;33m[\u001b[0m\u001b[1;36m0\u001b[0m\u001b[1;33m]\u001b[0m\u001b[1;33m,\u001b[0m \u001b[0my\u001b[0m\u001b[1;33m=\u001b[0m\u001b[0mstratify\u001b[0m\u001b[1;33m)\u001b[0m\u001b[1;33m)\u001b[0m\u001b[1;33m\u001b[0m\u001b[1;33m\u001b[0m\u001b[0m\n\u001b[0m\u001b[0;32m   2144\u001b[0m \u001b[1;33m\u001b[0m\u001b[0m\n\u001b[0;32m   2145\u001b[0m     return list(chain.from_iterable((_safe_indexing(a, train),\n",
      "\u001b[1;32m~\\anaconda3\\lib\\site-packages\\sklearn\\model_selection\\_split.py\u001b[0m in \u001b[0;36msplit\u001b[1;34m(self, X, y, groups)\u001b[0m\n\u001b[0;32m   1735\u001b[0m         \u001b[0mto\u001b[0m \u001b[0man\u001b[0m \u001b[0minteger\u001b[0m\u001b[1;33m.\u001b[0m\u001b[1;33m\u001b[0m\u001b[1;33m\u001b[0m\u001b[0m\n\u001b[0;32m   1736\u001b[0m         \"\"\"\n\u001b[1;32m-> 1737\u001b[1;33m         \u001b[0my\u001b[0m \u001b[1;33m=\u001b[0m \u001b[0mcheck_array\u001b[0m\u001b[1;33m(\u001b[0m\u001b[0my\u001b[0m\u001b[1;33m,\u001b[0m \u001b[0mensure_2d\u001b[0m\u001b[1;33m=\u001b[0m\u001b[1;32mFalse\u001b[0m\u001b[1;33m,\u001b[0m \u001b[0mdtype\u001b[0m\u001b[1;33m=\u001b[0m\u001b[1;32mNone\u001b[0m\u001b[1;33m)\u001b[0m\u001b[1;33m\u001b[0m\u001b[1;33m\u001b[0m\u001b[0m\n\u001b[0m\u001b[0;32m   1738\u001b[0m         \u001b[1;32mreturn\u001b[0m \u001b[0msuper\u001b[0m\u001b[1;33m(\u001b[0m\u001b[1;33m)\u001b[0m\u001b[1;33m.\u001b[0m\u001b[0msplit\u001b[0m\u001b[1;33m(\u001b[0m\u001b[0mX\u001b[0m\u001b[1;33m,\u001b[0m \u001b[0my\u001b[0m\u001b[1;33m,\u001b[0m \u001b[0mgroups\u001b[0m\u001b[1;33m)\u001b[0m\u001b[1;33m\u001b[0m\u001b[1;33m\u001b[0m\u001b[0m\n\u001b[0;32m   1739\u001b[0m \u001b[1;33m\u001b[0m\u001b[0m\n",
      "\u001b[1;32m~\\anaconda3\\lib\\site-packages\\sklearn\\utils\\validation.py\u001b[0m in \u001b[0;36mcheck_array\u001b[1;34m(array, accept_sparse, accept_large_sparse, dtype, order, copy, force_all_finite, ensure_2d, allow_nd, ensure_min_samples, ensure_min_features, warn_on_dtype, estimator)\u001b[0m\n\u001b[0;32m    576\u001b[0m         \u001b[1;32mif\u001b[0m \u001b[0mforce_all_finite\u001b[0m\u001b[1;33m:\u001b[0m\u001b[1;33m\u001b[0m\u001b[1;33m\u001b[0m\u001b[0m\n\u001b[0;32m    577\u001b[0m             _assert_all_finite(array,\n\u001b[1;32m--> 578\u001b[1;33m                                allow_nan=force_all_finite == 'allow-nan')\n\u001b[0m\u001b[0;32m    579\u001b[0m \u001b[1;33m\u001b[0m\u001b[0m\n\u001b[0;32m    580\u001b[0m     \u001b[1;32mif\u001b[0m \u001b[0mensure_min_samples\u001b[0m \u001b[1;33m>\u001b[0m \u001b[1;36m0\u001b[0m\u001b[1;33m:\u001b[0m\u001b[1;33m\u001b[0m\u001b[1;33m\u001b[0m\u001b[0m\n",
      "\u001b[1;32m~\\anaconda3\\lib\\site-packages\\sklearn\\utils\\validation.py\u001b[0m in \u001b[0;36m_assert_all_finite\u001b[1;34m(X, allow_nan, msg_dtype)\u001b[0m\n\u001b[0;32m     58\u001b[0m                     \u001b[0mmsg_err\u001b[0m\u001b[1;33m.\u001b[0m\u001b[0mformat\u001b[0m\u001b[1;33m\u001b[0m\u001b[1;33m\u001b[0m\u001b[0m\n\u001b[0;32m     59\u001b[0m                     (type_err,\n\u001b[1;32m---> 60\u001b[1;33m                      msg_dtype if msg_dtype is not None else X.dtype)\n\u001b[0m\u001b[0;32m     61\u001b[0m             )\n\u001b[0;32m     62\u001b[0m     \u001b[1;31m# for object dtype data, we only check for NaNs (GH-13254)\u001b[0m\u001b[1;33m\u001b[0m\u001b[1;33m\u001b[0m\u001b[1;33m\u001b[0m\u001b[0m\n",
      "\u001b[1;31mValueError\u001b[0m: Input contains NaN, infinity or a value too large for dtype('float64')."
     ]
    }
   ],
   "source": [
    "# обязательный код\n",
    "df=df_train1.copy()\n",
    "X=df.drop(columns=['ad_price']).values\n",
    "y=df.ad_price.values\n",
    "# сплитуйте X и y как хотите\n",
    "X_train, X_test, y_train, y_test = train_test_split(X, y, test_size = 0.1, random_state=0, \n",
    "                                                    shuffle=True, stratify = df_train.ad_price)"
   ]
  },
  {
   "cell_type": "code",
   "execution_count": 150,
   "metadata": {},
   "outputs": [],
   "source": [
    "df_train1.to_csv('cian')"
   ]
  },
  {
   "cell_type": "code",
   "execution_count": 210,
   "metadata": {},
   "outputs": [],
   "source": [
    "df_train1.to_excel('cian_n.xlsx')"
   ]
  },
  {
   "cell_type": "code",
   "execution_count": 209,
   "metadata": {},
   "outputs": [
    {
     "data": {
      "text/plain": [
       "District1                                     51584\n",
       "ad_objectType                                 51590\n",
       "ad_price                                      51448\n",
       "ad_stat_daily                                 51515\n",
       "ad_stat_total                                 51515\n",
       "                                              ...  \n",
       "offer_geo_undergrounds_1_underConstruction    49924\n",
       "offer_roomsCount                              51573\n",
       "offer_similarOffersCount                      51590\n",
       "offer_totalArea                               51590\n",
       "offer_valueAddedServices_isTop3               51590\n",
       "Length: 70, dtype: int64"
      ]
     },
     "execution_count": 209,
     "metadata": {},
     "output_type": "execute_result"
    }
   ],
   "source": [
    "df_train1.count()"
   ]
  },
  {
   "cell_type": "code",
   "execution_count": 214,
   "metadata": {},
   "outputs": [
    {
     "ename": "SyntaxError",
     "evalue": "invalid syntax (<ipython-input-214-a0f4292a05dc>, line 1)",
     "output_type": "error",
     "traceback": [
      "\u001b[1;36m  File \u001b[1;32m\"<ipython-input-214-a0f4292a05dc>\"\u001b[1;36m, line \u001b[1;32m1\u001b[0m\n\u001b[1;33m    var fruits = [];\u001b[0m\n\u001b[1;37m             ^\u001b[0m\n\u001b[1;31mSyntaxError\u001b[0m\u001b[1;31m:\u001b[0m invalid syntax\n"
     ]
    }
   ],
   "source": [
    "var fruits = [];\n",
    "var image = document.querySelectorAll(\"div.search-business-snippet-view__address\");\n",
    "for (var i = 0; i<image.length; i++){\n",
    "      fruits.push(image[i].textContent);\n",
    "}\n",
    "fruits\n",
    "var slice1 = fruits.slice(300, 400)\n",
    "slice1"
   ]
  },
  {
   "cell_type": "code",
   "execution_count": 235,
   "metadata": {},
   "outputs": [],
   "source": [
    "slice1=[\"Kosmodamianskaya Embankment, 52с6\", \"Bolshoy Cherkassky Lane, 15-17с1\", \"Taganskaya Street, 21\", \"Blagoveschensky Lane, 1А\", \"Tverskoy Boulevard, 26А\", \"Trubnaya Square, 2\", \"Kutuzovsky Avenue, 2/1с6\", \"1905 Goda Street, 10с1\", \"1905 Goda Street, 2\", \"Krasnaya Presnya Street, 32-34с3\", \"Malaya Bronnaya Street, 13\", \"Bolshaya Nikitskaya Street, 12с1, эт. 1\", \"Presnensky Val Street, 6с1\", \"Smolenskaya Square, 3\", \"Bryusov Lane, 2/14с1\", \"Kutuzovsky Avenue, 2/1с6\", \"Лесная улица, 7\", \"Большой Путинковский переулок, 5, эт. 3\", \"Bolshoy Cherkassky Lane, 15-17с1\", \"Tryokhprudny Lane, 10/2с2, эт. 1, 2\", \"Derbenevskaya Street, 3\", \"Vereyskaya Street, 29с137\", \"Maly Cherkassky Lane, 2\", \"Nikolskaya Street, 10, ТЦ Никольская Плаза, эт. 1\", \"Moscow, Sretenka Street, 1\", \"Moscow, Zatsepsky Val Street, 5\", \"Moscow, Sytinsky Blind Alley, 3, этаж цокольный\", \"Moscow, Mokhovaya Street, 15/1, эт. 1\", \"Moscow, Pyatnitskaya Street, 3/4с1\", \"Moscow, Nikolskaya Street, 19-21/1\", \"Москва, Мясницкая улица, 13, стр. 3\", \"Moscow, Presnenskaya Embankment, 8с1, БЦ Москва Сити Башня, эт. 1\", \"Moscow, Petrovka Street, 20/1, эт. цокольный\", \"Moscow, Kudrinskaya Square, 1\", \"Moscow, Neverovskogo Street, 10с6\", \"Moscow, Leningradskiy Avenue, 24А\", \"Moscow, Tsvetnoy Boulevard, 2\", \"Moscow, Podsosensky Lane, 32/11с2\", \"Москва, улица Народного Ополчения, 28, корп. 1, справа от, магазин БИЛЛА\", \"Moscow, Pyatnitskaya Street, 74с3\", \"Moscow, Krasnopresnenskaya Embankment, 16с1\", \"Moscow, Myasnitskaya Street, 40А\", \"Moscow, Bolshaya Ordynka Street, 20с7\", \"Moscow, Lazarevsky Lane, 4\", \"Moscow, Nikitsky Boulevard, 12, эт. 1\", \"Moscow, 60-letiya Oktyabrya Avenue, 27\", \"Moscow, Pozharsky Lane, 15\", \"Moscow, Tryokhprudny Lane, 4с1, этаж 1\", \"Moscow, Marksistskaya Street, 20\", \"Moscow, Solyanka Street, 1/2\", \"Moscow, Rusakovskaya Street, 24, эт. 25\", \"Moscow, Lesnaya Street, 20с3\", \"Moscow, Profsoyuznaya Street, 76, эт. 1\", \"Moscow, Paveletskaya Square, 2с1\", \"Moscow, Kuznetsky Most Street, 21/5\", \"Moscow, Kozitsky Lane, 1Ас2\", \"Moscow, Presnenskaya Embankment, 4с1, этаж 1\", \"Moscow, Goncharnaya Street, 7/4с1\", \"Moscow, Kuznetsky Most Street, 7\", \"Moscow, Konyushkovskaya Street, 34с1\", \"Москва, Мансуровский переулок, 12\", \"Moscow, Prechistenskaya Embankment, 15с2\", \"Moscow, Mira Avenue, 36с1\", \"Moscow, Stolyarny Lane, 7с1\", \"Moscow, Vorontsovskaya Street, 35Бк2\", \"Moscow, 1st Tverskaya-Yamskaya Street, 16/23с1\", \"Moscow, Strastnoy Boulevard, 6с2\", \"Moscow, Bolshoy Palashyovsky Lane, 2/12, эт. 1\", \"Moscow, Rochdelskaya Street, 15с8\", \"Moscow, Povarskaya Street, 50/53с1\", \"Moscow, Kaluzhskaya Square, 1к2, эт. 1\", \"Moscow, Sretenka Street, 1, эт. цокольный\", \"Moscow, Pokrovka Street, 19\", \"Moscow, Bolshaya Dmitrovka Street, 32\", \"Moscow, Krasnokholmskaya Embankment, 1с3\", \"Moscow, Maroseyka Street, 15\", \"Moscow, Presnenskaya Embankment, 8с1\", \"Moscow, Shelepikhinskaya Embankment, 20\", \"Moscow, Presnenskaya Embankment, 8с1\", \"Moscow, Masterkova Street, 8, эт. 2\", \"Moscow, Mokhovaya Street, 11с3\", \"Moscow, Rozhdestvensky Boulevard, 20\", \"Moscow, Slavyanskaya Square, 2\", \"Moscow, Sadovnicheskaya Street, 57с1, эт. цокольный\", \"Moscow, Pyatnitskaya Street, 30с4, эт. 1\", \"Moscow, Lukov Lane, 10\", \"Moscow, Dmitrovskoye Highway, 13А, этаж 2\", \"Moscow, Pyatnitskaya Street, 52с1\", \"Moscow, Malaya Sukharevskaya Square, 2-4, этаж цокольный\", \"Moscow, Neverovskogo Street, 15\", \"Москва, Лубянский проезд, 15, стр. 2\", \"Moscow, Sretenka Street, 4\", \"Moscow, Komsomolsky Avenue, 42с3\", \"Moscow, Pyatnitskaya Street, 26\", \"Moscow, Kutuzovsky Avenue, 2/1с6\", \"Moscow, Rochdelskaya Street, 15с7\", \"Moscow, Bolshaya Polyanka Street, 51А/9\", \"Moscow, Lesnaya Street, 5сБ\", \"Moscow, Verkhnyaya Maslovka Street, 20с1\"]"
   ]
  },
  {
   "cell_type": "code",
   "execution_count": 212,
   "metadata": {},
   "outputs": [],
   "source": [
    "slice2=[\"Moscow, Stoletova Street, 7к1, эт. 1\", \"Moscow, Timiryazevskaya Street, 10/12\", \"Moscow, Bolshaya Lubyanka Street, 13/16с1\", \"Moscow, Kutuzovsky Avenue, 48, ТЦ Времена года, эт. 5\", \"Moscow, Presnenskaya Embankment, 12, Башня Федерация, эт 52\", \"Moscow, Leningradskiy Avenue, 66, 1 этаж\", \"Moscow, Lavrushinsky Lane, 10с1\", \"Moscow, Tverskaya Street, 9Ас6\", \"Москва, Большая Пироговская улица, 27\", \"Moscow, Bolshaya Pirogovskaya Street, 37-43кА\", \"Москва, Садовническая набережная, 75\", \"Москва, улица Сретенка, 7, эт. 1\", \"Moscow, Tverskaya Street, 17\", \"Москва, улица Остоженка, 27, корп. 2\", \"Moscow, Malaya Nikitskaya Street, 20с1, эт. цокольный\", \"Moscow, Malaya Sukharevskaya Square, 8, этаж 1\", \"Moscow, Lva Tolstogo Street, 23к7с3\", \"Moscow, Mira Avenue, 26с7\", \"Moscow, Presnenskaya Embankment, 12, Башня Федерация Запад, эт. 62\", \"Moscow, Sadovaya-Kudrinskaya Street, 8\", \"Moscow, Lubyansky Drive, 15/2\", \"Moscow, Bolotnaya Embankment, 3с4, эт. 1-3\", \"Moscow, Novoselensky Lane, 35Б\", \"Moscow, Sretenka Street, 22/1с1\", \"Moscow, Petrovka Street, 27, эт. 1\", \"Moscow, Mira Avenue, 109А\", \"Moscow, Zvonarsky Lane, 5\", \"Moscow, Paveletskaya Square, 2с2\", \"Moscow, Lyublinskaya Street, 4А\", \"Moscow, Leningradskoye Highway, 39с6\", \"Moscow, Yablochkova Street, 21\", \"Moscow, Marshala Rybalko Street, 18к1\", \"Москва, Кутузовский проспект, 12, стр. 1\", \"Москва, Неглинная улица, 8/10\", \"Moscow, Marshala Zhukova Avenue, 60\", \"Москва, Неглинная улица, 29, стр. 5\", \"Moscow, Ordzhonikidze Street, 11с17\", \"Москва, Цветной бульвар, 2\", \"Moscow, Sadovaya-Chernogryazskaya Street, 22с1\", \"Moscow, Okhotny Ryad Street, 2, Модный сезон\", \"Moscow, Malaya Sukharevskaya Square, 8\", \"Москва, 1-я Тверская-Ямская улица, 21, БЦ 4 ветра, этаж 1\", \"Moscow, Krasnopresnenskaya Embankment, 16с1\", \"Moscow, Rusakovskaya Street, 23\", \"Moscow, Tverskaya Street, вл23/12с1, эт. 1\", \"Moscow, Vysotskogo Street, 3с1\", \"Moscow, Nastasyinsky Lane, 4к1\", \"Moscow, Maly Ivanovsky Lane, 7-9с1\", \"Moscow, Leningradskiy Avenue, 32/2\", \"Moscow, Kotelnicheskaya Embankment, 33с3\", \"Moscow, Pokrovka Street, 26/1с2\", \"Moscow, Kutuzovsky Avenue, 41с1\", \"Moscow, Narodnogo Opolcheniya Street, 3\", \"Moscow, Ramenki Street, 5, этаж 1,2\", \"Moscow, Shirokaya Street, 12Б, этаж 3\", \"Moscow, Komsomolskaya Square, 6, Универмаг Московский\", \"Moscow, Obrucheva Street, 5А, эт. 1\", \"Москва, Лесная улица, 20, стр. 5\", \"Москва, улица Земляной Вал, 9\", \"Moscow, Miklukho-Maklaya Street, 42Б, эт. 2\", \"Москва, улица Большая Лубянка, 5\", \"Moscow, Lomonosovsky Avenue, 25к1\", \"Moscow, Yartsevskaya Street, 19, эт. 1\", \"Moscow, Mnyovniki Street, 23\", \"Moscow, Gogolevsky Boulevard, 25с1, эт. 1\", \"Moscow, Novinsky Boulevard, 7\", \"Moscow, Bakhrushina Street, 36/14с3\", \"Moscow, Prechistenka Street, 4, эт. 1-3\", \"Москва, 1-й Колобовский переулок, 11, эт. цокольный \", \"Moscow, Leningradskoye Highway, 39Ас2, эт. 1\", \"Moscow, Ilyinka Street, 4\", \"Moscow, Moskvorechye Street, 31к2, этаж цокольный\", \"Moscow, Grizodubovoy Street, 4к1, этаж 1\", \"Moscow, Maly Palashyovsky Lane, 6, этаж 2\", \"Moscow, Pokrovka Street, 2/1с1\", \"Moscow, Volgogradsky Avenue, 117к1\", \"Moscow, Nikolskaya Street, 10\", \"Moscow, Dmitrovsky Lane, 11\", \"Moscow, Slavyanskaya Square, 2/5/4с3\", \"Moscow, Kutuzovsky Avenue, 2/1с1\", \"Moscow, Bolotnaya Embankment, 3с2\", \"Moscow, Leningradskiy Avenue, 36с33, эт. 14\", \"Moscow, Gogolevsky Boulevard, 8\", \"Moscow, Malaya Dmitrovka Street, 18Ас3\", \"Moscow, 1905 Goda Street, 2\", \"Moscow, Chistoprudny Boulevard, 12Ас6\", \"Moscow, Suschyovsky Val Street, 9, БЦ Каскад-мебель\", \"Moscow, Bolshaya Lubyanka Street, 24/15с1\", \"Moscow, Kutuzovsky Avenue, 12с1, Бадаевский завод\", \"Moscow, Stoleshnikov Lane, 8\", \"Moscow, Petrovka Street, 20/1\", \"Moscow, Okhotny Ryad Street, 2, ТГ Модный сезон, эт. 2, пом. 1, ком. 68\", \"Moscow, Novoslobodskaya Street, 16А\", \"Moscow, Leningradskiy Avenue, 9Бс1\", \"Moscow, Komsomolsky Avenue, 28, Московский Дворец Молодежи, этаж 1\", \"Moscow, Dolgorukovskaya Street, 19с7\", \"Moscow, Sretenka Street, 16/2, эт. цокольный\", \"Moscow, Ozerkovskaya Embankment, 56\", \"Москва, Тверская улица, 18, корп. 1\", \"Moscow, Paveletskaya Square, 1А, Павелецкий вокзал\"]"
   ]
  },
  {
   "cell_type": "code",
   "execution_count": 213,
   "metadata": {},
   "outputs": [],
   "source": [
    "slice3=[\"Moscow, 1st Nikoloschepkovsky Lane, 6с2\", \"Moscow, Valovaya Street, 21к125\", \"Moscow, Sergiya Radonezhskogo Street, 8\", \"Moscow, Bolshaya Novodmitrovskaya Street, 36с12\", \"Moscow, Krasnopresnenskaya Embankment, 12А\", \"Moscow, 1st Tverskoy-Yamskoy Lane, 14\", \"Москва, улица Арбат, 23, стр. 1, 1эт\", \"Moscow, Yaroslavskoye Highway, 111\", \"Moscow, Minskaya Street, 2Гк1, БЦ Кутузов-холл\", \"Moscow, Trubetskaya Street, 10\", \"Moscow, Kutuzovsky Avenue, 12с3\", \"Moscow, Volgogradsky Avenue, 17с1\", \"Moscow, Akademika Anokhina Street, 58\", \"Москва, Большая Никитская улица, 22/2\", \"Moscow, Rusakovskaya Street, 27\", \"Moscow, 3rd Silikatny Drive, 4к1с2, эт. 1\", \"Moscow, Kutuzovsky Avenue, 12с1\", \"Москва, улица Большая Дмитровка, 32, стр. 1\", \"Moscow, Malaya Bronnaya Street, 10с1\", \"Moscow, Bolshoy Savvinsky Lane, 12с8, Городская парковка\", \"Москва, Столярный переулок, 3, корп. 13, 1 эт.\", \"Moscow, Myasnitskaya Street, 13с3\", \"Moscow, Protopopovsky Lane, 40\", \"Moscow, Novy Arbat Street, 11\", \"Moscow, Dezhnyova Drive, 13\", \"Moscow, 1st Tverskoy-Yamskoy Lane, 14\", \"Moscow, Stoleshnikov Lane, 8\", \"Moscow, Petrovka Street, 20/1\", \"Moscow, Okhotny Ryad Street, 2, ТГ Модный сезон, эт. 2, пом. 1, ком. 68\", \"Moscow, Novoslobodskaya Street, 16А\", \"Moscow, Leningradskiy Avenue, 9Бс1\", \"Moscow, Komsomolsky Avenue, 28, Московский Дворец Молодежи, этаж 1\", \"Moscow, Dolgorukovskaya Street, 19с7\", \"Moscow, Sretenka Street, 16/2, эт. цокольный\", \"Moscow, Ozerkovskaya Embankment, 56\", \"Москва, Тверская улица, 18, корп. 1\", \"Moscow, Kutuzovsky Avenue, 12с1\", \"Moscow, Paveletskaya Square, 1А, Павелецкий вокзал\", \"Moscow, Malaya Bronnaya Street, 10с1\", \"Moscow, Bolshoy Savvinsky Lane, 12с8, Городская парковка\", \"Москва, Столярный переулок, 3, корп. 13, 1 эт.\", \"Moscow, Myasnitskaya Street, 13с3\", \"Moscow, Protopopovsky Lane, 40\", \"Moscow, Novy Arbat Street, 11\", \"Moscow, Dezhnyova Drive, 13\", \"Moscow, Profsoyuznaya Street, 56\", \"Moscow, Volgogradsky Avenue, 37А, этаж 1, 2\", \"Moscow, Dashkov Lane, 5\", \"Moscow, Balaklavskiy Avenue, 9\", \"Moscow, Lukov Lane, 8, этаж цокольный\", \"Москва, Тверская улица, 18, корп. 1\", \"Moscow, Kutuzovsky Avenue, 12с1\", \"Москва, улица Большая Дмитровка, 32, стр. 4\", \"Moscow, Paveletskaya Square, 1А, Павелецкий вокзал\", \"Moscow, Malaya Bronnaya Street, 10с1\", \"Moscow, Bolshoy Savvinsky Lane, 12с8, Городская парковка\", \"Москва, Столярный переулок, 3, корп. 13, 1 эт.\", \"Moscow, Myasnitskaya Street, 13с3\", \"Moscow, Protopopovsky Lane, 40\", \"Moscow, Tverskoy Boulevard, 26\", \"Moscow, Novy Arbat Street, 11\", \"Moscow, Dezhnyova Drive, 13\", \"Moscow, Profsoyuznaya Street, 56\", \"Moscow, Volgogradsky Avenue, 37А, этаж 1, 2\", \"Moscow, Dashkov Lane, 5\", \"Moscow, Balaklavskiy Avenue, 9\", \"Moscow, Lukov Lane, 8, этаж цокольный\", \"Moscow, Lyalin Lane, 7/2с1\", \"Москва, Большая Грузинская улица, 39, стр. 1, этаж 1\", \"Moscow, Kolomensky Drive, 10, этаж 2\", \"Moscow, 2nd Kabelnaya Street, 10\", \"Moscow, Serpukhovsky Val Street, 3\", \"Moscow, Pokrovka Street, 16\", \"Moscow, Sretenka Street, 1\", \"Moscow, Stromynka Street, 22\", \"Moscow, Protopopovsky Lane, 40\", \"Moscow, Tverskoy Boulevard, 26\", \"Moscow, Novy Arbat Street, 11\", \"Moscow, Dezhnyova Drive, 13\", \"Moscow, Profsoyuznaya Street, 56\", \"Moscow, Volgogradsky Avenue, 37А, этаж 1, 2\", \"Moscow, Dashkov Lane, 5\", \"Moscow, Balaklavskiy Avenue, 9\", \"Moscow, Lukov Lane, 8, этаж цокольный\", \"Moscow, Lyalin Lane, 7/2с1\", \"Moscow, Kolomensky Drive, 10, этаж 2\", \"Moscow, 2nd Kabelnaya Street, 10\", \"Москва, Большая Грузинская улица, 39, стр. 1, этаж 1\", \"Moscow, Serpukhovsky Val Street, 3\", \"Moscow, Pokrovka Street, 16\", \"Moscow, Sretenka Street, 1\", \"Moscow, Stromynka Street, 22\", \"Moscow, Maly Gnezdnikovsky Lane, 12\", \"Moscow, Michurinsky Avenue, 8с2, этаж 1\", \"Moscow, Novy Arbat Street, 21с1\", \"Москва, Большая Семёновская улица, 50\", \"Moscow, Pyatnitskaya Street, 25с3\", \"Moscow, Slavyanskaya Square, 2/5/4с3\", \"Moscow, Karetny Ryad Street, 3с3\", \"Moscow, Leningradskiy Avenue, 15с1, БЦ Большевик, эт. 1\"]"
   ]
  },
  {
   "cell_type": "code",
   "execution_count": 215,
   "metadata": {},
   "outputs": [],
   "source": [
    "slice4=[\"Moscow, Stromynka Street, 22\", \"Moscow, Maly Gnezdnikovsky Lane, 12\", \"Moscow, Michurinsky Avenue, 8с2, этаж 1\", \"Moscow, Novy Arbat Street, 21с1\", \"Moscow, Pyatnitskaya Street, 25с3\", \"Moscow, Slavyanskaya Square, 2/5/4с3\", \"Moscow, Lobnenskaya Street, вл11\", \"Moscow, Karetny Ryad Street, 3с3\", \"Москва, Большая Семёновская улица, 50\", \"Moscow, Leningradskiy Avenue, 15с1, БЦ Большевик, эт. 1\", \"Moscow, Suvorovskaya Street, 12\", \"Moscow, 3rd Yamskogo Polya Street, 9\", \"Moscow, Trubnaya Street, 21\", \"Moscow, Leningradskiy Avenue, 39с30\", \"Moscow, Novoslobodskaya Street, 16А\", \"Москва, Тверская улица, 3, отель Ritz-Carlton\", \"Moscow, Universitetsky Avenue, 25\", \"Moscow, 1st Monetchikovsky Lane, 5с1\", \"Moscow, Rochdelskaya Street, 15с30, эт. 1\", \"Москва, Олимпийский проспект, 14, БЦ Даймонд Холл, этаж 1\", \"Moscow, Smolenskaya Street, 8, Гостиница Азимут, эт. 1\", \"Moscow, Malaya Pirogovskaya Street, 8\", \"Moscow, Svobodny Avenue, 2А\", \"Moscow, Kuznetsky Most Street, 11с1\", \"Moscow, Nikolskaya Street, 25\", \"Moscow, Trubnaya Street, 21\", \"Moscow, Leningradskiy Avenue, 39с30\", \"Moscow, Novoslobodskaya Street, 16\", \"Moscow, Novoslobodskaya Street, 16А\", \"Москва, Тверская улица, 3, отель Ritz-Carlton\", \"Moscow, Universitetsky Avenue, 25\", \"Moscow, 1st Monetchikovsky Lane, 5с1\", \"Moscow, Rochdelskaya Street, 15с30, эт. 1\", \"Москва, Олимпийский проспект, 14, БЦ Даймонд Холл, этаж 1\", \"Moscow, Smolenskaya Street, 8, Гостиница Азимут, эт. 1\", \"Moscow, Malaya Pirogovskaya Street, 8\", \"Moscow, Svobodny Avenue, 2А\", \"Moscow, Kuznetsky Most Street, 11с1\", \"Moscow, Nikolskaya Street, 25\", \"Moscow, Stroginsky Boulevard, 21\", \"Moscow, Bolshaya Novodmitrovskaya Street, 36\", \"Moscow, Krasnaya Presnya Street, 6/2с1\", \"Moscow, Akademika Korolyova Street, 10, этаж 1\", \"Moscow, Krymsky Val Street, 9Л\", \"Moscow, Narodnogo Opolcheniya Street, 22с1\", \"Moscow, Presnenskaya Embankment, 2\", \"Москва, Малая Бронная улица, 8, стр. 1, эт. 2\", \"Москва, улица Новый Арбат, 21\", \"Moscow, Varshavskoye Highway, 9с1\", \"Moscow, Leningradskiy Avenue, 63, угол чапаевского переулка\", \"Moscow, Malaya Pirogovskaya Street, 8\", \"Moscow, Svobodny Avenue, 2А\", \"Moscow, Kuznetsky Most Street, 11с1\", \"Moscow, Nikolskaya Street, 25\", \"Moscow, Udaltsova Street, 83/1\", \"Moscow, Michurinsky Avenue, 7к1\", \"Moscow, Stroginsky Boulevard, 21\", \"Moscow, Bolshaya Novodmitrovskaya Street, 36\", \"Moscow, Krasnaya Presnya Street, 6/2с1\", \"Moscow, Akademika Korolyova Street, 10, этаж 1\", \"Moscow, Krymsky Val Street, 9Л\", \"Moscow, Narodnogo Opolcheniya Street, 22с1\", \"Moscow, Presnenskaya Embankment, 2\", \"Москва, Малая Бронная улица, 8, стр. 1, эт. 2\", \"Moscow, Molodogvardeyskaya Street, 28к1\", \"Москва, улица Новый Арбат, 21\", \"Moscow, Varshavskoye Highway, 9с1\", \"Moscow, Leningradskiy Avenue, 63, угол чапаевского переулка\", \"Moscow, Volgogradsky Avenue, 4А, этаж 1\", \"Moscow, Dmitrovsky Lane, 7\", \"Moscow, Rozhdestvenka Street, 7\", \"Москва, Звенигородское шоссе, 18/20к1\", \"Moscow, Maly Gnezdnikovsky Lane, 12\", \"Moscow, Tsvetnoy Boulevard, 5\", \"Moscow, Arbat Street, 12с2\", \"Москва, Малая Бронная улица, 8, стр. 1, эт. 2\", \"Moscow, Presnenskaya Embankment, 2\", \"Москва, улица Новый Арбат, 21\", \"Moscow, Molodogvardeyskaya Street, 28к1\", \"Москва, Звенигородское шоссе, 18/20к1\", \"Moscow, Varshavskoye Highway, 9с1\", \"Moscow, Leningradskiy Avenue, 63, угол чапаевского переулка\", \"Moscow, Volgogradsky Avenue, 4А, этаж 1\", \"Moscow, Dmitrovsky Lane, 7\", \"Moscow, Rozhdestvenka Street, 7\", \"Moscow, Maly Gnezdnikovsky Lane, 12\", \"Moscow, Tsvetnoy Boulevard, 5\", \"Moscow, Arbat Street, 12с2\", \"Moscow, Tverskaya Street, 7\", \"Moscow, Valovaya Street, 30\", \"Moscow, Zemlyanoy Val Street, 1/4с1\", \"Moscow, Leningradskiy Avenue, 77к4\", \"Moscow, Bolshaya Yakimanka Street, 52с1\", \"Moscow, Leninskaya Sloboda Street, 26, ТЦ Roomer\", \"Moscow, Leningradskiy Avenue, 66, этаж цокольный\", \"Moscow, Krasnaya Presnya Street, 13\", \"Moscow, Bersenevsky Lane, 2с1\", \"Moscow, Sivtsev Vrazhek Lane, 3, эт. цокольный\", \"Moscow, Kosmodamianskaya Embankment, 2\", \"Moscow, Maroseyka Street, 15, эт. цокольный\"]"
   ]
  },
  {
   "cell_type": "code",
   "execution_count": 216,
   "metadata": {},
   "outputs": [],
   "source": [
    "slice5=[\"Moscow, Valovaya Street, 30\", \"Moscow, Zemlyanoy Val Street, 1/4с1\", \"Moscow, Leningradskiy Avenue, 77к4\", \"Moscow, Bolshaya Yakimanka Street, 52с1\", \"Moscow, Leninskaya Sloboda Street, 26, ТЦ Roomer\", \"Moscow, Avtozavodskaya Street, 17к1\", \"Moscow, Leningradskiy Avenue, 66, этаж цокольный\", \"Moscow, Krasnaya Presnya Street, 13\", \"Moscow, Bersenevsky Lane, 2с1\", \"Moscow, Sivtsev Vrazhek Lane, 3, эт. цокольный\", \"Moscow, Kosmodamianskaya Embankment, 2\", \"Moscow, Maroseyka Street, 15, эт. цокольный\", \"Moscow, Shlyuzovaya Embankment, 2/1с1\", \"Moscow, Pyatnitskaya Street, 3/4с1\", \"Moscow, Simferopolsky Boulevard, 22к2, 2 этаж\", \"Moscow, Teatralnaya Square, 5с1, этаж 1, 2\", \"Moscow, Rochdelskaya Street, 15с22\", \"Moscow, Zvenigorodskoye Highway, 4\", \"Moscow, Sretenka Street, 26/1, эт. цокольный\", \"Moscow, Leninsky Avenue, 37, эт. 1\", \"Moscow, Okhotny Ryad Street, 2, ТЦ Модный сезон\", \"Moscow, Mokhovaya Street, 7/4, БЦ Деловой дом Моховая, этаж 1\", \"Moscow, 1st Vladimirskaya Street, 9\", \"Moscow, Kutuzovsky Avenue, 2/1с6\", \"Moscow, Malaya Bronnaya Street, 28\", \"Moscow, Leningradskiy Avenue, 66, этаж цокольный\", \"Moscow, Saltykovskaya Street, 15Г\", \"Moscow, Krasnaya Presnya Street, 13\", \"Moscow, Bersenevsky Lane, 2с1\", \"Moscow, Sivtsev Vrazhek Lane, 3, эт. цокольный\", \"Moscow, Kosmodamianskaya Embankment, 2\", \"Moscow, Maroseyka Street, 15, эт. цокольный\", \"Moscow, Shlyuzovaya Embankment, 2/1с1\", \"Москва, Плотников переулок, 15\", \"Moscow, Pyatnitskaya Street, 3/4с1\", \"Moscow, Simferopolsky Boulevard, 22к2, 2 этаж\", \"Moscow, Teatralnaya Square, 5с1, этаж 1, 2\", \"Moscow, Rochdelskaya Street, 15с22\", \"Moscow, Zvenigorodskoye Highway, 4\", \"Moscow, Sretenka Street, 26/1, эт. цокольный\", \"Moscow, Leninsky Avenue, 37, эт. 1\", \"Moscow, Okhotny Ryad Street, 2, ТЦ Модный сезон\", \"Moscow, Mokhovaya Street, 7/4, БЦ Деловой дом Моховая, этаж 1\", \"Moscow, 1st Vladimirskaya Street, 9\", \"Moscow, Kutuzovsky Avenue, 2/1с6\", \"Moscow, Malaya Bronnaya Street, 28\", \"Moscow, Ostozhenka Street, 1/9\", \"Moscow, Shabolovka Street, 58\", \"Moscow, Yefremova Street, 12с2\", \"Москва, Новодмитровская улица, 2, корп. 7\", \"Moscow, Sretenka Street, 26/1, эт. цокольный\", \"Moscow, Leninsky Avenue, 37, эт. 1\", \"Moscow, Okhotny Ryad Street, 2, ТЦ Модный сезон\", \"Moscow, Mokhovaya Street, 7/4, БЦ Деловой дом Моховая, этаж 1\", \"Moscow, 1st Vladimirskaya Street, 9\", \"Moscow, Kutuzovsky Avenue, 2/1с6\", \"Moscow, Malaya Bronnaya Street, 28\", \"Moscow, Ostozhenka Street, 1/9\", \"Moscow, 1st Krasnogvardeysky Drive, 21с2, этаж 6\", \"Moscow, Shabolovka Street, 58\", \"Moscow, Yefremova Street, 12с2\", \"Москва, Новодмитровская улица, 2, корп. 7\", \"Moscow, Tverskaya Street, 17\", \"Москва, Ленинградское шоссе, 16А, стр. 4\", \"Moscow, Spiridonyevsky Lane, 12/9, эт. 1\", \"Moscow, Suschyovskaya Street, 9\", \"Russia, Moscow, Tarasa Shevchenko Embankment\", \"Moscow, Marshala Zakharova Street, 6к1\", \"Москва, Лопухинский переулок, 2\", \"Moscow, Aleksandra Solzhenitsyna Street, 2Ас2\", \"Moscow, Presnenskaya Embankment, 2, ТРЦ Афимолл Сити, этаж 5\", \"Moscow, Marshala Golovanova Street, 19\", \"Moscow, Zubovsky Boulevard, 13с2\", \"Moscow, Myasnitskaya Street, 24/7с3\", \"Moscow, Marshala Vasilevskogo Street, 17, эт. 2\", \"Moscow, Spiridonyevsky Lane, 12/9, эт. 1\", \"Moscow, Suschyovskaya Street, 9\", \"Russia, Moscow, Tarasa Shevchenko Embankment\", \"Moscow, Marshala Zakharova Street, 6к1\", \"Москва, Лопухинский переулок, 2\", \"Moscow, Aleksandra Solzhenitsyna Street, 2Ас2\", \"Moscow, Presnenskaya Embankment, 2, ТРЦ Афимолл Сити, этаж 5\", \"Moscow, Marshala Golovanova Street, 19\", \"Moscow, Zubovsky Boulevard, 13с2\", \"Moscow, Myasnitskaya Street, 24/7с3\", \"Moscow, Marshala Vasilevskogo Street, 17, эт. 2\", \"Moscow, Prechistenskaya Embankment, 17-19\", \"Moscow, Lesnaya Street, 9, БЦ Белые Сады, эт. 1\", \"Moscow, Bolshaya Dmitrovka Street, 20с1, эт. 4\", \"Moscow, Dmitrovskoye Highway, 73с1\", \"Moscow, Novinsky Boulevard, 31\", \"Moscow, Yunykh Lenintsev Street, 71к1, эт. 2\", \"Moscow, Tverskoy Boulevard, 24, этаж 1, 2\", \"Moscow, Sadovaya-Chernogryazskaya Street, 8/23с4\", \"Moscow, Novy Arbat Street, 19с1\", \"Moscow, 1905 Goda Street, 2\", \"Moscow, Bolshaya Nikitskaya Street, 19/13\", \"Moscow, Bolshaya Gruzinskaya Street, 4-6с1\", \"Moscow, Bolshaya Dmitrovka Street, 9с1\", \"Moscow, Leningradskiy Avenue, 15с1\"]"
   ]
  },
  {
   "cell_type": "code",
   "execution_count": 217,
   "metadata": {},
   "outputs": [],
   "source": [
    "slice6=[\"Moscow, Lesnaya Street, 9, БЦ Белые Сады, эт. 1\", \"Moscow, Bolshaya Dmitrovka Street, 20с1, эт. 4\", \"Moscow, Dmitrovskoye Highway, 73с1\", \"Moscow, Novinsky Boulevard, 31\", \"Moscow, Yunykh Lenintsev Street, 71к1, эт. 2\", \"Moscow, Tverskoy Boulevard, 24, этаж 1, 2\", \"Moscow, Sadovaya-Chernogryazskaya Street, 8/23с4\", \"Moscow, Novy Arbat Street, 19с1\", \"Moscow, 1905 Goda Street, 2\", \"Moscow, Bolshaya Nikitskaya Street, 19/13\", \"Moscow, Bolshaya Gruzinskaya Street, 4-6с1\", \"Moscow, Bolshaya Dmitrovka Street, 9с1\", \"Moscow, Leningradskiy Avenue, 15с1\", \"Moscow, Narodnaya Street, 4с1, эт. 1\", \"Moscow, Turistskaya Street, 13к2\", \"Москва, Ярцевская улица, 25А\", \"Москва, 3-й Крутицкий переулок, 11, эт. 1\", \"Moscow, Tverskoy Boulevard, 10с1\", \"Moscow, Bolshoy Fakelny Lane, 9/11, эт. 1\", \"Moscow, Tsvetnoy Boulevard, 2\", \"Moscow, Pyatnitskaya Street, 3/4с1, эт. 1\", \"Moscow, Triumfalnaya Square, 4, этаж 1\", \"Moscow, Plotnikov Lane, 22/16\", \"Moscow, Vorontsovskiye Prudy Street, 11\", \"Moscow, Bersenevskaya Embankment, 12с1\", \"Moscow, Vishnyovaya Street, 13\", \"Moscow, Narodnaya Street, 4с1, эт. 1\", \"Москва, Ярцевская улица, 25А\", \"Moscow, Turistskaya Street, 13к2\", \"Москва, 3-й Крутицкий переулок, 11, эт. 1\", \"Moscow, Tverskoy Boulevard, 10с1\", \"Moscow, Bolshoy Fakelny Lane, 9/11, эт. 1\", \"Moscow, Tsvetnoy Boulevard, 2\", \"Moscow, Pyatnitskaya Street, 3/4с1, эт. 1\", \"Moscow, Triumfalnaya Square, 4, этаж 1\", \"Moscow, Plotnikov Lane, 22/16\", \"Moscow, Vorontsovskiye Prudy Street, 11\", \"Москва, Новодмитровская улица, 1, стр. 1\", \"Moscow, Bersenevskaya Embankment, 12с1\", \"Moscow, Leningradskoye Highway, 8к2, этаж цокольный\", \"Moscow, Pevchesky Lane, 6\", \"Moscow, Altufyevskoye Highway, 8, ТЦ Алтуфьевский, этаж 4\", \"Moscow, Okhotny Ryad Street, 2, ТЦ Модный сезон, эт. 1\", \"Moscow, Lesnaya Street, 20с4\", \"Moscow, Balchug Street, 3/2\", \"Moscow, Bolshaya Nikitskaya Street, 14/2с7\", \"Moscow, Teatralny Drive, 3с3\", \"Moscow, Kutuzovsky Avenue, 2/1к1А\", \"Moscow, Entuziastov Highway, 4Ас1\", \"Moscow, Rochdelskaya Street, 11/5, этаж цокольный\", \"Moscow, Plotnikov Lane, 22/16\", \"Moscow, 2nd Polevoy Lane, 2к1\", \"Moscow, Vorontsovskiye Prudy Street, 11\", \"Москва, Новодмитровская улица, 1, стр. 1\", \"Moscow, Bersenevskaya Embankment, 12с1\", \"Moscow, Leningradskoye Highway, 8к2, этаж цокольный\", \"Moscow, Pevchesky Lane, 6\", \"Moscow, Altufyevskoye Highway, 8, ТЦ Алтуфьевский, этаж 4\", \"Moscow, Okhotny Ryad Street, 2, ТЦ Модный сезон, эт. 1\", \"Moscow, Lesnaya Street, 20с4\", \"Moscow, Balchug Street, 3/2\", \"Moscow, Bolshaya Nikitskaya Street, 14/2с7\", \"Moscow, Teatralny Drive, 3с3\", \"Moscow, Kutuzovsky Avenue, 2/1к1А\", \"Moscow, Entuziastov Highway, 4Ас1\", \"Moscow, Rochdelskaya Street, 11/5, этаж цокольный\", \"Moscow, Delegatskaya Street, 7с1, эт. 1\", \"Moscow, Ryazansky Avenue, 64\", \"Moscow, Stroiteley Street, 4с2\", \"Moscow, Strastnoy Boulevard, 7с1, эт. 1\", \"Москва, улица Большая Дмитровка, 7/5с2\", \"Moscow, Frunzenskaya Embankment, 32\", \"Moscow, Kakhovka Street, 20с2\", \"Moscow, Ramenki Street, 5\", \"Moscow, Okhotny Ryad Street, 1к2с2\", \"Moscow, Teatralny Drive, 3с3\", \"Moscow, Kutuzovsky Avenue, 2/1к1А\", \"Moscow, Entuziastov Highway, 4Ас1\", \"Moscow, Rochdelskaya Street, 11/5, этаж цокольный\", \"Moscow, Delegatskaya Street, 7с1, эт. 1\", \"Moscow, Ryazansky Avenue, 64\", \"Moscow, Stroiteley Street, 4с2\", \"Moscow, Strastnoy Boulevard, 7с1, эт. 1\", \"Moscow, Frunzenskaya Embankment, 32\", \"Moscow, Kakhovka Street, 20с2\", \"Moscow, Okhotny Ryad Street, 1к2с2\", \"Moscow, Novoostapovskaya Street, 5с2\", \"Moscow, Mira Avenue, 78, эт. 1\", \"Moscow, 4th Tverskaya-Yamskaya Street, 13\", \"Moscow, Andropova Avenue, вл21А\", \"Moscow, Konyushkovskaya Street, 32с2\", \"Moscow, Leningradskiy Avenue, 72к1, БЦ Алкон, эт. 1\", \"Moscow, 3rd Paveletsky Drive, 4, ТЦ Павелецкий, этаж 1\", \"Moscow, Bolshaya Polyanka Street, 51А/9\", \"Moscow, Marshala Golovanova Street, 19\", \"Moscow, Sadovaya-Karetnaya Street, 20с2\", \"Moscow, Arbat Street, 23с1\", \"Moscow, Trubnikovsky Lane, 11\", \"Moscow, Okhotny Ryad Street, 1к2с2\", \"Moscow, Novoostapovskaya Street, 5с2\"]"
   ]
  },
  {
   "cell_type": "code",
   "execution_count": 218,
   "metadata": {},
   "outputs": [],
   "source": [
    "slice7=[\"Moscow, Mira Avenue, 78, эт. 1\", \"Moscow, 4th Tverskaya-Yamskaya Street, 13\", \"Moscow, Andropova Avenue, вл21А\", \"Moscow, Konyushkovskaya Street, 32с2\", \"Moscow, Leningradskiy Avenue, 72к1, БЦ Алкон, эт. 1\", \"Moscow, 3rd Paveletsky Drive, 4, ТЦ Павелецкий, этаж 1\", \"Moscow, Bolshaya Polyanka Street, 51А/9\", \"Moscow, Marshala Golovanova Street, 19\", \"Moscow, Sadovaya-Karetnaya Street, 20с2\", \"Moscow, Arbat Street, 23с1\", \"Moscow, Trubnikovsky Lane, 11\", \"Москва, Орликов переулок, 5, стр. 2\", \"Moscow, Samotyochnaya Street, 13, эт. 1\", \"Moscow, Malaya Bronnaya Street, 22с2, эт. 1\", \"Moscow, Leningradskoye Highway, 106\", \"Moscow, Myasnitskaya Street, 24/7с2\", \"Москва, улица Сергия Радонежского, 2\", \"Moscow, Schyolkovskoye Highway, 4\", \"Moscow, Balaklavskiy Avenue, 7, ТЦ Альянс, этаж 2\", \"Moscow, Sadovaya-Spasskaya Street, 17/2\", \"Moscow, Bolshaya Polyanka Street, 1/3\", \"Moscow, Zemlyanoy Val Street, 18с4\", \"Moscow, Gagarinsky Lane, 15А\", \"Moscow, Bolshaya Polyanka Street, 51А/9\", \"Moscow, Marshala Golovanova Street, 19\", \"Moscow, Sadovaya-Karetnaya Street, 20с2\", \"Moscow, Arbat Street, 23с1\", \"Moscow, Trubnikovsky Lane, 11\", \"Москва, Орликов переулок, 5, стр. 2\", \"Moscow, Samotyochnaya Street, 13, эт. 1\", \"Moscow, Malaya Bronnaya Street, 22с2, эт. 1\", \"Moscow, Leningradskoye Highway, 106\", \"Moscow, Myasnitskaya Street, 24/7с2\", \"Москва, улица Сергия Радонежского, 2\", \"Moscow, Schyolkovskoye Highway, 4\", \"Moscow, Balaklavskiy Avenue, 7, ТЦ Альянс, этаж 2\", \"Moscow, Sadovaya-Spasskaya Street, 17/2\", \"Moscow, Bolshaya Polyanka Street, 1/3\", \"Moscow, Zemlyanoy Val Street, 18с4\", \"Moscow, Gagarinsky Lane, 15А\", \"Moscow, Stoleshnikov Lane, 11с1\", \"Moscow, Trubnikovsky Lane, 11\", \"Moscow, Sadovaya-Chernogryazskaya Street, 22с1\", \"Moscow, Aleksandra Solzhenitsyna Street, 3, эт. 2\", \"Москва, улица Остоженка, 19, стр. 1\", \"Moscow, Dokuchayev Lane, 6с2, этаж 1\", \"Moscow, Petrovka Street, 3/6\", \"Moscow, Akademika Landau Boulevard, 3\", \"Moscow, Trubnikovsky Lane, 11\", \"Moscow, Sadovaya-Chernogryazskaya Street, 22с1\", \"Moscow, Aleksandra Solzhenitsyna Street, 3, эт. 2\", \"Moscow, Dokuchayev Lane, 6с2, этаж 1\", \"Москва, улица Остоженка, 19, стр. 1\", \"Moscow, Petrovka Street, 3/6\", \"Moscow, Akademika Landau Boulevard, 3\", \"Moscow, Altufyevskoye Highway, 16\", \"Moscow, Bersenevsky Lane, 3/10с8\", \"Moscow, Dmitriya Ulyanova Street, 20к1, этаж 2\", \"Moscow, Novy Arbat Street, 21с1\", \"Moscow, Timura Frunze Street, 11к8\", \"Moscow, Kutuzovsky Avenue, 2/1с6\", \"Moscow, Spiridonovka Street, 34с1\", \"Москва, Столешников переулок, 6, стр. 2\", \"Москва, улица Серафимовича, 2\", \"Moscow, Velozavodskaya Street, 6А\", \"Moscow, Vorontsovskaya Street, 6с1\", \"Moscow, Shosseynaya Street, 66к2, этаж 2\", \"Moscow, Sokolnicheskaya Square, 9\", \"Moscow, Bolshoy Cherkassky Lane, 15-17с1\", \"Moscow, Leningradskiy Avenue, 64с5\", \"Moscow, Bolshaya Nikitskaya Street, 15с1\", \"Moscow, Svobody Street, 55, этаж цокольный\", \"Moscow, Novoslobodskaya Street, 3, ТЦ Сафа\", \"Moscow, Spiridonovka Street, 34с1\", \"Moscow, Generala Belova Street, 28к1\", \"Москва, улица Серафимовича, 2\", \"Moscow, Velozavodskaya Street, 6А\", \"Moscow, Vorontsovskaya Street, 6с1\", \"Moscow, Shosseynaya Street, 66к2, этаж 2\", \"Moscow, Sokolnicheskaya Square, 9\", \"Moscow, Bolshoy Cherkassky Lane, 15-17с1\", \"Moscow, Leningradskiy Avenue, 64с5\", \"Moscow, Bolshaya Nikitskaya Street, 15с1\", \"Moscow, Svobody Street, 55, этаж цокольный\", \"Moscow, Novoslobodskaya Street, 3, ТЦ Сафа\", \"Moscow, Bratislavskaya Street, 6\", \"Moscow, Paveletskaya Square, 1А, Павелецкий вокзал\", \"Moscow, Varsonofyevsky Lane, 6\", \"Moscow, Tverskoy Boulevard, 3\", \"Moscow, Pyatnitskaya Street, 24\", \"Moscow, Baumanskaya Street, 32с1\", \"Moscow, Bolshaya Yakimanka Street, 50\", \"Moscow, Akademika Bochvara Street, 7к1\", \"Moscow, Udaltsova Street, 42\", \"Москва, проспект Будённого, 33, эт. 1\", \"Moscow, Leningradskiy Avenue, 64с5\", \"Moscow, Bolshaya Nikitskaya Street, 15с1\", \"Moscow, Svobody Street, 55, этаж цокольный\", \"Moscow, Novoslobodskaya Street, 3, ТЦ Сафа\", \"Moscow, Bratislavskaya Street, 6\"]"
   ]
  },
  {
   "cell_type": "code",
   "execution_count": 219,
   "metadata": {},
   "outputs": [],
   "source": [
    "slice8=[\"Moscow, Paveletskaya Square, 1А, Павелецкий вокзал\", \"Moscow, Varsonofyevsky Lane, 6\", \"Москва, улица Сущёвский Вал, 5, стр. 21\", \"Moscow, Pyatnitskaya Street, 29\", \"Moscow, Tverskoy Boulevard, 3\", \"Moscow, Pyatnitskaya Street, 24\", \"Moscow, Baumanskaya Street, 32с1\", \"Moscow, Bolshaya Yakimanka Street, 50\", \"Moscow, Akademika Bochvara Street, 7к1\", \"Moscow, Udaltsova Street, 42\", \"Москва, проспект Будённого, 33, эт. 1\", \"Москва, проспект Мира, 119, стр. 68, ВДНХ, этаж 2, павильон 68\", \"Moscow, Bolshaya Nikitskaya Street, 60с1\", \"Moscow, Bolshaya Serpukhovskaya Street, 44\", \"Москва, улица Плющиха, 20/2, эт. цокольный\", \"Moscow, Mira Avenue, 186к1, этаж цокольный\", \"Москва, Летниковская улица, 2, стр. 1\", \"Moscow, Shmitovsky Drive, 3с1А\", \"Moscow, Rimskogo-Korsakova Street, 2А\", \"Moscow, 2nd Smolensky Lane, 1/4\", \"Moscow, Baumanskaya Street, 32с1\", \"Moscow, Bolshaya Yakimanka Street, 50\", \"Moscow, Akademika Bochvara Street, 7к1\", \"Moscow, Udaltsova Street, 42\", \"Moscow, Pluschikha Street, 20/2, эт. цокольный\", \"Москва, проспект Будённого, 33, эт. 1\", \"Москва, проспект Мира, 119, стр. 68, ВДНХ, этаж 2, павильон 68\", \"Moscow, Bolshaya Nikitskaya Street, 60с1\", \"Moscow, Bolshaya Serpukhovskaya Street, 44\", \"Moscow, Mira Avenue, 186к1, этаж цокольный\", \"Moscow, Shmitovsky Drive, 3с1А\", \"Moscow, Rimskogo-Korsakova Street, 2А\", \"Moscow, 2nd Smolensky Lane, 1/4\", \"Moscow, Mira Avenue, 102с1А\", \"Moscow, Orlikov Lane, 1/11-13с13\", \"Москва, улица Миклухо-Маклая, 36А, ТЦ МЦ, этаж 2\", \"Москва, Лубянский проезд, 15, стр. 2\", \"Moscow, 2nd Tverskoy-Yamskoy Lane, 10, эт. 12\", \"Москва, Страстной бульвар, 2\", \"Moscow, Korovinskoye Highway, 1к1, этаж цокольный\", \"Moscow, Narodnogo Opolcheniya Street, 23к1\", \"Moscow, Varvarka Street, 3, Гостинный двор\", \"Moscow, Novokuznetskaya Street, 33с1, эт.1\", \"Moscow, Komsomolsky Avenue, 14/1к2, этаж цокольный\", \"Moscow, Orlikov Lane, 1/11-13с13\", \"Москва, улица Миклухо-Маклая, 36А, ТЦ МЦ, этаж 2\", \"Москва, Лубянский проезд, 15, стр. 2\", \"Moscow, 2nd Tverskoy-Yamskoy Lane, 10, эт. 12\", \"Москва, Страстной бульвар, 2\", \"Moscow, Korovinskoye Highway, 1к1, этаж цокольный\", \"Moscow, Narodnogo Opolcheniya Street, 23к1\", \"Moscow, Varvarka Street, 3, Гостинный двор\", \"Moscow, Novokuznetskaya Street, 33с1, эт.1\", \"Moscow, Komsomolsky Avenue, 14/1к2, этаж цокольный\", \"Moscow, Oktyabrskaya Street, 2\", \"Moscow, Stoleshnikov Lane, 8, эт. 2, 3\", \"Moscow, Khoroshyovskoye Highway, 14\", \"Москва, 3-я улица Ямского Поля, 24\", \"Moscow, Danilovskaya Embankment, 6А\", \"Moscow, Yakimanskaya Embankment, 4с1, БЦ Новый двор\", \"Moscow, Schepkina Street, 33, этаж 1\", \"Moscow, Komsomolsky Avenue, 28, Московский Дворец Молодёжи, этаж 1\", \"Moscow, Bolshaya Dmitrovka Street, 5/6с4, эт. 2\", \"Moscow, Teatralnaya Square, 5с2\", \"Moscow, Borovsky Drive, 17А\", \"Moscow, Znamenka Street, 13с3\", \"Moscow, Malaya Bronnaya Street, 24с1\", \"Moscow, Kosmodamianskaya Embankment, 52с5\", \"Москва, Мичуринский проспект, 8, стр. 2, этаж 1\", \"Moscow, Teatralnaya Square, 5с2\", \"Moscow, Borovsky Drive, 17А\", \"Moscow, Malaya Bronnaya Street, 24с1\", \"Moscow, Kosmodamianskaya Embankment, 52с5\", \"Moscow, Nizhegorodskaya Street, 2к1, Нижегородский пассаж\", \"Moscow, Solyanka Street, 1/2, эт. 1\", \"Moscow, Krasnokazarmennaya Street, 2с1\", \"Moscow, Mira Avenue, 12с1, эт. 1\", \"Moscow, Pyatnitskoye Highway, 18, эт. 4\", \"Moscow, Malaya Gruzinskaya Street, 23с1\", \"Moscow, Soldatskaya Street, 6А, эт. 1\", \"Moscow, Dubninskaya Street, 26к1\", \"Moscow, Shkolnaya Street, 48, эт. 1\", \"Moscow, Smolenskaya Street, 5, Гостиница Золотое кольцо, этаж 23\", \"Moscow, Perovskaya Street, 62\", \"Moscow, Krasina Street, 27с1\", \"Moscow, Maroseyka Street, 9/2с1, эт. 1\", \"Russia, Moscow, 1st Truzhenikov Lane\", \"Moscow, Ryazansky Avenue, 2Б, PК Одон, эт. 1\", \"Moscow, 1st Krasnogvardeysky Drive, 21с2, этаж 85\", \"Moscow, Sadovaya-Kudrinskaya Street, 3Б\", \"Moscow, Petrovskiye Linii Street, 2/18\", \"Moscow, Namyotkina Street, 3, эт. 2\", \"Moscow, Pyatnitskoye Highway, 18, эт. 4\", \"Moscow, Malaya Gruzinskaya Street, 23с1\", \"Moscow, Soldatskaya Street, 6А, эт. 1\", \"Moscow, Dubninskaya Street, 26к1\", \"Moscow, Shkolnaya Street, 48, эт. 1\", \"Moscow, Smolenskaya Street, 5, Гостиница Золотое кольцо, этаж 23\", \"Moscow, Perovskaya Street, 62\", \"Moscow, Krasina Street, 27с1\"]"
   ]
  },
  {
   "cell_type": "code",
   "execution_count": 220,
   "metadata": {},
   "outputs": [],
   "source": [
    "slice9=[\"Moscow, Maroseyka Street, 9/2с1, эт. 1\", \"Russia, Moscow, 1st Truzhenikov Lane\", \"Moscow, Ryazansky Avenue, 2Б, PК Одон, эт. 1\", \"Moscow, Volgogradsky Avenue, 119А, этаж 2\", \"Moscow, 1st Krasnogvardeysky Drive, 21с2, этаж 85\", \"Moscow, Sadovaya-Kudrinskaya Street, 3Б\", \"Moscow, Petrovskiye Linii Street, 2/18\", \"Moscow, Namyotkina Street, 3, эт. 2\", \"Moscow, Smolenskaya Street, 8, Отель Azimut\", \"Moscow, Sokolnicheskogo Drive, 11, вход со стороны парка\", \"Moscow, Leningradskoye Highway, 112к4с5\", \"Moscow, 1905 Goda Street, 2с1\", \"Myakininskoye shosse, вл1\", \"Moscow, Mira Avenue, 21, этаж 2\", \"Moscow, Nizhny Kiselny Lane, 4\", \"Moscow, Mosfilmovskaya Street, 72А\", \"Moscow, Sheremetyevskaya Street, 6к1\", \"Moscow, Namyotkina Street, 3, эт. 2\", \"Moscow, Smolenskaya Street, 8, Отель Azimut\", \"Moscow, Sokolnicheskogo Drive, 11, вход со стороны парка\", \"Moscow, Angelov Lane, 6к2, этаж цокольный\", \"Moscow, Leningradskoye Highway, 112к4с5\", \"Moscow, 1905 Goda Street, 2с1\", \"Myakininskoye shosse, вл1\", \"Moscow, Mira Avenue, 21, этаж 2\", \"Moscow, Nizhny Kiselny Lane, 4\", \"Moscow, Mosfilmovskaya Street, 72А\", \"Moscow, Sheremetyevskaya Street, 6к1\", \"Moscow, Romanov Lane, 2/6с13\", \"Moscow, Krzhizhanovskogo Street, 20/30к1\", \"Moscow, Ivana Babushkina Street, 17к1\", \"Moscow, Pererva Street, 41\", \"Moscow, Perovskaya Street, 61/2с1, этаж 2\", \"Moscow, Profsoyuznaya Street, 27к1\", \"Moscow, Nagatinskaya Embankment, 10к2\", \"Moscow, Nastasyinsky Lane, 5с1, отель Пушкин, эт. -1\", \"Moscow, Povarskaya Street, 52/55с3\", \"Moscow, Strastnoy Boulevard, 4с3\", \"Moscow, Skhodnenskaya Street, 56, ТРЦ «Калейдоскоп», 4 ЭТАЖ\", \"Moscow, Vavilova Street, 1\", \"Moscow, Kapotnya Street, 34\", \"Moscow, Olimpiysky Avenue, 22\", \"Moscow, Perovskaya Street, 61/2с1, этаж 2\", \"Moscow, Profsoyuznaya Street, 27к1\", \"Moscow, Nagatinskaya Embankment, 10к2\", \"Moscow, Nastasyinsky Lane, 5с1, отель Пушкин, эт. -1\", \"Moscow, Povarskaya Street, 52/55с3\", \"Moscow, Strastnoy Boulevard, 4с3\", \"Moscow, Skhodnenskaya Street, 56, ТРЦ «Калейдоскоп», 4 ЭТАЖ\", \"Moscow, Vavilova Street, 1\", \"Moscow, Marksistskaya Street, 9с1\", \"Moscow, Leninsky Avenue, 28\", \"Moscow, Fridrikha Engelsa Street, 20с1\", \"Moscow, Bolshaya Yakimanka Street, 50\", \"Moscow, Privolnaya Street, 2с3\", \"Moscow, Petrovka Street, 2, ТЦ ЦУМ, эт. 5\", \"Москва, Большая Черёмушкинская улица, 1, ТЦ Рио\", \"Moscow, Ryazansky Avenue, 65к2\", \"Moscow, Bolshaya Semyonovskaya Street, 10с13\", \"Moscow, Suschyovskaya Street, 9с4\", \"Moscow, Korovy Val Street, 11с1\", \"Moscow, Flotskaya Street, 5кА, БЦ МФС, эт. 1\", \"Moscow, Shabolovka Street, 31Г, эт. 1, 2\", \"Moscow, Admirala Makarova Street, 6с13, этаж 2\", \"Moscow, Petrovka Street, 2, ТЦ ЦУМ, эт. 5\", \"Moscow, Bakhrushina Street, 11/48с2\", \"Москва, Большая Черёмушкинская улица, 1, ТЦ Рио\", \"Moscow, Ryazansky Avenue, 65к2\", \"Moscow, Bolshaya Semyonovskaya Street, 10с13\", \"Moscow, Suschyovskaya Street, 9с4\", \"Moscow, Korovy Val Street, 11с1\", \"Moscow, Flotskaya Street, 5кА, БЦ МФС, эт. 1\", \"Moscow, Shabolovka Street, 31Г, эт. 1, 2\", \"Moscow, Admirala Makarova Street, 6с13, этаж 2\", \"Moscow, Narodnaya Street, 22/13\", \"Moscow, Krasnaya Presnya Street, 22\", \"Moscow, 1st Tverskaya-Yamskaya Street, 7\", \"Moscow, Bolshoy Spasoglinischevsky Lane, 9/1с16, эт. 0\", \"Moscow, Minskaya Street, 6к3\", \"Moscow, Kuznetsky Most Street, 21/5\", \"Moscow, Vernadskogo Avenue, 6с3\", \"Moscow, Sretensky Boulevard, 3\", \"Moscow, Bolshaya Dmitrovka Street, 20\", \"Moscow, Vavilova Street, 81к1\", \"Moscow, Leningradskiy Avenue, 37Б, ТЦ Старт, этаж 1\", \"Moscow, Starovagankovsky Lane, 19с7\", \"Moscow, Leninsky Avenue, 146, Центральный дом туриста\", \"Moscow, Novoslobodskaya Street, 16А\", \"Moscow, Lyublinskaya Street, 70с1\", \"Moscow, Minskaya Street, 6к3\", \"Moscow, Kuznetsky Most Street, 21/5\", \"Moscow, Vernadskogo Avenue, 6с3\", \"Moscow, Sretensky Boulevard, 3\", \"Moscow, Bolshaya Dmitrovka Street, 20\", \"Moscow, Vavilova Street, 81к1\", \"Moscow, Leningradskiy Avenue, 37Б, ТЦ Старт, этаж 1\", \"Moscow, Starovagankovsky Lane, 19с7\", \"Moscow, Kutuzovsky Avenue, 57, ТЦ Океания, эт. 4\", \"Moscow, Leninsky Avenue, 146, Центральный дом туриста\", \"Moscow, Novoslobodskaya Street, 16А\"]"
   ]
  },
  {
   "cell_type": "code",
   "execution_count": 221,
   "metadata": {},
   "outputs": [],
   "source": [
    "slice10=[\"Moscow, Lyublinskaya Street, 70с1\", \"Moscow, Bratislavskaya Street, 31к1\", \"Moscow, Leninsky Avenue, 37, эт. 1\", \"Moscow, Gruzinsky Val Street, 26с1, этаж 1\", \"Moscow, Kuznetsky Most Street, 3с2\", \"Москва, Малая Бронная улица, 28\", \"Moscow, Novinki Street, 31\", \"Moscow, Leningradskiy Avenue, 23, эт. 1\", \"Moscow, Beryozovoy Roschi Drive, 6, этаж 1\", \"Moscow, Nizhegorodskaya Street, 52с3\", \"Moscow, Tsvetnoy Boulevard, 21с2, эт. цокольный\", \"Moscow, MKAD, 42nd kilometre, вл4с1\", \"Moscow, Ozyornaya Street, 42\", \"Moscow, Mira Avenue, 150, Гостиница Космос, этаж 2\", \"Москва, Малая Бронная улица, 28\", \"Moscow, Gruzinsky Val Street, 26с1, этаж 1\", \"Moscow, Kuznetsky Most Street, 3с2\", \"Moscow, Novinki Street, 31\", \"Moscow, Leningradskiy Avenue, 23, эт. 1\", \"Moscow, Beryozovoy Roschi Drive, 6, этаж 1\", \"Moscow, Nizhegorodskaya Street, 52с3\", \"Moscow, Tsvetnoy Boulevard, 21с2, эт. цокольный\", \"Moscow, MKAD, 42nd kilometre, вл4с1\", \"Moscow, Ozyornaya Street, 42\", \"Moscow, Mira Avenue, 150, Гостиница Космос, этаж 2\", \"Moscow, Spiridonyevsky Lane, 10А, этаж 1\", \"Moscow, Bakuninskaya Street, 69\", \"Moscow, Lesnaya Street, 20с5, Фудмолл ДЕПО\", \"Moscow, Leningradskiy Avenue, 31с9\", \"Moscow, Beskudnikovsky Boulevard, 12с1\", \"Moscow, Novy Arbat Street, 21с1\", \"Moscow, Marshala Sokolovskogo Street, 5\", \"Moscow, Andropova Avenue, 48с2\", \"Moscow, Sadovnicheskaya Embankment, 79\", \"Москва, улица Малая Дмитровка, 20, этаж 1\", \"Moscow, Komsomolsky Avenue, 42с2\", \"Moscow, Bolshaya Ordynka Street, 19с1, эт. 2\", \"Moscow, Novocheryomushkinskaya Street, 66к1\", \"Moscow, Bolshaya Gruzinskaya Street, 76\", \"Moscow, Beskudnikovsky Boulevard, 12с1\", \"Moscow, Novy Arbat Street, 21с1\", \"Moscow, Marshala Sokolovskogo Street, 5\", \"Moscow, Andropova Avenue, 48с2\", \"Moscow, Sadovnicheskaya Embankment, 79\", \"Moscow, Komsomolsky Avenue, 42с2\", \"Moscow, Bolshaya Ordynka Street, 19с1, эт. 2\", \"Moscow, Novocheryomushkinskaya Street, 66к1\", \"Moscow, Bolshaya Gruzinskaya Street, 76\", \"Moscow, Mokhovaya Street, 8с1\", \"Moscow, Bagrationovsky Drive, 5, ТРЦ Филион, этаж 19\", \"Moscow, Bolshaya Akademicheskaya Street, 65\", \"Moscow, Profsoyuznaya Street, 33с1\", \"Moscow, Pluschikha Street, 58с1А\", \"Москва, улица Волхонка, 15-17с1\", \"Moscow, Orekhovy Boulevard, 55к1, эт. 1\", \"Moscow, Novodmitrovskaya Street, 2к5\", \"Moscow, Sadovnicheskaya Street, 76/71с1\", \"Moscow, Sadovaya-Sukharevskaya Street, 6с1\", \"Moscow, Bolshaya Dorogomilovskaya Street, 11\", \"Moscow, Bolshoy Kharitonyevsky Lane, 21с3\", \"Moscow, Lesnaya Street, 5сБ\", \"Moscow, Butlerova Street, 22\", \"Moscow, Sadovaya-Kudrinskaya Street, 9с4, эт. 1\", \"Moscow, Pluschikha Street, 58с1А\", \"Москва, улица Волхонка, 15-17с1\", \"Moscow, Orekhovy Boulevard, 55к1, эт. 1\", \"Moscow, Novodmitrovskaya Street, 2к5\", \"Moscow, Sadovnicheskaya Street, 76/71с1\", \"Moscow, Sadovaya-Sukharevskaya Street, 6с1\", \"Москва, Комсомольская площадь, 5\", \"Moscow, Bolshaya Dorogomilovskaya Street, 11\", \"Moscow, Bolshoy Kharitonyevsky Lane, 21с3\", \"Moscow, Butlerova Street, 22\", \"Moscow, Sadovaya-Kudrinskaya Street, 9с4, эт. 1\", \"rabochiy posyolok Novoivanovskoye, Mozhayskoye Highway, 17/1\", \"Moscow, Novoslobodskaya Street, 18\", \"Moscow, Sretensky Blind Alley, 5\", \"Moscow, Skolkovskoye Highway, 50\", \"Moscow, Budayskiy proyezd, 8\", \"Moscow, Rochdelskaya Street, 15с30\", \"Moscow, Kalashny Lane, 9\", \"Moscow, Krymsky Val Street, 9с7\", \"Moscow, Novy Arbat Street, 36с3\", \"Moscow, Petrovka Street, 15\", \"Moscow, Novoslobodskaya Street, 18\", \"Moscow, Sretensky Blind Alley, 5\", \"Moscow, Skolkovskoye Highway, 50\", \"Moscow, Budayskiy proyezd, 8\", \"Moscow, Bochkova Street, 5\", \"Moscow, Butyrskaya Street, 46с1\", \"Moscow, Teatralny Drive, 5с1\", \"Moscow, Rochdelskaya Street, 15с30\", \"Moscow, Kalashny Lane, 9\", \"Moscow, Michurinsky Avenue, вл27, ТЦ Тиара, эт. 2\", \"Moscow, Usachyova Street, 2с1\", \"Moscow, Bolshaya Tulskaya Street, 13\", \"Moscow, Belovezhskaya Street, 1к2, этаж 2\", \"Moscow, Krymsky Val Street, 9с52\", \"Moscow, Fridrikha Engelsa Street, 20с2\", \"Moscow, Vavilova Street, 81\"]"
   ]
  },
  {
   "cell_type": "code",
   "execution_count": 222,
   "metadata": {},
   "outputs": [],
   "source": [
    "slice11=[\"Moscow, Tashkentskaya Street, 24к1\", \"Moscow, Korovy Val Street, 9А\", \"Moscow, 1st Lyusinovsky Lane, 3Б\", \"Moscow, Serpukhovsky Val Street, 17, эт. 1\", \"Moscow, Bolshaya Sadovaya Street, 14с6\", \"Moscow, Krzhizhanovskogo Street, 22с1\"]"
   ]
  },
  {
   "cell_type": "code",
   "execution_count": 224,
   "metadata": {},
   "outputs": [
    {
     "data": {
      "text/plain": [
       "[(Decimal('37.809479'), Decimal('55.70041')),\n",
       " (Decimal('37.616243'), Decimal('55.729351')),\n",
       " (Decimal('37.621741'), Decimal('55.727526')),\n",
       " (Decimal('37.612173'), Decimal('55.71124')),\n",
       " (Decimal('37.597127'), Decimal('55.766937')),\n",
       " (Decimal('37.574363'), Decimal('55.677692'))]"
      ]
     },
     "execution_count": 224,
     "metadata": {},
     "output_type": "execute_result"
    }
   ],
   "source": [
    "adress_line(slice11)"
   ]
  },
  {
   "cell_type": "code",
   "execution_count": 225,
   "metadata": {},
   "outputs": [
    {
     "data": {
      "text/plain": [
       "[(Decimal('37.737614'), Decimal('55.670864')),\n",
       " (Decimal('37.767717'), Decimal('55.652664')),\n",
       " (Decimal('37.585691'), Decimal('55.709956')),\n",
       " (Decimal('37.581613'), Decimal('55.774467')),\n",
       " (Decimal('37.616917'), Decimal('55.76169')),\n",
       " (Decimal('37.594288'), Decimal('55.763624')),\n",
       " (Decimal('37.678155'), Decimal('55.67655')),\n",
       " (Decimal('37.569216'), Decimal('55.783165')),\n",
       " (Decimal('37.5198'), Decimal('55.78728')),\n",
       " (Decimal('37.703514'), Decimal('55.733771')),\n",
       " (Decimal('37.620088'), Decimal('55.772031')),\n",
       " (Decimal('37.48084'), Decimal('55.621643')),\n",
       " (Decimal('37.445814'), Decimal('55.671331')),\n",
       " (Decimal('37.647037'), Decimal('55.822271')),\n",
       " (Decimal('37.594288'), Decimal('55.763624')),\n",
       " (Decimal('37.581613'), Decimal('55.774467')),\n",
       " (Decimal('37.616917'), Decimal('55.76169')),\n",
       " (Decimal('37.678155'), Decimal('55.67655')),\n",
       " (Decimal('37.569216'), Decimal('55.783165')),\n",
       " (Decimal('37.5198'), Decimal('55.78728')),\n",
       " (Decimal('37.703514'), Decimal('55.733771')),\n",
       " (Decimal('37.620088'), Decimal('55.772031')),\n",
       " (Decimal('37.48084'), Decimal('55.621643')),\n",
       " (Decimal('37.445814'), Decimal('55.671331')),\n",
       " (Decimal('37.647037'), Decimal('55.822271')),\n",
       " (Decimal('37.595833'), Decimal('55.762617')),\n",
       " (Decimal('37.690614'), Decimal('55.778897')),\n",
       " (Decimal('37.591171'), Decimal('55.77916')),\n",
       " (Decimal('37.562137'), Decimal('55.785387')),\n",
       " (Decimal('37.563179'), Decimal('55.862348')),\n",
       " (Decimal('37.584901'), Decimal('55.751908')),\n",
       " (Decimal('37.487856'), Decimal('55.792766')),\n",
       " (Decimal('37.660359'), Decimal('55.669579')),\n",
       " (Decimal('37.641836'), Decimal('55.734506')),\n",
       " (Decimal('37.605256'), Decimal('55.771839')),\n",
       " (Decimal('37.920197'), Decimal('55.700816')),\n",
       " (Decimal('37.625001'), Decimal('55.745666')),\n",
       " (Decimal('37.560502'), Decimal('55.6634')),\n",
       " (Decimal('37.586904'), Decimal('55.77356')),\n",
       " (Decimal('37.563179'), Decimal('55.862348')),\n",
       " (Decimal('37.584901'), Decimal('55.751908')),\n",
       " (Decimal('37.487856'), Decimal('55.792766')),\n",
       " (Decimal('37.660359'), Decimal('55.669579')),\n",
       " (Decimal('37.641836'), Decimal('55.734506')),\n",
       " (Decimal('37.920197'), Decimal('55.700816')),\n",
       " (Decimal('37.625001'), Decimal('55.745666')),\n",
       " (Decimal('37.560502'), Decimal('55.6634')),\n",
       " (Decimal('37.586904'), Decimal('55.77356')),\n",
       " (Decimal('37.610152'), Decimal('55.750631')),\n",
       " (Decimal('37.508122'), Decimal('55.743649')),\n",
       " (Decimal('37.54736'), Decimal('55.840427')),\n",
       " (Decimal('37.557233'), Decimal('55.67194')),\n",
       " (Decimal('37.575235'), Decimal('55.737284')),\n",
       " (Decimal('37.604816'), Decimal('55.745422')),\n",
       " (Decimal('37.700146'), Decimal('55.608653')),\n",
       " (Decimal('37.591027'), Decimal('55.80357')),\n",
       " (Decimal('37.641243'), Decimal('55.738505')),\n",
       " (Decimal('37.624031'), Decimal('55.773246')),\n",
       " (Decimal('37.553388'), Decimal('55.745894')),\n",
       " (Decimal('37.650352'), Decimal('55.766572')),\n",
       " (Decimal('37.586796'), Decimal('55.778193')),\n",
       " (Decimal('37.534918'), Decimal('55.649144')),\n",
       " (Decimal('37.5865'), Decimal('55.762444')),\n",
       " (Decimal('37.575235'), Decimal('55.737284')),\n",
       " (Decimal('37.604816'), Decimal('55.745422')),\n",
       " (Decimal('37.700146'), Decimal('55.608653')),\n",
       " (Decimal('37.591027'), Decimal('55.80357')),\n",
       " (Decimal('37.641243'), Decimal('55.738505')),\n",
       " (Decimal('37.624031'), Decimal('55.773246')),\n",
       " (Decimal('37.657323'), Decimal('55.776811')),\n",
       " (Decimal('37.553388'), Decimal('55.745894')),\n",
       " (Decimal('37.650352'), Decimal('55.766572')),\n",
       " (Decimal('37.534918'), Decimal('55.649144')),\n",
       " (Decimal('37.5865'), Decimal('55.762444')),\n",
       " (Decimal('37.37977'), Decimal('55.711747')),\n",
       " (Decimal('37.599417'), Decimal('55.782319')),\n",
       " (Decimal('37.633841'), Decimal('55.771327')),\n",
       " (Decimal('37.380175'), Decimal('55.694733')),\n",
       " (Decimal('37.668767'), Decimal('55.836064')),\n",
       " (Decimal('37.561509'), Decimal('55.75594')),\n",
       " (Decimal('37.599714'), Decimal('55.756989')),\n",
       " (Decimal('37.595869'), Decimal('55.726639')),\n",
       " (Decimal('37.575819'), Decimal('55.753154')),\n",
       " (Decimal('37.616962'), Decimal('55.763736')),\n",
       " (Decimal('37.599417'), Decimal('55.782319')),\n",
       " (Decimal('37.633841'), Decimal('55.771327')),\n",
       " (Decimal('37.380175'), Decimal('55.694733')),\n",
       " (Decimal('37.668767'), Decimal('55.836064')),\n",
       " (Decimal('37.632745'), Decimal('55.810081')),\n",
       " (Decimal('37.584811'), Decimal('55.799467')),\n",
       " (Decimal('37.625846'), Decimal('55.760038')),\n",
       " (Decimal('37.561509'), Decimal('55.75594')),\n",
       " (Decimal('37.599714'), Decimal('55.756989')),\n",
       " (Decimal('37.500207'), Decimal('55.697463')),\n",
       " (Decimal('37.576789'), Decimal('55.730847')),\n",
       " (Decimal('37.622091'), Decimal('55.708729')),\n",
       " (Decimal('37.400935'), Decimal('55.714962')),\n",
       " (Decimal('37.596174'), Decimal('55.72561')),\n",
       " (Decimal('37.682601'), Decimal('55.772112')),\n",
       " (Decimal('37.548321'), Decimal('55.680864'))]"
      ]
     },
     "execution_count": 225,
     "metadata": {},
     "output_type": "execute_result"
    }
   ],
   "source": [
    "adress_line(slice10)"
   ]
  },
  {
   "cell_type": "code",
   "execution_count": 226,
   "metadata": {},
   "outputs": [
    {
     "data": {
      "text/plain": [
       "[(Decimal('37.63173'), Decimal('55.75744')),\n",
       " (Decimal('37.575378'), Decimal('55.739306')),\n",
       " (Decimal('37.738522'), Decimal('55.730482')),\n",
       " (Decimal('37.765372'), Decimal('55.706284')),\n",
       " (Decimal('37.547315'), Decimal('55.754659')),\n",
       " (Decimal('37.584775'), Decimal('55.76017')),\n",
       " (Decimal('37.617887'), Decimal('55.763868')),\n",
       " (Decimal('37.545824'), Decimal('55.666056')),\n",
       " (Decimal('37.5804'), Decimal('55.746233')),\n",
       " (Decimal('37.678523'), Decimal('55.793419')),\n",
       " (Decimal('37.44497'), Decimal('55.881485')),\n",
       " (Decimal('37.560071'), Decimal('55.755353')),\n",
       " (Decimal('37.35901'), Decimal('55.794113')),\n",
       " (Decimal('37.632107'), Decimal('55.778679')),\n",
       " (Decimal('37.622082'), Decimal('55.765053')),\n",
       " (Decimal('37.507008'), Decimal('55.711214')),\n",
       " (Decimal('37.617141'), Decimal('55.795433')),\n",
       " (Decimal('37.545824'), Decimal('55.666056')),\n",
       " (Decimal('37.5804'), Decimal('55.746233')),\n",
       " (Decimal('37.678523'), Decimal('55.793419')),\n",
       " (Decimal('37.347269'), Decimal('55.855017')),\n",
       " (Decimal('37.44497'), Decimal('55.881485')),\n",
       " (Decimal('37.560071'), Decimal('55.755353')),\n",
       " (Decimal('37.35901'), Decimal('55.794113')),\n",
       " (Decimal('37.632107'), Decimal('55.778679')),\n",
       " (Decimal('37.622082'), Decimal('55.765053')),\n",
       " (Decimal('37.507008'), Decimal('55.711214')),\n",
       " (Decimal('37.617141'), Decimal('55.795433')),\n",
       " (Decimal('37.609847'), Decimal('55.753823')),\n",
       " (Decimal('37.572279'), Decimal('55.679052')),\n",
       " (Decimal('37.561257'), Decimal('55.684676')),\n",
       " (Decimal('37.747091'), Decimal('55.659434')),\n",
       " (Decimal('37.755311'), Decimal('55.748088')),\n",
       " (Decimal('37.559415'), Decimal('55.673945')),\n",
       " (Decimal('37.640434'), Decimal('55.683092')),\n",
       " (Decimal('37.604574'), Decimal('55.767392')),\n",
       " (Decimal('37.585943'), Decimal('55.75787')),\n",
       " (Decimal('37.608383'), Decimal('55.764865')),\n",
       " (Decimal('37.44409'), Decimal('55.850408')),\n",
       " (Decimal('37.593093'), Decimal('55.708927')),\n",
       " (Decimal('37.808428'), Decimal('55.639847')),\n",
       " (Decimal('37.622819'), Decimal('55.787153')),\n",
       " (Decimal('37.755311'), Decimal('55.748088')),\n",
       " (Decimal('37.559415'), Decimal('55.673945')),\n",
       " (Decimal('37.640434'), Decimal('55.683092')),\n",
       " (Decimal('37.604574'), Decimal('55.767392')),\n",
       " (Decimal('37.585943'), Decimal('55.75787')),\n",
       " (Decimal('37.608383'), Decimal('55.764865')),\n",
       " (Decimal('37.44409'), Decimal('55.850408')),\n",
       " (Decimal('37.593093'), Decimal('55.708927')),\n",
       " (Decimal('37.668974'), Decimal('55.734871')),\n",
       " (Decimal('37.588566'), Decimal('55.713451')),\n",
       " (Decimal('37.68314'), Decimal('55.772375')),\n",
       " (Decimal('37.611167'), Decimal('55.73218')),\n",
       " (Decimal('37.841406'), Decimal('55.703855')),\n",
       " (Decimal('37.619764'), Decimal('55.760798')),\n",
       " (Decimal('37.601879'), Decimal('55.690278')),\n",
       " (Decimal('37.781928'), Decimal('55.719511')),\n",
       " (Decimal('37.702158'), Decimal('55.782339')),\n",
       " (Decimal('37.601106'), Decimal('55.780497')),\n",
       " (Decimal('37.61777'), Decimal('55.728961')),\n",
       " (Decimal('37.492635'), Decimal('55.851449')),\n",
       " (Decimal('37.611383'), Decimal('55.726761')),\n",
       " (Decimal('37.494602'), Decimal('55.828683')),\n",
       " (Decimal('37.619764'), Decimal('55.760798')),\n",
       " (Decimal('37.635305'), Decimal('55.736012')),\n",
       " (Decimal('37.601879'), Decimal('55.690278')),\n",
       " (Decimal('37.781928'), Decimal('55.719511')),\n",
       " (Decimal('37.702158'), Decimal('55.782339')),\n",
       " (Decimal('37.601106'), Decimal('55.780497')),\n",
       " (Decimal('37.61777'), Decimal('55.728961')),\n",
       " (Decimal('37.492635'), Decimal('55.851449')),\n",
       " (Decimal('37.611383'), Decimal('55.726761')),\n",
       " (Decimal('37.494602'), Decimal('55.828683')),\n",
       " (Decimal('37.649076'), Decimal('55.736741')),\n",
       " (Decimal('37.570501'), Decimal('55.762085')),\n",
       " (Decimal('37.592797'), Decimal('55.771494')),\n",
       " (Decimal('37.635691'), Decimal('55.754953')),\n",
       " (Decimal('37.488475'), Decimal('55.734471')),\n",
       " (Decimal('37.627175'), Decimal('55.762556')),\n",
       " (Decimal('37.533921'), Decimal('55.692714')),\n",
       " (Decimal('37.632727'), Decimal('55.766911')),\n",
       " (Decimal('37.613449'), Decimal('55.762905')),\n",
       " (Decimal('37.546111'), Decimal('55.679417')),\n",
       " (Decimal('37.544629'), Decimal('55.790221')),\n",
       " (Decimal('37.607134'), Decimal('55.751335')),\n",
       " (Decimal('37.497656'), Decimal('55.657408')),\n",
       " (Decimal('37.599911'), Decimal('55.782182')),\n",
       " (Decimal('37.737614'), Decimal('55.670864')),\n",
       " (Decimal('37.488475'), Decimal('55.734471')),\n",
       " (Decimal('37.627175'), Decimal('55.762556')),\n",
       " (Decimal('37.533921'), Decimal('55.692714')),\n",
       " (Decimal('37.632727'), Decimal('55.766911')),\n",
       " (Decimal('37.613449'), Decimal('55.762905')),\n",
       " (Decimal('37.546111'), Decimal('55.679417')),\n",
       " (Decimal('37.544629'), Decimal('55.790221')),\n",
       " (Decimal('37.607134'), Decimal('55.751335')),\n",
       " (Decimal('37.476169'), Decimal('55.727927')),\n",
       " (Decimal('37.497656'), Decimal('55.657408')),\n",
       " (Decimal('37.599911'), Decimal('55.782182'))]"
      ]
     },
     "execution_count": 226,
     "metadata": {},
     "output_type": "execute_result"
    }
   ],
   "source": [
    "adress_line(slice9)"
   ]
  },
  {
   "cell_type": "code",
   "execution_count": 227,
   "metadata": {},
   "outputs": [
    {
     "data": {
      "text/plain": [
       "[(Decimal('37.639455'), Decimal('55.729741')),\n",
       " (Decimal('37.62572'), Decimal('55.763194')),\n",
       " (Decimal('37.592698'), Decimal('55.793293')),\n",
       " (Decimal('37.628756'), Decimal('55.740943')),\n",
       " (Decimal('37.598052'), Decimal('55.758357')),\n",
       " (Decimal('37.628271'), Decimal('55.741262')),\n",
       " (Decimal('37.678272'), Decimal('55.772603')),\n",
       " (Decimal('37.611167'), Decimal('55.73218')),\n",
       " (Decimal('37.461903'), Decimal('55.805953')),\n",
       " (Decimal('37.491063'), Decimal('55.683752')),\n",
       " (Decimal('37.732467'), Decimal('55.766202')),\n",
       " (Decimal('37.633733'), Decimal('55.830867')),\n",
       " (Decimal('37.58579'), Decimal('55.758762')),\n",
       " (Decimal('37.626717'), Decimal('55.722882')),\n",
       " (Decimal('37.577975'), Decimal('55.743659')),\n",
       " (Decimal('37.650864'), Decimal('55.829011')),\n",
       " (Decimal('37.644791'), Decimal('55.728621')),\n",
       " (Decimal('37.555364'), Decimal('55.758352')),\n",
       " (Decimal('37.589904'), Decimal('55.869364')),\n",
       " (Decimal('37.581523'), Decimal('55.747024')),\n",
       " (Decimal('37.678272'), Decimal('55.772603')),\n",
       " (Decimal('37.611167'), Decimal('55.73218')),\n",
       " (Decimal('37.461903'), Decimal('55.805953')),\n",
       " (Decimal('37.491063'), Decimal('55.683752')),\n",
       " (Decimal('37.577975'), Decimal('55.743659')),\n",
       " (Decimal('37.732467'), Decimal('55.766202')),\n",
       " (Decimal('37.633733'), Decimal('55.830867')),\n",
       " (Decimal('37.58579'), Decimal('55.758762')),\n",
       " (Decimal('37.626717'), Decimal('55.722882')),\n",
       " (Decimal('37.650864'), Decimal('55.829011')),\n",
       " (Decimal('37.555364'), Decimal('55.758352')),\n",
       " (Decimal('37.589904'), Decimal('55.869364')),\n",
       " (Decimal('37.581523'), Decimal('55.747024')),\n",
       " (Decimal('37.636653'), Decimal('55.800205')),\n",
       " (Decimal('37.646193'), Decimal('55.770588')),\n",
       " (Decimal('37.532951'), Decimal('55.640111')),\n",
       " (Decimal('37.632305'), Decimal('55.756817')),\n",
       " (Decimal('37.594513'), Decimal('55.773413')),\n",
       " (Decimal('37.607053'), Decimal('55.765063')),\n",
       " (Decimal('37.543354'), Decimal('55.865177')),\n",
       " (Decimal('37.478441'), Decimal('55.779084')),\n",
       " (Decimal('37.626214'), Decimal('55.752703')),\n",
       " (Decimal('37.63023'), Decimal('55.740588')),\n",
       " (Decimal('37.925542'), Decimal('55.702713')),\n",
       " (Decimal('37.646193'), Decimal('55.770588')),\n",
       " (Decimal('37.532951'), Decimal('55.640111')),\n",
       " (Decimal('37.632305'), Decimal('55.756817')),\n",
       " (Decimal('37.594513'), Decimal('55.773413')),\n",
       " (Decimal('37.607053'), Decimal('55.765063')),\n",
       " (Decimal('37.543354'), Decimal('55.865177')),\n",
       " (Decimal('37.478441'), Decimal('55.779084')),\n",
       " (Decimal('37.626214'), Decimal('55.752703')),\n",
       " (Decimal('37.63023'), Decimal('55.740588')),\n",
       " (Decimal('37.925542'), Decimal('55.702713')),\n",
       " (Decimal('37.614222'), Decimal('55.784577')),\n",
       " (Decimal('37.613701'), Decimal('55.762774')),\n",
       " (Decimal('37.548124'), Decimal('55.774239')),\n",
       " (Decimal('37.579744'), Decimal('55.782927')),\n",
       " (Decimal('37.63809'), Decimal('55.708754')),\n",
       " (Decimal('37.612497'), Decimal('55.739772')),\n",
       " (Decimal('37.628729'), Decimal('55.779687')),\n",
       " (Decimal('37.603487'), Decimal('55.745068')),\n",
       " (Decimal('37.61671'), Decimal('55.759684')),\n",
       " (Decimal('37.620896'), Decimal('55.757131')),\n",
       " (Decimal('37.38207'), Decimal('55.652258')),\n",
       " (Decimal('37.60549'), Decimal('55.749501')),\n",
       " (Decimal('37.594701'), Decimal('55.763204')),\n",
       " (Decimal('37.643929'), Decimal('55.732945')),\n",
       " (Decimal('37.510915'), Decimal('55.706061')),\n",
       " (Decimal('37.620896'), Decimal('55.757131')),\n",
       " (Decimal('37.38207'), Decimal('55.652258')),\n",
       " (Decimal('37.594701'), Decimal('55.763204')),\n",
       " (Decimal('37.643929'), Decimal('55.732945')),\n",
       " (Decimal('37.674499'), Decimal('55.73846')),\n",
       " (Decimal('37.637389'), Decimal('55.754167')),\n",
       " (Decimal('37.688117'), Decimal('55.76092')),\n",
       " (Decimal('37.631721'), Decimal('55.773125')),\n",
       " (Decimal('37.383624'), Decimal('55.844334')),\n",
       " (Decimal('37.571803'), Decimal('55.766035')),\n",
       " (Decimal('37.701304'), Decimal('55.764769')),\n",
       " (Decimal('37.560152'), Decimal('55.874491')),\n",
       " (Decimal('37.677427'), Decimal('55.745676')),\n",
       " (Decimal('37.580517'), Decimal('55.745316')),\n",
       " (Decimal('37.794226'), Decimal('55.744825')),\n",
       " (Decimal('37.58491'), Decimal('55.769514')),\n",
       " (Decimal('37.63173'), Decimal('55.75744')),\n",
       " (Decimal('37.575378'), Decimal('55.739306')),\n",
       " (Decimal('37.738522'), Decimal('55.730482')),\n",
       " (Decimal('37.547315'), Decimal('55.754659')),\n",
       " (Decimal('37.584775'), Decimal('55.76017')),\n",
       " (Decimal('37.617887'), Decimal('55.763868')),\n",
       " (Decimal('37.545824'), Decimal('55.666056')),\n",
       " (Decimal('37.383624'), Decimal('55.844334')),\n",
       " (Decimal('37.571803'), Decimal('55.766035')),\n",
       " (Decimal('37.701304'), Decimal('55.764769')),\n",
       " (Decimal('37.560152'), Decimal('55.874491')),\n",
       " (Decimal('37.677427'), Decimal('55.745676')),\n",
       " (Decimal('37.580517'), Decimal('55.745316')),\n",
       " (Decimal('37.794226'), Decimal('55.744825')),\n",
       " (Decimal('37.58491'), Decimal('55.769514'))]"
      ]
     },
     "execution_count": 227,
     "metadata": {},
     "output_type": "execute_result"
    }
   ],
   "source": [
    "adress_line(slice8)"
   ]
  },
  {
   "cell_type": "code",
   "execution_count": 228,
   "metadata": {},
   "outputs": [
    {
     "data": {
      "text/plain": [
       "[(Decimal('37.635161'), Decimal('55.791258')),\n",
       " (Decimal('37.597028'), Decimal('55.772264')),\n",
       " (Decimal('37.664914'), Decimal('55.678854')),\n",
       " (Decimal('37.57961'), Decimal('55.759785')),\n",
       " (Decimal('37.520339'), Decimal('55.805791')),\n",
       " (Decimal('37.645779'), Decimal('55.712548')),\n",
       " (Decimal('37.620869'), Decimal('55.7322')),\n",
       " (Decimal('37.730904'), Decimal('55.644049')),\n",
       " (Decimal('37.610871'), Decimal('55.772472')),\n",
       " (Decimal('37.595348'), Decimal('55.750423')),\n",
       " (Decimal('37.586329'), Decimal('55.75324')),\n",
       " (Decimal('37.649678'), Decimal('55.772426')),\n",
       " (Decimal('37.617518'), Decimal('55.777515')),\n",
       " (Decimal('37.59498'), Decimal('55.762976')),\n",
       " (Decimal('37.468389'), Decimal('55.859231')),\n",
       " (Decimal('37.636024'), Decimal('55.763457')),\n",
       " (Decimal('37.671399'), Decimal('55.746279')),\n",
       " (Decimal('37.759713'), Decimal('55.803702')),\n",
       " (Decimal('37.603271'), Decimal('55.640746')),\n",
       " (Decimal('37.646768'), Decimal('55.769859')),\n",
       " (Decimal('37.616629'), Decimal('55.74222')),\n",
       " (Decimal('37.656676'), Decimal('55.76018')),\n",
       " (Decimal('37.595689'), Decimal('55.744323')),\n",
       " (Decimal('37.620869'), Decimal('55.7322')),\n",
       " (Decimal('37.730904'), Decimal('55.644049')),\n",
       " (Decimal('37.610871'), Decimal('55.772472')),\n",
       " (Decimal('37.595348'), Decimal('55.750423')),\n",
       " (Decimal('37.586329'), Decimal('55.75324')),\n",
       " (Decimal('37.649678'), Decimal('55.772426')),\n",
       " (Decimal('37.617518'), Decimal('55.777515')),\n",
       " (Decimal('37.59498'), Decimal('55.762976')),\n",
       " (Decimal('37.468389'), Decimal('55.859231')),\n",
       " (Decimal('37.636024'), Decimal('55.763457')),\n",
       " (Decimal('37.671399'), Decimal('55.746279')),\n",
       " (Decimal('37.759713'), Decimal('55.803702')),\n",
       " (Decimal('37.603271'), Decimal('55.640746')),\n",
       " (Decimal('37.646768'), Decimal('55.769859')),\n",
       " (Decimal('37.616629'), Decimal('55.74222')),\n",
       " (Decimal('37.656676'), Decimal('55.76018')),\n",
       " (Decimal('37.595689'), Decimal('55.744323')),\n",
       " (Decimal('37.615758'), Decimal('55.763559')),\n",
       " (Decimal('37.586329'), Decimal('55.75324')),\n",
       " (Decimal('37.655095'), Decimal('55.764394')),\n",
       " (Decimal('37.655616'), Decimal('55.742174')),\n",
       " (Decimal('37.598447'), Decimal('55.740928')),\n",
       " (Decimal('37.642132'), Decimal('55.774305')),\n",
       " (Decimal('37.618039'), Decimal('55.761269')),\n",
       " (Decimal('37.553217'), Decimal('55.920381')),\n",
       " (Decimal('37.586329'), Decimal('55.75324')),\n",
       " (Decimal('37.655095'), Decimal('55.764394')),\n",
       " (Decimal('37.655616'), Decimal('55.742174')),\n",
       " (Decimal('37.642132'), Decimal('55.774305')),\n",
       " (Decimal('37.598447'), Decimal('55.740928')),\n",
       " (Decimal('37.618039'), Decimal('55.761269')),\n",
       " (Decimal('37.553217'), Decimal('55.920381')),\n",
       " (Decimal('37.585673'), Decimal('55.857321')),\n",
       " (Decimal('37.609631'), Decimal('55.741814')),\n",
       " (Decimal('37.558679'), Decimal('55.694079')),\n",
       " (Decimal('37.584901'), Decimal('55.751908')),\n",
       " (Decimal('37.589006'), Decimal('55.734243')),\n",
       " (Decimal('37.566764'), Decimal('55.752323')),\n",
       " (Decimal('37.590021'), Decimal('55.762601')),\n",
       " (Decimal('37.612623'), Decimal('55.761811')),\n",
       " (Decimal('37.613072'), Decimal('55.744444')),\n",
       " (Decimal('37.664581'), Decimal('55.711605')),\n",
       " (Decimal('37.655032'), Decimal('55.739742')),\n",
       " (Decimal('37.726772'), Decimal('55.702485')),\n",
       " (Decimal('37.680517'), Decimal('55.790448')),\n",
       " (Decimal('37.627669'), Decimal('55.756781')),\n",
       " (Decimal('37.530526'), Decimal('55.802457')),\n",
       " (Decimal('37.603675'), Decimal('55.756675')),\n",
       " (Decimal('37.45195'), Decimal('55.849964')),\n",
       " (Decimal('37.600594'), Decimal('55.779155')),\n",
       " (Decimal('37.590021'), Decimal('55.762601')),\n",
       " (Decimal('37.72449'), Decimal('55.605327')),\n",
       " (Decimal('37.613072'), Decimal('55.744444')),\n",
       " (Decimal('37.664581'), Decimal('55.711605')),\n",
       " (Decimal('37.655032'), Decimal('55.739742')),\n",
       " (Decimal('37.726772'), Decimal('55.702485')),\n",
       " (Decimal('37.680517'), Decimal('55.790448')),\n",
       " (Decimal('37.627669'), Decimal('55.756781')),\n",
       " (Decimal('37.530526'), Decimal('55.802457')),\n",
       " (Decimal('37.603675'), Decimal('55.756675')),\n",
       " (Decimal('37.45195'), Decimal('55.849964')),\n",
       " (Decimal('37.600594'), Decimal('55.779155')),\n",
       " (Decimal('37.75302'), Decimal('55.664218')),\n",
       " (Decimal('37.639455'), Decimal('55.729741')),\n",
       " (Decimal('37.62572'), Decimal('55.763194')),\n",
       " (Decimal('37.598052'), Decimal('55.758357')),\n",
       " (Decimal('37.628271'), Decimal('55.741262')),\n",
       " (Decimal('37.678272'), Decimal('55.772603')),\n",
       " (Decimal('37.611167'), Decimal('55.73218')),\n",
       " (Decimal('37.461903'), Decimal('55.805953')),\n",
       " (Decimal('37.491063'), Decimal('55.683752')),\n",
       " (Decimal('37.732467'), Decimal('55.766202')),\n",
       " (Decimal('37.530526'), Decimal('55.802457')),\n",
       " (Decimal('37.603675'), Decimal('55.756675')),\n",
       " (Decimal('37.45195'), Decimal('55.849964')),\n",
       " (Decimal('37.600594'), Decimal('55.779155')),\n",
       " (Decimal('37.75302'), Decimal('55.664218'))]"
      ]
     },
     "execution_count": 228,
     "metadata": {},
     "output_type": "execute_result"
    }
   ],
   "source": [
    "adress_line(slice7)"
   ]
  },
  {
   "cell_type": "code",
   "execution_count": 229,
   "metadata": {},
   "outputs": [
    {
     "data": {
      "text/plain": [
       "[(Decimal('37.588602'), Decimal('55.779049')),\n",
       " (Decimal('37.61644'), Decimal('55.758924')),\n",
       " (Decimal('37.558858'), Decimal('55.857144')),\n",
       " (Decimal('37.582511'), Decimal('55.75783')),\n",
       " (Decimal('37.73394'), Decimal('55.699365')),\n",
       " (Decimal('37.599696'), Decimal('55.757926')),\n",
       " (Decimal('37.651205'), Decimal('55.766658')),\n",
       " (Decimal('37.588916'), Decimal('55.752105')),\n",
       " (Decimal('37.560413'), Decimal('55.755003')),\n",
       " (Decimal('37.601744'), Decimal('55.756822')),\n",
       " (Decimal('37.580373'), Decimal('55.761512')),\n",
       " (Decimal('37.614294'), Decimal('55.761355')),\n",
       " (Decimal('37.572082'), Decimal('55.781539')),\n",
       " (Decimal('37.651601'), Decimal('55.739341')),\n",
       " (Decimal('37.421874'), Decimal('55.850014')),\n",
       " (Decimal('37.415407'), Decimal('55.741014')),\n",
       " (Decimal('37.666036'), Decimal('55.731262')),\n",
       " (Decimal('37.600522'), Decimal('55.759142')),\n",
       " (Decimal('37.665363'), Decimal('55.741515')),\n",
       " (Decimal('37.623483'), Decimal('55.768025')),\n",
       " (Decimal('37.62696'), Decimal('55.745661')),\n",
       " (Decimal('37.595941'), Decimal('55.768765')),\n",
       " (Decimal('37.588359'), Decimal('55.747692')),\n",
       " (Decimal('37.529142'), Decimal('55.663943')),\n",
       " (Decimal('37.609164'), Decimal('55.742291')),\n",
       " (Decimal('37.447234'), Decimal('55.834922')),\n",
       " (Decimal('37.651601'), Decimal('55.739341')),\n",
       " (Decimal('37.415407'), Decimal('55.741014')),\n",
       " (Decimal('37.421874'), Decimal('55.850014')),\n",
       " (Decimal('37.666036'), Decimal('55.731262')),\n",
       " (Decimal('37.600522'), Decimal('55.759142')),\n",
       " (Decimal('37.665363'), Decimal('55.741515')),\n",
       " (Decimal('37.623483'), Decimal('55.768025')),\n",
       " (Decimal('37.62696'), Decimal('55.745661')),\n",
       " (Decimal('37.595941'), Decimal('55.768765')),\n",
       " (Decimal('37.588359'), Decimal('55.747692')),\n",
       " (Decimal('37.529142'), Decimal('55.663943')),\n",
       " (Decimal('37.584964'), Decimal('55.806525')),\n",
       " (Decimal('37.609164'), Decimal('55.742291')),\n",
       " (Decimal('37.50036'), Decimal('55.817092')),\n",
       " (Decimal('37.641674'), Decimal('55.751751')),\n",
       " (Decimal('37.585808'), Decimal('55.852768')),\n",
       " (Decimal('37.617114'), Decimal('55.757131')),\n",
       " (Decimal('37.59189'), Decimal('55.779474')),\n",
       " (Decimal('37.625981'), Decimal('55.747616')),\n",
       " (Decimal('37.605337'), Decimal('55.756741')),\n",
       " (Decimal('37.622082'), Decimal('55.759719')),\n",
       " (Decimal('37.564904'), Decimal('55.750712')),\n",
       " (Decimal('37.698151'), Decimal('55.7475')),\n",
       " (Decimal('37.569953'), Decimal('55.756462')),\n",
       " (Decimal('37.588359'), Decimal('55.747692')),\n",
       " (Decimal('37.681047'), Decimal('55.791936')),\n",
       " (Decimal('37.529142'), Decimal('55.663943')),\n",
       " (Decimal('37.584964'), Decimal('55.806525')),\n",
       " (Decimal('37.609164'), Decimal('55.742291')),\n",
       " (Decimal('37.50036'), Decimal('55.817092')),\n",
       " (Decimal('37.641674'), Decimal('55.751751')),\n",
       " (Decimal('37.585808'), Decimal('55.852768')),\n",
       " (Decimal('37.617114'), Decimal('55.757131')),\n",
       " (Decimal('37.59189'), Decimal('55.779474')),\n",
       " (Decimal('37.625981'), Decimal('55.747616')),\n",
       " (Decimal('37.605337'), Decimal('55.756741')),\n",
       " (Decimal('37.622082'), Decimal('55.759719')),\n",
       " (Decimal('37.564904'), Decimal('55.750712')),\n",
       " (Decimal('37.698151'), Decimal('55.7475')),\n",
       " (Decimal('37.569953'), Decimal('55.756462')),\n",
       " (Decimal('37.612057'), Decimal('55.775869')),\n",
       " (Decimal('37.803784'), Decimal('55.714516')),\n",
       " (Decimal('37.535547'), Decimal('55.68704')),\n",
       " (Decimal('37.608275'), Decimal('55.76722')),\n",
       " (Decimal('37.614743'), Decimal('55.760849')),\n",
       " (Decimal('37.58694'), Decimal('55.723521')),\n",
       " (Decimal('37.568075'), Decimal('55.658276')),\n",
       " (Decimal('37.49488'), Decimal('55.692587')),\n",
       " (Decimal('37.618057'), Decimal('55.757293')),\n",
       " (Decimal('37.622082'), Decimal('55.759719')),\n",
       " (Decimal('37.564904'), Decimal('55.750712')),\n",
       " (Decimal('37.698151'), Decimal('55.7475')),\n",
       " (Decimal('37.569953'), Decimal('55.756462')),\n",
       " (Decimal('37.612057'), Decimal('55.775869')),\n",
       " (Decimal('37.803784'), Decimal('55.714516')),\n",
       " (Decimal('37.535547'), Decimal('55.68704')),\n",
       " (Decimal('37.608275'), Decimal('55.76722')),\n",
       " (Decimal('37.58694'), Decimal('55.723521')),\n",
       " (Decimal('37.568075'), Decimal('55.658276')),\n",
       " (Decimal('37.618057'), Decimal('55.757293')),\n",
       " (Decimal('37.677463'), Decimal('55.723486')),\n",
       " (Decimal('37.635161'), Decimal('55.791258')),\n",
       " (Decimal('37.597028'), Decimal('55.772264')),\n",
       " (Decimal('37.664914'), Decimal('55.678854')),\n",
       " (Decimal('37.57961'), Decimal('55.759785')),\n",
       " (Decimal('37.520339'), Decimal('55.805791')),\n",
       " (Decimal('37.645779'), Decimal('55.712548')),\n",
       " (Decimal('37.620869'), Decimal('55.7322')),\n",
       " (Decimal('37.730904'), Decimal('55.644049')),\n",
       " (Decimal('37.610871'), Decimal('55.772472')),\n",
       " (Decimal('37.595348'), Decimal('55.750423')),\n",
       " (Decimal('37.586329'), Decimal('55.75324')),\n",
       " (Decimal('37.618057'), Decimal('55.757293')),\n",
       " (Decimal('37.677463'), Decimal('55.723486'))]"
      ]
     },
     "execution_count": 229,
     "metadata": {},
     "output_type": "execute_result"
    }
   ],
   "source": [
    "adress_line(slice6)"
   ]
  },
  {
   "cell_type": "code",
   "execution_count": 230,
   "metadata": {},
   "outputs": [
    {
     "data": {
      "text/plain": [
       "[(Decimal('37.626564'), Decimal('55.730274')),\n",
       " (Decimal('37.657538'), Decimal('55.763584')),\n",
       " (Decimal('37.506091'), Decimal('55.805776')),\n",
       " (Decimal('37.611679'), Decimal('55.731794')),\n",
       " (Decimal('37.654601'), Decimal('55.710124')),\n",
       " (Decimal('37.653873'), Decimal('55.704473')),\n",
       " (Decimal('37.52598'), Decimal('55.802725')),\n",
       " (Decimal('37.571067'), Decimal('55.761138')),\n",
       " (Decimal('37.609613'), Decimal('55.740999')),\n",
       " (Decimal('37.598393'), Decimal('55.747054')),\n",
       " (Decimal('37.638171'), Decimal('55.745914')),\n",
       " (Decimal('37.636778'), Decimal('55.757921')),\n",
       " (Decimal('37.642312'), Decimal('55.732458')),\n",
       " (Decimal('37.627032'), Decimal('55.745493')),\n",
       " (Decimal('37.604753'), Decimal('55.647447')),\n",
       " (Decimal('37.617285'), Decimal('55.75897')),\n",
       " (Decimal('37.562748'), Decimal('55.755586')),\n",
       " (Decimal('37.557807'), Decimal('55.764065')),\n",
       " (Decimal('37.632772'), Decimal('55.770259')),\n",
       " (Decimal('37.585691'), Decimal('55.709956')),\n",
       " (Decimal('37.617114'), Decimal('55.757131')),\n",
       " (Decimal('37.610898'), Decimal('55.752926')),\n",
       " (Decimal('37.774427'), Decimal('55.759451')),\n",
       " (Decimal('37.566764'), Decimal('55.752323')),\n",
       " (Decimal('37.594288'), Decimal('55.763624')),\n",
       " (Decimal('37.52598'), Decimal('55.802725')),\n",
       " (Decimal('37.867241'), Decimal('55.737588')),\n",
       " (Decimal('37.571067'), Decimal('55.761138')),\n",
       " (Decimal('37.609613'), Decimal('55.740999')),\n",
       " (Decimal('37.598393'), Decimal('55.747054')),\n",
       " (Decimal('37.638171'), Decimal('55.745914')),\n",
       " (Decimal('37.636778'), Decimal('55.757921')),\n",
       " (Decimal('37.642312'), Decimal('55.732458')),\n",
       " (Decimal('37.588323'), Decimal('55.746203')),\n",
       " (Decimal('37.627032'), Decimal('55.745493')),\n",
       " (Decimal('37.604753'), Decimal('55.647447')),\n",
       " (Decimal('37.617285'), Decimal('55.75897')),\n",
       " (Decimal('37.562748'), Decimal('55.755586')),\n",
       " (Decimal('37.557807'), Decimal('55.764065')),\n",
       " (Decimal('37.632772'), Decimal('55.770259')),\n",
       " (Decimal('37.585691'), Decimal('55.709956')),\n",
       " (Decimal('37.617114'), Decimal('55.757131')),\n",
       " (Decimal('37.610898'), Decimal('55.752926')),\n",
       " (Decimal('37.774427'), Decimal('55.759451')),\n",
       " (Decimal('37.566764'), Decimal('55.752323')),\n",
       " (Decimal('37.594288'), Decimal('55.763624')),\n",
       " (Decimal('37.602373'), Decimal('55.744029')),\n",
       " (Decimal('37.605328'), Decimal('55.711655')),\n",
       " (Decimal('37.57342'), Decimal('55.724723')),\n",
       " (Decimal('37.591934'), Decimal('55.802462')),\n",
       " (Decimal('37.632772'), Decimal('55.770259')),\n",
       " (Decimal('37.585691'), Decimal('55.709956')),\n",
       " (Decimal('37.617114'), Decimal('55.757131')),\n",
       " (Decimal('37.610898'), Decimal('55.752926')),\n",
       " (Decimal('37.774427'), Decimal('55.759451')),\n",
       " (Decimal('37.566764'), Decimal('55.752323')),\n",
       " (Decimal('37.594288'), Decimal('55.763624')),\n",
       " (Decimal('37.602373'), Decimal('55.744029')),\n",
       " (Decimal('37.547315'), Decimal('55.754659')),\n",
       " (Decimal('37.605328'), Decimal('55.711655')),\n",
       " (Decimal('37.57342'), Decimal('55.724723')),\n",
       " (Decimal('37.591934'), Decimal('55.802462')),\n",
       " (Decimal('37.606595'), Decimal('55.763478')),\n",
       " (Decimal('37.497468'), Decimal('55.823211')),\n",
       " (Decimal('37.596183'), Decimal('55.762895')),\n",
       " (Decimal('37.601672'), Decimal('55.780573')),\n",
       " (Decimal('37.552903'), Decimal('55.749841')),\n",
       " (Decimal('37.704736'), Decimal('55.623752')),\n",
       " (Decimal('37.598807'), Decimal('55.741901')),\n",
       " (Decimal('37.656703'), Decimal('55.741794')),\n",
       " (Decimal('37.539644'), Decimal('55.749299')),\n",
       " (Decimal('37.730904'), Decimal('55.644049')),\n",
       " (Decimal('37.588027'), Decimal('55.735941')),\n",
       " (Decimal('37.636662'), Decimal('55.763027')),\n",
       " (Decimal('37.462317'), Decimal('55.808923')),\n",
       " (Decimal('37.596183'), Decimal('55.762895')),\n",
       " (Decimal('37.601672'), Decimal('55.780573')),\n",
       " (Decimal('37.552903'), Decimal('55.749841')),\n",
       " (Decimal('37.704736'), Decimal('55.623752')),\n",
       " (Decimal('37.598807'), Decimal('55.741901')),\n",
       " (Decimal('37.656703'), Decimal('55.741794')),\n",
       " (Decimal('37.539644'), Decimal('55.749299')),\n",
       " (Decimal('37.730904'), Decimal('55.644049')),\n",
       " (Decimal('37.588027'), Decimal('55.735941')),\n",
       " (Decimal('37.636662'), Decimal('55.763027')),\n",
       " (Decimal('37.462317'), Decimal('55.808923')),\n",
       " (Decimal('37.605508'), Decimal('55.739732')),\n",
       " (Decimal('37.588602'), Decimal('55.779049')),\n",
       " (Decimal('37.61644'), Decimal('55.758924')),\n",
       " (Decimal('37.558858'), Decimal('55.857144')),\n",
       " (Decimal('37.582511'), Decimal('55.75783')),\n",
       " (Decimal('37.73394'), Decimal('55.699365')),\n",
       " (Decimal('37.599696'), Decimal('55.757926')),\n",
       " (Decimal('37.651205'), Decimal('55.766658')),\n",
       " (Decimal('37.588916'), Decimal('55.752105')),\n",
       " (Decimal('37.560413'), Decimal('55.755003')),\n",
       " (Decimal('37.601744'), Decimal('55.756822')),\n",
       " (Decimal('37.580373'), Decimal('55.761512')),\n",
       " (Decimal('37.614294'), Decimal('55.761355')),\n",
       " (Decimal('37.572082'), Decimal('55.781539'))]"
      ]
     },
     "execution_count": 230,
     "metadata": {},
     "output_type": "execute_result"
    }
   ],
   "source": [
    "adress_line(slice5)"
   ]
  },
  {
   "cell_type": "code",
   "execution_count": 231,
   "metadata": {},
   "outputs": [
    {
     "data": {
      "text/plain": [
       "[(Decimal('37.703326'), Decimal('55.794315')),\n",
       " (Decimal('37.606703'), Decimal('55.762525')),\n",
       " (Decimal('37.534316'), Decimal('55.715814')),\n",
       " (Decimal('37.584901'), Decimal('55.751908')),\n",
       " (Decimal('37.630382'), Decimal('55.741946')),\n",
       " (Decimal('37.633787'), Decimal('55.752855')),\n",
       " (Decimal('37.530202'), Decimal('55.889639')),\n",
       " (Decimal('37.608895'), Decimal('55.770112')),\n",
       " (Decimal('37.71716'), Decimal('55.780142')),\n",
       " (Decimal('37.572082'), Decimal('55.781539')),\n",
       " (Decimal('37.711392'), Decimal('55.791891')),\n",
       " (Decimal('37.580894'), Decimal('55.781626')),\n",
       " (Decimal('37.62493'), Decimal('55.770552')),\n",
       " (Decimal('37.539967'), Decimal('55.793779')),\n",
       " (Decimal('37.599911'), Decimal('55.782182')),\n",
       " (Decimal('37.612982'), Decimal('55.757364')),\n",
       " (Decimal('37.518228'), Decimal('55.715733')),\n",
       " (Decimal('37.628316'), Decimal('55.732256')),\n",
       " (Decimal('37.561913'), Decimal('55.757171')),\n",
       " (Decimal('37.623375'), Decimal('55.77835')),\n",
       " (Decimal('37.5804'), Decimal('55.746233')),\n",
       " (Decimal('37.570474'), Decimal('55.72961')),\n",
       " (Decimal('37.821903'), Decimal('55.766025')),\n",
       " (Decimal('37.622199'), Decimal('55.762227')),\n",
       " (Decimal('37.624777'), Decimal('55.759091')),\n",
       " (Decimal('37.62493'), Decimal('55.770552')),\n",
       " (Decimal('37.539967'), Decimal('55.793779')),\n",
       " (Decimal('37.599364'), Decimal('55.781696')),\n",
       " (Decimal('37.599911'), Decimal('55.782182')),\n",
       " (Decimal('37.612982'), Decimal('55.757364')),\n",
       " (Decimal('37.518228'), Decimal('55.715733')),\n",
       " (Decimal('37.628316'), Decimal('55.732256')),\n",
       " (Decimal('37.561913'), Decimal('55.757171')),\n",
       " (Decimal('37.623375'), Decimal('55.77835')),\n",
       " (Decimal('37.5804'), Decimal('55.746233')),\n",
       " (Decimal('37.570474'), Decimal('55.72961')),\n",
       " (Decimal('37.821903'), Decimal('55.766025')),\n",
       " (Decimal('37.622199'), Decimal('55.762227')),\n",
       " (Decimal('37.624777'), Decimal('55.759091')),\n",
       " (Decimal('37.406289'), Decimal('55.803732')),\n",
       " (Decimal('37.585134'), Decimal('55.804359')),\n",
       " (Decimal('37.574831'), Decimal('55.761365')),\n",
       " (Decimal('37.619899'), Decimal('55.823393')),\n",
       " (Decimal('37.604529'), Decimal('55.730532')),\n",
       " (Decimal('37.479879'), Decimal('55.778588')),\n",
       " (Decimal('37.539644'), Decimal('55.749299')),\n",
       " (Decimal('37.596965'), Decimal('55.760337')),\n",
       " (Decimal('37.586158'), Decimal('55.75204')),\n",
       " (Decimal('37.625594'), Decimal('55.699467')),\n",
       " (Decimal('37.519755'), Decimal('55.802654')),\n",
       " (Decimal('37.570474'), Decimal('55.72961')),\n",
       " (Decimal('37.821903'), Decimal('55.766025')),\n",
       " (Decimal('37.622199'), Decimal('55.762227')),\n",
       " (Decimal('37.624777'), Decimal('55.759091')),\n",
       " (Decimal('37.493874'), Decimal('55.680265')),\n",
       " (Decimal('37.512236'), Decimal('55.701719')),\n",
       " (Decimal('37.406289'), Decimal('55.803732')),\n",
       " (Decimal('37.585134'), Decimal('55.804359')),\n",
       " (Decimal('37.574831'), Decimal('55.761365')),\n",
       " (Decimal('37.619899'), Decimal('55.823393')),\n",
       " (Decimal('37.604529'), Decimal('55.730532')),\n",
       " (Decimal('37.479879'), Decimal('55.778588')),\n",
       " (Decimal('37.539644'), Decimal('55.749299')),\n",
       " (Decimal('37.596965'), Decimal('55.760337')),\n",
       " (Decimal('37.418021'), Decimal('55.734248')),\n",
       " (Decimal('37.586158'), Decimal('55.75204')),\n",
       " (Decimal('37.625594'), Decimal('55.699467')),\n",
       " (Decimal('37.519755'), Decimal('55.802654')),\n",
       " (Decimal('37.670501'), Decimal('55.731024')),\n",
       " (Decimal('37.616162'), Decimal('55.762363')),\n",
       " (Decimal('37.623295'), Decimal('55.761918')),\n",
       " (Decimal('37.556137'), Decimal('55.764389')),\n",
       " (Decimal('37.606703'), Decimal('55.762525')),\n",
       " (Decimal('37.620698'), Decimal('55.768881')),\n",
       " (Decimal('37.595519'), Decimal('55.750965')),\n",
       " (Decimal('37.596965'), Decimal('55.760337')),\n",
       " (Decimal('37.539644'), Decimal('55.749299')),\n",
       " (Decimal('37.586158'), Decimal('55.75204')),\n",
       " (Decimal('37.418021'), Decimal('55.734248')),\n",
       " (Decimal('37.556137'), Decimal('55.764389')),\n",
       " (Decimal('37.625594'), Decimal('55.699467')),\n",
       " (Decimal('37.519755'), Decimal('55.802654')),\n",
       " (Decimal('37.670501'), Decimal('55.731024')),\n",
       " (Decimal('37.616162'), Decimal('55.762363')),\n",
       " (Decimal('37.623295'), Decimal('55.761918')),\n",
       " (Decimal('37.606703'), Decimal('55.762525')),\n",
       " (Decimal('37.620698'), Decimal('55.768881')),\n",
       " (Decimal('37.595519'), Decimal('55.750965')),\n",
       " (Decimal('37.611203'), Decimal('55.757972')),\n",
       " (Decimal('37.626564'), Decimal('55.730274')),\n",
       " (Decimal('37.657538'), Decimal('55.763584')),\n",
       " (Decimal('37.506091'), Decimal('55.805776')),\n",
       " (Decimal('37.611679'), Decimal('55.731794')),\n",
       " (Decimal('37.654601'), Decimal('55.710124')),\n",
       " (Decimal('37.52598'), Decimal('55.802725')),\n",
       " (Decimal('37.571067'), Decimal('55.761138')),\n",
       " (Decimal('37.609613'), Decimal('55.740999')),\n",
       " (Decimal('37.598393'), Decimal('55.747054')),\n",
       " (Decimal('37.638171'), Decimal('55.745914')),\n",
       " (Decimal('37.636778'), Decimal('55.757921'))]"
      ]
     },
     "execution_count": 231,
     "metadata": {},
     "output_type": "execute_result"
    }
   ],
   "source": [
    "adress_line(slice4)"
   ]
  },
  {
   "cell_type": "code",
   "execution_count": 232,
   "metadata": {},
   "outputs": [
    {
     "data": {
      "text/plain": [
       "[(Decimal('37.617635'), Decimal('55.755814')),\n",
       " (Decimal('37.630939'), Decimal('55.730101')),\n",
       " (Decimal('37.675136'), Decimal('55.746487')),\n",
       " (Decimal('37.58597'), Decimal('55.804334')),\n",
       " (Decimal('37.556406'), Decimal('55.752794')),\n",
       " (Decimal('37.598169'), Decimal('55.772831')),\n",
       " (Decimal('37.595348'), Decimal('55.750423')),\n",
       " (Decimal('37.709326'), Decimal('55.870193')),\n",
       " (Decimal('37.502857'), Decimal('55.718035')),\n",
       " (Decimal('37.575783'), Decimal('55.727323')),\n",
       " (Decimal('37.556379'), Decimal('55.750515')),\n",
       " (Decimal('37.679996'), Decimal('55.729017')),\n",
       " (Decimal('37.469171'), Decimal('55.650236')),\n",
       " (Decimal('37.602948'), Decimal('55.7571')),\n",
       " (Decimal('37.676592'), Decimal('55.787209')),\n",
       " (Decimal('37.498591'), Decimal('55.768512')),\n",
       " (Decimal('37.5592'), Decimal('55.750788')),\n",
       " (Decimal('37.610844'), Decimal('55.76565')),\n",
       " (Decimal('37.596687'), Decimal('55.760672')),\n",
       " (Decimal('37.562344'), Decimal('55.732692')),\n",
       " (Decimal('37.56839'), Decimal('55.764283')),\n",
       " (Decimal('37.634137'), Decimal('55.76252')),\n",
       " (Decimal('37.644432'), Decimal('55.779474')),\n",
       " (Decimal('37.596094'), Decimal('55.752298')),\n",
       " (Decimal('37.641045'), Decimal('55.870642')),\n",
       " (Decimal('37.598169'), Decimal('55.772831')),\n",
       " (Decimal('37.61291'), Decimal('55.762282')),\n",
       " (Decimal('37.617384'), Decimal('55.764176')),\n",
       " (Decimal('37.617114'), Decimal('55.757131')),\n",
       " (Decimal('37.599911'), Decimal('55.782182')),\n",
       " (Decimal('37.574624'), Decimal('55.780507')),\n",
       " (Decimal('37.603487'), Decimal('55.745068')),\n",
       " (Decimal('37.603181'), Decimal('55.775256')),\n",
       " (Decimal('37.63235'), Decimal('55.768345')),\n",
       " (Decimal('37.64109'), Decimal('55.733574')),\n",
       " (Decimal('37.604241'), Decimal('55.766147')),\n",
       " (Decimal('37.5592'), Decimal('55.750788')),\n",
       " (Decimal('37.639455'), Decimal('55.729741')),\n",
       " (Decimal('37.596687'), Decimal('55.760672')),\n",
       " (Decimal('37.562344'), Decimal('55.732692')),\n",
       " (Decimal('37.56839'), Decimal('55.764283')),\n",
       " (Decimal('37.634137'), Decimal('55.76252')),\n",
       " (Decimal('37.644432'), Decimal('55.779474')),\n",
       " (Decimal('37.596094'), Decimal('55.752298')),\n",
       " (Decimal('37.641045'), Decimal('55.870642')),\n",
       " (Decimal('37.55248'), Decimal('55.670021')),\n",
       " (Decimal('37.669288'), Decimal('55.73108')),\n",
       " (Decimal('37.585916'), Decimal('55.737557')),\n",
       " (Decimal('37.595501'), Decimal('55.641122')),\n",
       " (Decimal('37.634056'), Decimal('55.767909')),\n",
       " (Decimal('37.604241'), Decimal('55.766147')),\n",
       " (Decimal('37.5592'), Decimal('55.750788')),\n",
       " (Decimal('37.611572'), Decimal('55.765706')),\n",
       " (Decimal('37.639455'), Decimal('55.729741')),\n",
       " (Decimal('37.596687'), Decimal('55.760672')),\n",
       " (Decimal('37.562344'), Decimal('55.732692')),\n",
       " (Decimal('37.56839'), Decimal('55.764283')),\n",
       " (Decimal('37.634137'), Decimal('55.76252')),\n",
       " (Decimal('37.644432'), Decimal('55.779474')),\n",
       " (Decimal('37.604628'), Decimal('55.763336')),\n",
       " (Decimal('37.596094'), Decimal('55.752298')),\n",
       " (Decimal('37.641045'), Decimal('55.870642')),\n",
       " (Decimal('37.55248'), Decimal('55.670021')),\n",
       " (Decimal('37.669288'), Decimal('55.73108')),\n",
       " (Decimal('37.585916'), Decimal('55.737557')),\n",
       " (Decimal('37.595501'), Decimal('55.641122')),\n",
       " (Decimal('37.634056'), Decimal('55.767909')),\n",
       " (Decimal('37.652472'), Decimal('55.759603')),\n",
       " (Decimal('37.581343'), Decimal('55.770416')),\n",
       " (Decimal('37.650738'), Decimal('55.665594')),\n",
       " (Decimal('37.717321'), Decimal('55.748498')),\n",
       " (Decimal('37.618507'), Decimal('55.711067')),\n",
       " (Decimal('37.645708'), Decimal('55.759157')),\n",
       " (Decimal('37.630544'), Decimal('55.766532')),\n",
       " (Decimal('37.703326'), Decimal('55.794315')),\n",
       " (Decimal('37.644432'), Decimal('55.779474')),\n",
       " (Decimal('37.604628'), Decimal('55.763336')),\n",
       " (Decimal('37.596094'), Decimal('55.752298')),\n",
       " (Decimal('37.641045'), Decimal('55.870642')),\n",
       " (Decimal('37.55248'), Decimal('55.670021')),\n",
       " (Decimal('37.669288'), Decimal('55.73108')),\n",
       " (Decimal('37.585916'), Decimal('55.737557')),\n",
       " (Decimal('37.595501'), Decimal('55.641122')),\n",
       " (Decimal('37.634056'), Decimal('55.767909')),\n",
       " (Decimal('37.652472'), Decimal('55.759603')),\n",
       " (Decimal('37.650738'), Decimal('55.665594')),\n",
       " (Decimal('37.717321'), Decimal('55.748498')),\n",
       " (Decimal('37.581343'), Decimal('55.770416')),\n",
       " (Decimal('37.618507'), Decimal('55.711067')),\n",
       " (Decimal('37.645708'), Decimal('55.759157')),\n",
       " (Decimal('37.630544'), Decimal('55.766532')),\n",
       " (Decimal('37.703326'), Decimal('55.794315')),\n",
       " (Decimal('37.606703'), Decimal('55.762525')),\n",
       " (Decimal('37.534316'), Decimal('55.715814')),\n",
       " (Decimal('37.584901'), Decimal('55.751908')),\n",
       " (Decimal('37.71716'), Decimal('55.780142')),\n",
       " (Decimal('37.630382'), Decimal('55.741946')),\n",
       " (Decimal('37.633787'), Decimal('55.752855')),\n",
       " (Decimal('37.608895'), Decimal('55.770112')),\n",
       " (Decimal('37.572082'), Decimal('55.781539'))]"
      ]
     },
     "execution_count": 232,
     "metadata": {},
     "output_type": "execute_result"
    }
   ],
   "source": [
    "adress_line(slice3)"
   ]
  },
  {
   "cell_type": "code",
   "execution_count": 233,
   "metadata": {},
   "outputs": [
    {
     "data": {
      "text/plain": [
       "[(Decimal('37.501618'), Decimal('55.704981')),\n",
       " (Decimal('37.568138'), Decimal('55.81211')),\n",
       " (Decimal('37.629143'), Decimal('55.764156')),\n",
       " (Decimal('37.487353'), Decimal('55.731713')),\n",
       " (Decimal('37.537083'), Decimal('55.749511')),\n",
       " (Decimal('37.52598'), Decimal('55.802725')),\n",
       " (Decimal('37.620779'), Decimal('55.741667')),\n",
       " (Decimal('37.609901'), Decimal('55.75979')),\n",
       " (Decimal('37.567806'), Decimal('55.730172')),\n",
       " (Decimal('37.564545'), Decimal('55.728753')),\n",
       " (Decimal('37.640641'), Decimal('55.736341')),\n",
       " (Decimal('37.631353'), Decimal('55.767438')),\n",
       " (Decimal('37.606595'), Decimal('55.763478')),\n",
       " (Decimal('37.597199'), Decimal('55.739042')),\n",
       " (Decimal('37.589401'), Decimal('55.758939')),\n",
       " (Decimal('37.630059'), Decimal('55.772669')),\n",
       " (Decimal('37.584146'), Decimal('55.735495')),\n",
       " (Decimal('37.635772'), Decimal('55.777261')),\n",
       " (Decimal('37.537083'), Decimal('55.749511')),\n",
       " (Decimal('37.586212'), Decimal('55.760434')),\n",
       " (Decimal('37.632305'), Decimal('55.756817')),\n",
       " (Decimal('37.609703'), Decimal('55.740112')),\n",
       " (Decimal('37.662605'), Decimal('55.734263')),\n",
       " (Decimal('37.632619'), Decimal('55.769514')),\n",
       " (Decimal('37.613494'), Decimal('55.767727')),\n",
       " (Decimal('37.636662'), Decimal('55.819494')),\n",
       " (Decimal('37.621947'), Decimal('55.764663')),\n",
       " (Decimal('37.635916'), Decimal('55.730213')),\n",
       " (Decimal('37.730625'), Decimal('55.705904')),\n",
       " (Decimal('37.479762'), Decimal('55.834911')),\n",
       " (Decimal('37.580238'), Decimal('55.819965')),\n",
       " (Decimal('37.484703'), Decimal('55.799947')),\n",
       " (Decimal('37.5592'), Decimal('55.750788')),\n",
       " (Decimal('37.620636'), Decimal('55.761467')),\n",
       " (Decimal('37.461427'), Decimal('55.778198')),\n",
       " (Decimal('37.620088'), Decimal('55.765863')),\n",
       " (Decimal('37.591369'), Decimal('55.708212')),\n",
       " (Decimal('37.623483'), Decimal('55.768025')),\n",
       " (Decimal('37.655095'), Decimal('55.764394')),\n",
       " (Decimal('37.617114'), Decimal('55.757131')),\n",
       " (Decimal('37.630059'), Decimal('55.772669')),\n",
       " (Decimal('37.587128'), Decimal('55.774563')),\n",
       " (Decimal('37.543902'), Decimal('55.74826')),\n",
       " (Decimal('37.675828'), Decimal('55.785923')),\n",
       " (Decimal('37.614006'), Decimal('55.756994')),\n",
       " (Decimal('37.651933'), Decimal('55.74446')),\n",
       " (Decimal('37.604205'), Decimal('55.766911')),\n",
       " (Decimal('37.64127'), Decimal('55.753985')),\n",
       " (Decimal('37.569441'), Decimal('55.784622')),\n",
       " (Decimal('37.647423'), Decimal('55.741085')),\n",
       " (Decimal('37.649283'), Decimal('55.760094')),\n",
       " (Decimal('37.531819'), Decimal('55.738237')),\n",
       " (Decimal('37.473671'), Decimal('55.770289')),\n",
       " (Decimal('37.494108'), Decimal('55.693581')),\n",
       " (Decimal('37.660314'), Decimal('55.88661')),\n",
       " (Decimal('37.660413'), Decimal('55.775864')),\n",
       " (Decimal('37.516'), Decimal('55.661836')),\n",
       " (Decimal('37.591171'), Decimal('55.77916')),\n",
       " (Decimal('37.658527'), Decimal('55.761685')),\n",
       " (Decimal('37.541494'), Decimal('55.637815')),\n",
       " (Decimal('37.627589'), Decimal('55.762353')),\n",
       " (Decimal('37.532439'), Decimal('55.693591')),\n",
       " (Decimal('37.411005'), Decimal('55.738591')),\n",
       " (Decimal('37.47819'), Decimal('55.774087')),\n",
       " (Decimal('37.599256'), Decimal('55.748376')),\n",
       " (Decimal('37.582619'), Decimal('55.751675')),\n",
       " (Decimal('37.637326'), Decimal('55.731688')),\n",
       " (Decimal('37.600954'), Decimal('55.744571')),\n",
       " (Decimal('37.616449'), Decimal('55.769074')),\n",
       " (Decimal('37.481271'), Decimal('55.837156')),\n",
       " (Decimal('37.625873'), Decimal('55.753625')),\n",
       " (Decimal('37.659793'), Decimal('55.645949')),\n",
       " (Decimal('37.528127'), Decimal('55.78321')),\n",
       " (Decimal('37.602705'), Decimal('55.7652')),\n",
       " (Decimal('37.639051'), Decimal('55.757992')),\n",
       " (Decimal('37.763243'), Decimal('55.706315')),\n",
       " (Decimal('37.624534'), Decimal('55.757957')),\n",
       " (Decimal('37.617132'), Decimal('55.762698')),\n",
       " (Decimal('37.633787'), Decimal('55.752855')),\n",
       " (Decimal('37.565713'), Decimal('55.751406')),\n",
       " (Decimal('37.609514'), Decimal('55.74')),\n",
       " (Decimal('37.566728'), Decimal('55.787371')),\n",
       " (Decimal('37.600711'), Decimal('55.746243')),\n",
       " (Decimal('37.605885'), Decimal('55.771241')),\n",
       " (Decimal('37.560413'), Decimal('55.755003')),\n",
       " (Decimal('37.644675'), Decimal('55.760702')),\n",
       " (Decimal('37.697388'), Decimal('55.802128')),\n",
       " (Decimal('37.631047'), Decimal('55.765341')),\n",
       " (Decimal('37.5592'), Decimal('55.750788')),\n",
       " (Decimal('37.61291'), Decimal('55.762282')),\n",
       " (Decimal('37.617384'), Decimal('55.764176')),\n",
       " (Decimal('37.617114'), Decimal('55.757131')),\n",
       " (Decimal('37.599911'), Decimal('55.782182')),\n",
       " (Decimal('37.574624'), Decimal('55.780507')),\n",
       " (Decimal('37.603487'), Decimal('55.745068')),\n",
       " (Decimal('37.603181'), Decimal('55.775256')),\n",
       " (Decimal('37.63235'), Decimal('55.768345')),\n",
       " (Decimal('37.64109'), Decimal('55.733574')),\n",
       " (Decimal('37.604241'), Decimal('55.766147')),\n",
       " (Decimal('37.639455'), Decimal('55.729741'))]"
      ]
     },
     "execution_count": 233,
     "metadata": {},
     "output_type": "execute_result"
    }
   ],
   "source": [
    "adress_line(slice2)"
   ]
  },
  {
   "cell_type": "code",
   "execution_count": 236,
   "metadata": {},
   "outputs": [
    {
     "data": {
      "text/plain": [
       "[(Decimal('37.644594'), Decimal('55.733254')),\n",
       " (Decimal('37.627669'), Decimal('55.756781')),\n",
       " (Decimal('37.663692'), Decimal('55.74001')),\n",
       " (Decimal('37.597019'), Decimal('55.766876')),\n",
       " (Decimal('37.605032'), Decimal('55.7637')),\n",
       " (Decimal('37.622333'), Decimal('55.766491')),\n",
       " (Decimal('37.566764'), Decimal('55.752323')),\n",
       " (Decimal('37.558625'), Decimal('55.767995')),\n",
       " (Decimal('37.560413'), Decimal('55.755003')),\n",
       " (Decimal('37.56812'), Decimal('55.762855')),\n",
       " (Decimal('37.595968'), Decimal('55.75978')),\n",
       " (Decimal('37.610539'), Decimal('55.754897')),\n",
       " (Decimal('37.564383'), Decimal('55.764313')),\n",
       " (Decimal('37.581298'), Decimal('55.747485')),\n",
       " (Decimal('37.606137'), Decimal('55.757906')),\n",
       " (Decimal('37.566764'), Decimal('55.752323')),\n",
       " (Decimal('49.311652'), Decimal('58.990907')),\n",
       " (Decimal('37.607709'), Decimal('55.76719')),\n",
       " (Decimal('37.627669'), Decimal('55.756781')),\n",
       " (Decimal('37.598959'), Decimal('55.764435')),\n",
       " (Decimal('37.651439'), Decimal('55.725443')),\n",
       " (Decimal('37.432978'), Decimal('55.706614')),\n",
       " (Decimal('37.625972'), Decimal('55.758311')),\n",
       " (Decimal('37.624534'), Decimal('55.757957')),\n",
       " (Decimal('37.630544'), Decimal('55.766532')),\n",
       " (Decimal('37.640857'), Decimal('55.732413')),\n",
       " (Decimal('37.600199'), Decimal('55.764187')),\n",
       " (Decimal('37.613781'), Decimal('55.756584')),\n",
       " (Decimal('37.627032'), Decimal('55.745493')),\n",
       " (Decimal('37.623483'), Decimal('55.758468')),\n",
       " (Decimal('37.634137'), Decimal('55.76252')),\n",
       " (Decimal('37.539078'), Decimal('55.747115')),\n",
       " (Decimal('37.617384'), Decimal('55.764176')),\n",
       " (Decimal('37.580867'), Decimal('55.759223')),\n",
       " (Decimal('37.511383'), Decimal('55.73885')),\n",
       " (Decimal('37.574714'), Decimal('55.783554')),\n",
       " (Decimal('37.623483'), Decimal('55.768025')),\n",
       " (Decimal('37.653963'), Decimal('55.754522')),\n",
       " (Decimal('37.481567'), Decimal('55.781443')),\n",
       " (Decimal('37.624427'), Decimal('55.731485')),\n",
       " (Decimal('37.543902'), Decimal('55.74826')),\n",
       " (Decimal('37.640596'), Decimal('55.766415')),\n",
       " (Decimal('37.624624'), Decimal('55.741054')),\n",
       " (Decimal('37.61247'), Decimal('55.790833')),\n",
       " (Decimal('37.60054'), Decimal('55.755388')),\n",
       " (Decimal('37.575702'), Decimal('55.689791')),\n",
       " (Decimal('37.600675'), Decimal('55.741744')),\n",
       " (Decimal('37.59842'), Decimal('55.764389')),\n",
       " (Decimal('37.659658'), Decimal('55.738409')),\n",
       " (Decimal('37.637389'), Decimal('55.754167')),\n",
       " (Decimal('37.681146'), Decimal('55.787442')),\n",
       " (Decimal('37.593075'), Decimal('55.780213')),\n",
       " (Decimal('37.54356'), Decimal('55.66076')),\n",
       " (Decimal('37.634793'), Decimal('55.730421')),\n",
       " (Decimal('37.627175'), Decimal('55.762556')),\n",
       " (Decimal('37.60814'), Decimal('55.764784')),\n",
       " (Decimal('37.54294'), Decimal('55.748924')),\n",
       " (Decimal('37.646274'), Decimal('55.745742')),\n",
       " (Decimal('37.619171'), Decimal('55.761725')),\n",
       " (Decimal('37.578864'), Decimal('55.760307')),\n",
       " (Decimal('37.592932'), Decimal('55.740624')),\n",
       " (Decimal('37.605346'), Decimal('55.738926')),\n",
       " (Decimal('37.633347'), Decimal('55.779287')),\n",
       " (Decimal('37.565856'), Decimal('55.763579')),\n",
       " (Decimal('37.663584'), Decimal('55.734075')),\n",
       " (Decimal('37.59171'), Decimal('55.772867')),\n",
       " (Decimal('37.609299'), Decimal('55.765605')),\n",
       " (Decimal('37.597073'), Decimal('55.763341')),\n",
       " (Decimal('37.564886'), Decimal('55.756873')),\n",
       " (Decimal('37.587344'), Decimal('55.75745')),\n",
       " (Decimal('37.613835'), Decimal('55.727876')),\n",
       " (Decimal('37.630544'), Decimal('55.766532')),\n",
       " (Decimal('37.646489'), Decimal('55.759588')),\n",
       " (Decimal('37.611033'), Decimal('55.765417')),\n",
       " (Decimal('37.649903'), Decimal('55.735591')),\n",
       " (Decimal('37.636778'), Decimal('55.757921')),\n",
       " (Decimal('37.539078'), Decimal('55.747115')),\n",
       " (Decimal('37.519171'), Decimal('55.757055')),\n",
       " (Decimal('37.539078'), Decimal('55.747115')),\n",
       " (Decimal('37.656676'), Decimal('55.70741')),\n",
       " (Decimal('37.610323'), Decimal('55.756842')),\n",
       " (Decimal('37.630023'), Decimal('55.766233')),\n",
       " (Decimal('37.635'), Decimal('55.753038')),\n",
       " (Decimal('37.640929'), Decimal('55.740558')),\n",
       " (Decimal('37.62802'), Decimal('55.739716')),\n",
       " (Decimal('37.635305'), Decimal('55.767787')),\n",
       " (Decimal('37.573501'), Decimal('55.81871')),\n",
       " (Decimal('37.627445'), Decimal('55.734648')),\n",
       " (Decimal('37.628631'), Decimal('55.772887')),\n",
       " (Decimal('37.512541'), Decimal('55.738277')),\n",
       " (Decimal('37.632305'), Decimal('55.756817')),\n",
       " (Decimal('37.63182'), Decimal('55.767124')),\n",
       " (Decimal('37.920197'), Decimal('55.700816')),\n",
       " (Decimal('37.628208'), Decimal('55.740993')),\n",
       " (Decimal('37.566764'), Decimal('55.752323')),\n",
       " (Decimal('37.559954'), Decimal('55.756614')),\n",
       " (Decimal('37.620869'), Decimal('55.7322')),\n",
       " (Decimal('37.586796'), Decimal('55.778193')),\n",
       " (Decimal('37.562308'), Decimal('55.796046'))]"
      ]
     },
     "execution_count": 236,
     "metadata": {},
     "output_type": "execute_result"
    }
   ],
   "source": [
    "adress_line(slice1)"
   ]
  },
  {
   "cell_type": "code",
   "execution_count": null,
   "metadata": {},
   "outputs": [],
   "source": []
  }
 ],
 "metadata": {
  "kernelspec": {
   "display_name": "Python 3",
   "language": "python",
   "name": "python3"
  },
  "language_info": {
   "codemirror_mode": {
    "name": "ipython",
    "version": 3
   },
   "file_extension": ".py",
   "mimetype": "text/x-python",
   "name": "python",
   "nbconvert_exporter": "python",
   "pygments_lexer": "ipython3",
   "version": "3.7.6"
  }
 },
 "nbformat": 4,
 "nbformat_minor": 4
}
