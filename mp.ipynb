{
 "cells": [
  {
   "cell_type": "code",
   "execution_count": 1,
   "metadata": {},
   "outputs": [],
   "source": [
    "import pandas as pd\n",
    "import numpy as np"
   ]
  },
  {
   "cell_type": "code",
   "execution_count": 2,
   "metadata": {},
   "outputs": [
    {
     "name": "stdout",
     "output_type": "stream",
     "text": [
      "                                           url           date_saved District1  \\\n",
      "0      https://www.cian.ru/sale/flat/11825143/  2020-04-27 00:08:05      ЮВАО   \n",
      "1      https://www.cian.ru/sale/flat/12047605/  2020-04-29 01:01:33       САО   \n",
      "2      https://www.cian.ru/sale/flat/12108103/  2020-05-18 19:08:01       ЦАО   \n",
      "3       https://www.cian.ru/sale/flat/1217743/  2020-04-30 12:20:18       САО   \n",
      "4      https://www.cian.ru/sale/flat/12939895/  2020-05-01 21:10:36       САО   \n",
      "...                                        ...                  ...       ...   \n",
      "51585  https://www.cian.ru/sale/flat/51105793/  2020-05-19 21:46:02       ВАО   \n",
      "51586  https://www.cian.ru/sale/flat/51936209/  2020-05-20 01:06:11      ЮЗАО   \n",
      "51587   https://www.cian.ru/sale/flat/6651416/  2020-04-26 14:01:07       САО   \n",
      "51588    https://www.cian.ru/sale/flat/889171/  2020-04-28 12:32:29      СЗАО   \n",
      "51589   https://www.cian.ru/sale/flat/9331361/  2020-04-28 13:30:17       ЦАО   \n",
      "\n",
      "      District2                                     ad_breadCrumbs  \\\n",
      "0          ЮВАО  Недвижимость в Москве, Продажа, Продажа 3-комн...   \n",
      "1           САО  Недвижимость в Москве, Продажа, Продажа 3-комн...   \n",
      "2           ЦАО  Недвижимость в Москве, Продажа, Продажа 2-комн...   \n",
      "3           САО  Недвижимость в Москве, Продажа, Продажа 3-комн...   \n",
      "4           САО  Недвижимость в Москве, Продажа, Продажа 2-комн...   \n",
      "...         ...                                                ...   \n",
      "51585       ВАО  Недвижимость в Москве, Продажа, Продажа 2-комн...   \n",
      "51586      ЮЗАО  Недвижимость в Москве, Продажа, Продажа 3-комн...   \n",
      "51587       САО  Недвижимость в Москве, Продажа, Продажа 3-комн...   \n",
      "51588      СЗАО  Недвижимость в Москве, Продажа, Продажа 3-комн...   \n",
      "51589       ЦАО  Недвижимость в Москве, Продажа, Продажа 3-комн...   \n",
      "\n",
      "            ad_change_time ad_objectType  ad_offerPhone    ad_price  \\\n",
      "0      2020-03-20 12:03:00      flat_old   7.985997e+10  18800000.0   \n",
      "1      2020-03-16 14:40:58      flat_old   7.916812e+10  50000000.0   \n",
      "2      2020-03-03 23:34:16      flat_old            NaN  55000000.0   \n",
      "3                      NaN      flat_old   7.964500e+10         NaN   \n",
      "4                      NaN      flat_old   7.964500e+10         NaN   \n",
      "...                    ...           ...            ...         ...   \n",
      "51585  2019-10-03 15:36:21      flat_old   7.925446e+10   7850000.0   \n",
      "51586  2019-06-17 11:27:07      flat_old   7.926987e+10  32500000.0   \n",
      "51587  2019-10-01 08:35:10      flat_old   7.909933e+10   1275000.0   \n",
      "51588  2020-02-20 14:30:05      flat_old   7.903125e+10  33500000.0   \n",
      "51589  2020-04-04 13:20:25      flat_old   7.964500e+10   2000000.0   \n",
      "\n",
      "      ad_price_cur  ...  offer_similarOffersCount  offer_status offer_title  \\\n",
      "0              rur  ...                         0     published         NaN   \n",
      "1              rur  ...                         0     published         NaN   \n",
      "2              rur  ...                         0         draft         NaN   \n",
      "3              NaN  ...                         0     published         NaN   \n",
      "4              NaN  ...                         0     published         NaN   \n",
      "...            ...  ...                       ...           ...         ...   \n",
      "51585          rur  ...                         0     published         NaN   \n",
      "51586          rur  ...                         0     published         NaN   \n",
      "51587          usd  ...                         0     published         NaN   \n",
      "51588          rur  ...                         0     published         NaN   \n",
      "51589          usd  ...                         0     published         NaN   \n",
      "\n",
      "       offer_totalArea  offer_valueAddedServices_isColorized  \\\n",
      "0                106.0                                 False   \n",
      "1                130.0                                 False   \n",
      "2                108.5                                 False   \n",
      "3                 87.0                                 False   \n",
      "4                 55.0                                 False   \n",
      "...                ...                                   ...   \n",
      "51585             45.0                                 False   \n",
      "51586             80.0                                 False   \n",
      "51587            128.0                                 False   \n",
      "51588            113.0                                 False   \n",
      "51589            138.0                                 False   \n",
      "\n",
      "       offer_valueAddedServices_isPaid  offer_valueAddedServices_isPremium  \\\n",
      "0                                 True                               False   \n",
      "1                                 True                               False   \n",
      "2                                False                               False   \n",
      "3                                 True                               False   \n",
      "4                                 True                               False   \n",
      "...                                ...                                 ...   \n",
      "51585                             True                               False   \n",
      "51586                             True                               False   \n",
      "51587                             True                               False   \n",
      "51588                             True                               False   \n",
      "51589                             True                               False   \n",
      "\n",
      "       offer_valueAddedServices_isTop3  offer_wcType  offer_windowsViewType  \n",
      "0                                False           NaN          yardAndStreet  \n",
      "1                                False           NaN          yardAndStreet  \n",
      "2                                False           NaN                 street  \n",
      "3                                False           NaN          yardAndStreet  \n",
      "4                                False           NaN                   yard  \n",
      "...                                ...           ...                    ...  \n",
      "51585                            False           NaN                 street  \n",
      "51586                            False           NaN                   yard  \n",
      "51587                            False           NaN          yardAndStreet  \n",
      "51588                            False           NaN                   yard  \n",
      "51589                            False           NaN                   yard  \n",
      "\n",
      "[51590 rows x 225 columns]\n"
     ]
    }
   ],
   "source": [
    "df_train = pd.read_excel('CianDataset2020.xlsx')\n",
    "print(df_train)"
   ]
  },
  {
   "cell_type": "code",
   "execution_count": 3,
   "metadata": {},
   "outputs": [],
   "source": [
    "df_train1=df_train.drop(columns=['offer_livingArea','offer_kitchenArea','offer_geo_railways_7_travelType','offer_building_hasGarbageChute','offer_building_buildYear','offer_bargainTerms_prices_usd','offer_bargainTerms_prices_rur','offer_bargainTerms_prices_eur','bti_district_regionTitle','offer_bargainTerms_leaseTermType','offer_balconiesCount','offer_building_materialType','offer_building_houseMaterialType','District2','ad_change_time','offer_wcType','offer_combinedWcsCount','url','date_saved','ad_breadCrumbs','ad_offerPhone','ad_price_cur','agent_isCianPartner','agent_isDeveloper','agent_isPrivateBroker','agent_isPro','agent_isRecidivist','agent_isSelfEmployed','agent_isSubAgent','agent_isUserOffersHasErrors','agent_userType','bti_house_houseOverhaulFundType','bti_house_isEmergency','bti_house_seriesName','company_newobjectsCount','company_offersCount','company_yearFoundation','newObject_stats_done','newObject_stats_progress','newObject_status','offer_added','offer_allRoomsArea','offer_archivedDate','offer_bargainTerms_agentBonus_currency','offer_bargainTerms_agentBonus_paymentType','offer_bargainTerms_agentBonus_value','offer_bargainTerms_currency','offer_bargainTerms_deposit','offer_bargainTerms_depositPrices_eur','offer_bargainTerms_depositPrices_rur','offer_bargainTerms_depositPrices_usd','offer_bargainTerms_saleType','offer_breadCrumbs','offer_building_ceilingHeight','offer_building_deadline_isComplete','offer_building_deadline_quarter','offer_building_deadline_quarterEnd','offer_building_deadline_year','offer_building_name','offer_building_parking_type','offer_building_passengerLiftsCount','offer_building_series','offer_cargoLiftsCount','offer_category','offer_deadline_isComplete','offer_deadline_quarter','offer_deadline_quarterEnd','offer_deadline_year','offer_decoration','offer_demolishedInMoscowProgramm','offer_description','offer_editDate','offer_flatType','offer_geo_highways_1_distance','offer_geo_highways_1_name','offer_geo_highways_2_distance','offer_geo_highways_2_name','offer_geo_highways_3_distance','offer_geo_highways_3_name','offer_geo_jk_displayName','offer_geo_railways_10_name','offer_geo_railways_10_time','offer_geo_railways_10_travelType','offer_geo_railways_11_name','offer_geo_railways_11_time','offer_geo_railways_11_travelType','offer_geo_railways_12_name','offer_geo_railways_12_time','offer_geo_railways_12_travelType','offer_geo_railways_7_name','offer_geo_railways_7_time','offer_geo_railways_7_time','offer_geo_railways_8_name','offer_geo_railways_8_time','offer_geo_railways_8_travelType','offer_geo_railways_9_name','offer_geo_railways_9_time','offer_geo_railways_9_travelType','offer_geo_undergrounds_1_releaseYear','offer_geo_undergrounds_2_lineColor','offer_geo_undergrounds_2_name','offer_geo_undergrounds_2_releaseYear','offer_geo_undergrounds_2_travelTime','offer_geo_undergrounds_2_travelType','offer_geo_undergrounds_2_underConstruction','offer_geo_undergrounds_3_name','offer_geo_undergrounds_3_releaseYear','offer_geo_undergrounds_3_lineColor','offer_geo_undergrounds_3_travelTime','offer_geo_undergrounds_3_travelType','offer_geo_undergrounds_3_underConstruction','offer_hasFurniture','offer_hasPhone','offer_hasRamp','offer_homeownerProofs','offer_isApartments','offer_isByHomeowner','offer_isFromBuilder','offer_isFromSeller','offer_isImported','offer_isInHiddenBase','offer_isPenthouse','offer_loggiasCount','offer_newbuilding_house_isFinished','offer_newbuilding_house_isReliable','offer_newbuilding_house_name','offer_newbuilding_isFromBuilder','offer_newbuilding_isFromDeveloper','offer_newbuilding_isFromLeadFactory','offer_newbuilding_isFromSeller','offer_newbuilding_isReliable','offer_newbuilding_name','offer_newbuilding_newbuildingFeatures_deadlineInfo','offer_newbuilding_newbuildingFeatures_imagesCount','offer_newbuilding_newbuildingFeatures_videosCount','offer_newbuilding_showJkReliableFlag','offer_passengerLiftsCount','offer_promoLabel','offer_publicationDate','offer_publishTerms_autoprolong','offer_publishTerms_terms_days','offer_publishTerms_terms_services','offer_publishTerms_terms_tariff','offer_publishTerms_terms_type','offer_rentByPartsDescription','offer_repairType','offer_roomType','offer_roomsForSaleCount','offer_rosreestrCheck','offer_separateWcsCount','offer_status','offer_title','offer_valueAddedServices_isColorized','offer_valueAddedServices_isPaid','offer_valueAddedServices_isPremium','offer_windowsViewType'])"
   ]
  },
  {
   "cell_type": "code",
   "execution_count": 4,
   "metadata": {},
   "outputs": [
    {
     "data": {
      "text/plain": [
       "Index(['District1', 'ad_objectType', 'ad_price', 'ad_stat_daily',\n",
       "       'ad_stat_total', 'agent_accountType', 'agent_offersCount',\n",
       "       'agent_userTrustLevel', 'bti_district_avgHouseAge',\n",
       "       'bti_district_districtTitle', 'bti_district_priceSqm',\n",
       "       'bti_district_priceSqmDiff', 'bti_district_roomRentPrice',\n",
       "       'bti_district_roomRentPriceDiff', 'bti_district_roomSalePrice',\n",
       "       'bti_district_roomSalePriceDiff',\n",
       "       'bti_house_demolishedInMoscowProgramm', 'bti_house_entrances',\n",
       "       'bti_house_flatCount', 'bti_house_floorMax',\n",
       "       'bti_house_houseGasSupplyType', 'bti_house_houseHeatSupplyType',\n",
       "       'bti_house_houseMaterialType', 'bti_house_houseOverlapType',\n",
       "       'bti_house_lifts', 'bti_house_priceCian', 'bti_house_priceCianMax',\n",
       "       'bti_house_priceCianMin', 'bti_house_priceSqm',\n",
       "       'bti_house_priceSqmDiff', 'bti_house_roomRentPrice',\n",
       "       'bti_house_roomRentPriceDiff', 'bti_house_yearRelease',\n",
       "       'demandJsonQuery_price_gte', 'demandJsonQuery_price_lte',\n",
       "       'offer_bargainTerms_mortgageAllowed', 'offer_bargainTerms_price',\n",
       "       'offer_building_cargoLiftsCount', 'offer_building_floorsCount',\n",
       "       'offer_building_totalArea', 'offer_floorNumber',\n",
       "       'offer_geo_coordinates_lat', 'offer_geo_coordinates_lng',\n",
       "       'offer_geo_railways_1_name', 'offer_geo_railways_1_time',\n",
       "       'offer_geo_railways_1_travelType', 'offer_geo_railways_2_name',\n",
       "       'offer_geo_railways_2_time', 'offer_geo_railways_2_travelType',\n",
       "       'offer_geo_railways_3_name', 'offer_geo_railways_3_time',\n",
       "       'offer_geo_railways_3_travelType', 'offer_geo_railways_4_name',\n",
       "       'offer_geo_railways_4_time', 'offer_geo_railways_4_travelType',\n",
       "       'offer_geo_railways_5_name', 'offer_geo_railways_5_time',\n",
       "       'offer_geo_railways_5_travelType', 'offer_geo_railways_6_name',\n",
       "       'offer_geo_railways_6_time', 'offer_geo_railways_6_travelType',\n",
       "       'offer_geo_undergrounds_1_lineColor', 'offer_geo_undergrounds_1_name',\n",
       "       'offer_geo_undergrounds_1_travelTime',\n",
       "       'offer_geo_undergrounds_1_travelType',\n",
       "       'offer_geo_undergrounds_1_underConstruction', 'offer_roomsCount',\n",
       "       'offer_similarOffersCount', 'offer_totalArea',\n",
       "       'offer_valueAddedServices_isTop3'],\n",
       "      dtype='object')"
      ]
     },
     "execution_count": 4,
     "metadata": {},
     "output_type": "execute_result"
    }
   ],
   "source": [
    "df_train1.columns"
   ]
  },
  {
   "cell_type": "code",
   "execution_count": 5,
   "metadata": {},
   "outputs": [],
   "source": [
    "import matplotlib.pyplot as plt\n",
    "import seaborn as sns\n",
    "from sklearn.ensemble import RandomForestRegressor\n",
    "from sklearn.model_selection import train_test_split\n",
    "from sklearn.preprocessing import LabelEncoder\n",
    "from sklearn.metrics import mean_squared_error, r2_score, mean_absolute_error\n",
    "from sklearn.model_selection import GridSearchCV"
   ]
  },
  {
   "cell_type": "code",
   "execution_count": 6,
   "metadata": {},
   "outputs": [],
   "source": [
    "import numpy as np\n",
    "import pandas as pd\n",
    "import matplotlib.pyplot as plt\n",
    "import seaborn as sns\n",
    "from IPython.display import display\n",
    "import numpy as np\n",
    "import pandas as pd\n",
    "import matplotlib.pyplot as plt\n",
    "import seaborn as sns\n",
    "from IPython.display import display\n",
    "\n",
    "from sklearn.pipeline import Pipeline\n",
    "from sklearn.preprocessing import MinMaxScaler, StandardScaler, RobustScaler\n",
    "from sklearn.model_selection import train_test_split, cross_val_score, GridSearchCV, KFold \n",
    "from sklearn.neighbors import KNeighborsClassifier \n",
    "from sklearn.linear_model import LogisticRegression\n",
    "from sklearn.ensemble import RandomForestClassifier\n",
    "from sklearn.model_selection import StratifiedShuffleSplit\n",
    "from sklearn import svm\n",
    "from sklearn.ensemble import GradientBoostingClassifier\n",
    "from sklearn.preprocessing import PolynomialFeatures\n",
    "from sklearn.tree import DecisionTreeClassifier\n",
    "from sklearn.metrics import f1_score"
   ]
  },
  {
   "cell_type": "code",
   "execution_count": 7,
   "metadata": {},
   "outputs": [
    {
     "ename": "ValueError",
     "evalue": "Input contains NaN, infinity or a value too large for dtype('float64').",
     "output_type": "error",
     "traceback": [
      "\u001b[1;31m---------------------------------------------------------------------------\u001b[0m",
      "\u001b[1;31mValueError\u001b[0m                                Traceback (most recent call last)",
      "\u001b[1;32m<ipython-input-7-96f43e6d901e>\u001b[0m in \u001b[0;36m<module>\u001b[1;34m\u001b[0m\n\u001b[0;32m      5\u001b[0m \u001b[1;31m# сплитуйте X и y как хотите\u001b[0m\u001b[1;33m\u001b[0m\u001b[1;33m\u001b[0m\u001b[1;33m\u001b[0m\u001b[0m\n\u001b[0;32m      6\u001b[0m X_train, X_test, y_train, y_test = train_test_split(X, y, test_size = 0.1, random_state=0, \n\u001b[1;32m----> 7\u001b[1;33m                                                     shuffle=True, stratify = df_train.ad_price)\n\u001b[0m",
      "\u001b[1;32m~\\anaconda3\\lib\\site-packages\\sklearn\\model_selection\\_split.py\u001b[0m in \u001b[0;36mtrain_test_split\u001b[1;34m(*arrays, **options)\u001b[0m\n\u001b[0;32m   2141\u001b[0m                      random_state=random_state)\n\u001b[0;32m   2142\u001b[0m \u001b[1;33m\u001b[0m\u001b[0m\n\u001b[1;32m-> 2143\u001b[1;33m         \u001b[0mtrain\u001b[0m\u001b[1;33m,\u001b[0m \u001b[0mtest\u001b[0m \u001b[1;33m=\u001b[0m \u001b[0mnext\u001b[0m\u001b[1;33m(\u001b[0m\u001b[0mcv\u001b[0m\u001b[1;33m.\u001b[0m\u001b[0msplit\u001b[0m\u001b[1;33m(\u001b[0m\u001b[0mX\u001b[0m\u001b[1;33m=\u001b[0m\u001b[0marrays\u001b[0m\u001b[1;33m[\u001b[0m\u001b[1;36m0\u001b[0m\u001b[1;33m]\u001b[0m\u001b[1;33m,\u001b[0m \u001b[0my\u001b[0m\u001b[1;33m=\u001b[0m\u001b[0mstratify\u001b[0m\u001b[1;33m)\u001b[0m\u001b[1;33m)\u001b[0m\u001b[1;33m\u001b[0m\u001b[1;33m\u001b[0m\u001b[0m\n\u001b[0m\u001b[0;32m   2144\u001b[0m \u001b[1;33m\u001b[0m\u001b[0m\n\u001b[0;32m   2145\u001b[0m     return list(chain.from_iterable((_safe_indexing(a, train),\n",
      "\u001b[1;32m~\\anaconda3\\lib\\site-packages\\sklearn\\model_selection\\_split.py\u001b[0m in \u001b[0;36msplit\u001b[1;34m(self, X, y, groups)\u001b[0m\n\u001b[0;32m   1735\u001b[0m         \u001b[0mto\u001b[0m \u001b[0man\u001b[0m \u001b[0minteger\u001b[0m\u001b[1;33m.\u001b[0m\u001b[1;33m\u001b[0m\u001b[1;33m\u001b[0m\u001b[0m\n\u001b[0;32m   1736\u001b[0m         \"\"\"\n\u001b[1;32m-> 1737\u001b[1;33m         \u001b[0my\u001b[0m \u001b[1;33m=\u001b[0m \u001b[0mcheck_array\u001b[0m\u001b[1;33m(\u001b[0m\u001b[0my\u001b[0m\u001b[1;33m,\u001b[0m \u001b[0mensure_2d\u001b[0m\u001b[1;33m=\u001b[0m\u001b[1;32mFalse\u001b[0m\u001b[1;33m,\u001b[0m \u001b[0mdtype\u001b[0m\u001b[1;33m=\u001b[0m\u001b[1;32mNone\u001b[0m\u001b[1;33m)\u001b[0m\u001b[1;33m\u001b[0m\u001b[1;33m\u001b[0m\u001b[0m\n\u001b[0m\u001b[0;32m   1738\u001b[0m         \u001b[1;32mreturn\u001b[0m \u001b[0msuper\u001b[0m\u001b[1;33m(\u001b[0m\u001b[1;33m)\u001b[0m\u001b[1;33m.\u001b[0m\u001b[0msplit\u001b[0m\u001b[1;33m(\u001b[0m\u001b[0mX\u001b[0m\u001b[1;33m,\u001b[0m \u001b[0my\u001b[0m\u001b[1;33m,\u001b[0m \u001b[0mgroups\u001b[0m\u001b[1;33m)\u001b[0m\u001b[1;33m\u001b[0m\u001b[1;33m\u001b[0m\u001b[0m\n\u001b[0;32m   1739\u001b[0m \u001b[1;33m\u001b[0m\u001b[0m\n",
      "\u001b[1;32m~\\anaconda3\\lib\\site-packages\\sklearn\\utils\\validation.py\u001b[0m in \u001b[0;36mcheck_array\u001b[1;34m(array, accept_sparse, accept_large_sparse, dtype, order, copy, force_all_finite, ensure_2d, allow_nd, ensure_min_samples, ensure_min_features, warn_on_dtype, estimator)\u001b[0m\n\u001b[0;32m    576\u001b[0m         \u001b[1;32mif\u001b[0m \u001b[0mforce_all_finite\u001b[0m\u001b[1;33m:\u001b[0m\u001b[1;33m\u001b[0m\u001b[1;33m\u001b[0m\u001b[0m\n\u001b[0;32m    577\u001b[0m             _assert_all_finite(array,\n\u001b[1;32m--> 578\u001b[1;33m                                allow_nan=force_all_finite == 'allow-nan')\n\u001b[0m\u001b[0;32m    579\u001b[0m \u001b[1;33m\u001b[0m\u001b[0m\n\u001b[0;32m    580\u001b[0m     \u001b[1;32mif\u001b[0m \u001b[0mensure_min_samples\u001b[0m \u001b[1;33m>\u001b[0m \u001b[1;36m0\u001b[0m\u001b[1;33m:\u001b[0m\u001b[1;33m\u001b[0m\u001b[1;33m\u001b[0m\u001b[0m\n",
      "\u001b[1;32m~\\anaconda3\\lib\\site-packages\\sklearn\\utils\\validation.py\u001b[0m in \u001b[0;36m_assert_all_finite\u001b[1;34m(X, allow_nan, msg_dtype)\u001b[0m\n\u001b[0;32m     58\u001b[0m                     \u001b[0mmsg_err\u001b[0m\u001b[1;33m.\u001b[0m\u001b[0mformat\u001b[0m\u001b[1;33m\u001b[0m\u001b[1;33m\u001b[0m\u001b[0m\n\u001b[0;32m     59\u001b[0m                     (type_err,\n\u001b[1;32m---> 60\u001b[1;33m                      msg_dtype if msg_dtype is not None else X.dtype)\n\u001b[0m\u001b[0;32m     61\u001b[0m             )\n\u001b[0;32m     62\u001b[0m     \u001b[1;31m# for object dtype data, we only check for NaNs (GH-13254)\u001b[0m\u001b[1;33m\u001b[0m\u001b[1;33m\u001b[0m\u001b[1;33m\u001b[0m\u001b[0m\n",
      "\u001b[1;31mValueError\u001b[0m: Input contains NaN, infinity or a value too large for dtype('float64')."
     ]
    }
   ],
   "source": [
    "# обязательный код\n",
    "df=df_train1.copy()\n",
    "X=df.drop(columns=['ad_price']).values\n",
    "y=df.ad_price.values\n",
    "# сплитуйте X и y как хотите\n",
    "X_train, X_test, y_train, y_test = train_test_split(X, y, test_size = 0.1, random_state=0, \n",
    "                                                    shuffle=True, stratify = df_train.ad_price)"
   ]
  },
  {
   "cell_type": "code",
   "execution_count": 11,
   "metadata": {},
   "outputs": [],
   "source": [
    "df_br=pd.read_csv('df_br',header=None,names=['longitude','latitude'])\n",
    "df_cs=pd.read_csv('df_cs',header=None,names=['longitude','latitude'])\n",
    "df_gs=pd.read_csv('df_gs',header=None,names=['longitude','latitude'])\n",
    "df_m=pd.read_csv('df_m',header=None,names=['longitude','latitude'])\n",
    "df_sm=pd.read_csv('df_sm',header=None,names=['longitude','latitude'])\n",
    "df_t=pd.read_csv('df_t',header=None,names=['longitude','latitude'])\n",
    "df_k=pd.read_csv('df_k',header=None,names=['longitude','latitude'])\n",
    "df_p=pd.read_csv('df_p',header=None,names=['longitude','latitude'])\n",
    "df_u=pd.read_csv('df_u',header=None,names=['longitude','latitude'])\n",
    "df_h=pd.read_csv('df_h',header=None,names=['longitude','latitude'])\n",
    "df_oc=pd.read_csv('df_oc',header=None,names=['longitude','latitude'])"
   ]
  },
  {
   "cell_type": "code",
   "execution_count": 39,
   "metadata": {},
   "outputs": [],
   "source": [
    "import math\n",
    "\n",
    "\n",
    "def distance(lat1,lon1,lat2,lon2):\n",
    "\n",
    "    radius = 6371  # km\n",
    "\n",
    "    dlat = math.radians(lat2 - lat1)\n",
    "    dlon = math.radians(lon2 - lon1)\n",
    "    a = (math.sin(dlat / 2) * math.sin(dlat / 2) +\n",
    "         math.cos(math.radians(lat1)) * math.cos(math.radians(lat2)) *\n",
    "         math.sin(dlon / 2) * math.sin(dlon / 2))\n",
    "    c = 2 * math.atan2(math.sqrt(a), math.sqrt(1 - a))\n",
    "    d = radius * c\n",
    "\n",
    "    return d\n",
    "def mp_cal(lat1,lon1,lat2,lon2):\n",
    "    if distance(lat1,lon1,lat2,lon2)==0:\n",
    "        first_step=0\n",
    "    else:\n",
    "        first_step=1/distance(lat1,lon1,lat2,lon2)\n",
    "        return first_step"
   ]
  },
  {
   "cell_type": "code",
   "execution_count": 23,
   "metadata": {},
   "outputs": [
    {
     "ename": "TypeError",
     "evalue": "unsupported operand type(s) for -: 'str' and 'float'",
     "output_type": "error",
     "traceback": [
      "\u001b[1;31m---------------------------------------------------------------------------\u001b[0m",
      "\u001b[1;31mTypeError\u001b[0m                                 Traceback (most recent call last)",
      "\u001b[1;32m<ipython-input-23-2da9685246be>\u001b[0m in \u001b[0;36m<module>\u001b[1;34m\u001b[0m\n\u001b[0;32m      3\u001b[0m     \u001b[0mPls\u001b[0m\u001b[1;33m=\u001b[0m\u001b[0mnp\u001b[0m\u001b[1;33m.\u001b[0m\u001b[0marray\u001b[0m\u001b[1;33m(\u001b[0m\u001b[1;33m[\u001b[0m\u001b[1;33m]\u001b[0m\u001b[1;33m)\u001b[0m\u001b[1;33m\u001b[0m\u001b[1;33m\u001b[0m\u001b[0m\n\u001b[0;32m      4\u001b[0m     \u001b[1;32mfor\u001b[0m \u001b[0mlat2\u001b[0m\u001b[1;33m,\u001b[0m\u001b[0mlon2\u001b[0m \u001b[1;32min\u001b[0m \u001b[0mzip\u001b[0m\u001b[1;33m(\u001b[0m\u001b[0mdf_br\u001b[0m\u001b[1;33m.\u001b[0m\u001b[0mlatitude\u001b[0m\u001b[1;33m,\u001b[0m \u001b[0mdf_br\u001b[0m\u001b[1;33m.\u001b[0m\u001b[0mlongitude\u001b[0m\u001b[1;33m)\u001b[0m\u001b[1;33m:\u001b[0m\u001b[1;33m\u001b[0m\u001b[1;33m\u001b[0m\u001b[0m\n\u001b[1;32m----> 5\u001b[1;33m         \u001b[0mPls\u001b[0m\u001b[1;33m=\u001b[0m\u001b[0mnp\u001b[0m\u001b[1;33m.\u001b[0m\u001b[0mappend\u001b[0m\u001b[1;33m(\u001b[0m\u001b[0mPls\u001b[0m\u001b[1;33m,\u001b[0m\u001b[0mmp_cal\u001b[0m\u001b[1;33m(\u001b[0m\u001b[0mlat1\u001b[0m\u001b[1;33m,\u001b[0m\u001b[0mlon1\u001b[0m\u001b[1;33m,\u001b[0m\u001b[0mlat2\u001b[0m\u001b[1;33m,\u001b[0m\u001b[0mlon2\u001b[0m\u001b[1;33m)\u001b[0m\u001b[1;33m)\u001b[0m\u001b[1;33m\u001b[0m\u001b[1;33m\u001b[0m\u001b[0m\n\u001b[0m\u001b[0;32m      6\u001b[0m     \u001b[0mcolumn_np\u001b[0m\u001b[1;33m=\u001b[0m\u001b[0mnp\u001b[0m\u001b[1;33m.\u001b[0m\u001b[0mappend\u001b[0m\u001b[1;33m(\u001b[0m\u001b[0mcolumn_np\u001b[0m\u001b[1;33m,\u001b[0m\u001b[0msum\u001b[0m\u001b[1;33m(\u001b[0m\u001b[0mPls\u001b[0m\u001b[1;33m)\u001b[0m\u001b[1;33m)\u001b[0m\u001b[1;33m\u001b[0m\u001b[1;33m\u001b[0m\u001b[0m\n\u001b[0;32m      7\u001b[0m \u001b[0mnew\u001b[0m\u001b[1;33m=\u001b[0m\u001b[0mlist\u001b[0m\u001b[1;33m(\u001b[0m\u001b[0mcolumn_np\u001b[0m\u001b[1;33m)\u001b[0m\u001b[1;33m\u001b[0m\u001b[1;33m\u001b[0m\u001b[0m\n",
      "\u001b[1;32m<ipython-input-15-95720fb0907e>\u001b[0m in \u001b[0;36mmp_cal\u001b[1;34m(lat1, lon1, lat2, lon2)\u001b[0m\n\u001b[0;32m     16\u001b[0m     \u001b[1;32mreturn\u001b[0m \u001b[0md\u001b[0m\u001b[1;33m\u001b[0m\u001b[1;33m\u001b[0m\u001b[0m\n\u001b[0;32m     17\u001b[0m \u001b[1;32mdef\u001b[0m \u001b[0mmp_cal\u001b[0m\u001b[1;33m(\u001b[0m\u001b[0mlat1\u001b[0m\u001b[1;33m,\u001b[0m\u001b[0mlon1\u001b[0m\u001b[1;33m,\u001b[0m\u001b[0mlat2\u001b[0m\u001b[1;33m,\u001b[0m\u001b[0mlon2\u001b[0m\u001b[1;33m)\u001b[0m\u001b[1;33m:\u001b[0m\u001b[1;33m\u001b[0m\u001b[1;33m\u001b[0m\u001b[0m\n\u001b[1;32m---> 18\u001b[1;33m         \u001b[0mfirst_step\u001b[0m\u001b[1;33m=\u001b[0m\u001b[1;36m1\u001b[0m\u001b[1;33m/\u001b[0m\u001b[0mdistance\u001b[0m\u001b[1;33m(\u001b[0m\u001b[0mlat1\u001b[0m\u001b[1;33m,\u001b[0m\u001b[0mlon1\u001b[0m\u001b[1;33m,\u001b[0m\u001b[0mlat2\u001b[0m\u001b[1;33m,\u001b[0m\u001b[0mlon2\u001b[0m\u001b[1;33m)\u001b[0m\u001b[1;33m\u001b[0m\u001b[1;33m\u001b[0m\u001b[0m\n\u001b[0m\u001b[0;32m     19\u001b[0m         \u001b[1;32mreturn\u001b[0m \u001b[0mfirst_step\u001b[0m\u001b[1;33m\u001b[0m\u001b[1;33m\u001b[0m\u001b[0m\n",
      "\u001b[1;32m<ipython-input-15-95720fb0907e>\u001b[0m in \u001b[0;36mdistance\u001b[1;34m(lat1, lon1, lat2, lon2)\u001b[0m\n\u001b[0;32m      6\u001b[0m     \u001b[0mradius\u001b[0m \u001b[1;33m=\u001b[0m \u001b[1;36m6371\u001b[0m  \u001b[1;31m# km\u001b[0m\u001b[1;33m\u001b[0m\u001b[1;33m\u001b[0m\u001b[0m\n\u001b[0;32m      7\u001b[0m \u001b[1;33m\u001b[0m\u001b[0m\n\u001b[1;32m----> 8\u001b[1;33m     \u001b[0mdlat\u001b[0m \u001b[1;33m=\u001b[0m \u001b[0mmath\u001b[0m\u001b[1;33m.\u001b[0m\u001b[0mradians\u001b[0m\u001b[1;33m(\u001b[0m\u001b[0mlat2\u001b[0m \u001b[1;33m-\u001b[0m \u001b[0mlat1\u001b[0m\u001b[1;33m)\u001b[0m\u001b[1;33m\u001b[0m\u001b[1;33m\u001b[0m\u001b[0m\n\u001b[0m\u001b[0;32m      9\u001b[0m     \u001b[0mdlon\u001b[0m \u001b[1;33m=\u001b[0m \u001b[0mmath\u001b[0m\u001b[1;33m.\u001b[0m\u001b[0mradians\u001b[0m\u001b[1;33m(\u001b[0m\u001b[0mlon2\u001b[0m \u001b[1;33m-\u001b[0m \u001b[0mlon1\u001b[0m\u001b[1;33m)\u001b[0m\u001b[1;33m\u001b[0m\u001b[1;33m\u001b[0m\u001b[0m\n\u001b[0;32m     10\u001b[0m     a = (math.sin(dlat / 2) * math.sin(dlat / 2) +\n",
      "\u001b[1;31mTypeError\u001b[0m: unsupported operand type(s) for -: 'str' and 'float'"
     ]
    }
   ],
   "source": [
    "column_np=np.array([])\n",
    "for lat1,lon1 in zip(df_train1.offer_geo_coordinates_lat, df_train1.offer_geo_coordinates_lng):\n",
    "    Pls=np.array([])\n",
    "    for lat2,lon2 in zip(df_br.latitude, df_br.longitude):\n",
    "        Pls=np.append(Pls,mp_cal(lat1,lon1,lat2,lon2))\n",
    "    column_np=np.append(column_np,sum(Pls))\n",
    "new=list(column_np)\n",
    "df_train1['mp_br']=new"
   ]
  },
  {
   "cell_type": "code",
   "execution_count": 41,
   "metadata": {},
   "outputs": [],
   "source": [
    "column_np=np.array([])\n",
    "for lat1,lon1 in zip(df_train1.offer_geo_coordinates_lat, df_train1.offer_geo_coordinates_lng):\n",
    "    Pls=np.array([])\n",
    "    for lat2,lon2 in zip(df_br.latitude, df_br.longitude):\n",
    "        Pls=np.append(Pls,mp_cal(lat1,lon1,lat2,lon2))\n",
    "\n",
    "        e = np.array([])\n",
    "    for i in Pls:\n",
    "        if i is None: \n",
    "            e=np.append(e,0)\n",
    "        else:\n",
    "            e=np.append(e,i)\n",
    "    column_np=np.append(column_np,sum(e))\n",
    "new=list(column_np)\n",
    "df_train1['mp_br']=new"
   ]
  },
  {
   "cell_type": "code",
   "execution_count": 35,
   "metadata": {},
   "outputs": [],
   "source": [
    "df_br=pd.read_excel('df_br.xlsx')"
   ]
  },
  {
   "cell_type": "code",
   "execution_count": 36,
   "metadata": {},
   "outputs": [
    {
     "data": {
      "text/html": [
       "<div>\n",
       "<style scoped>\n",
       "    .dataframe tbody tr th:only-of-type {\n",
       "        vertical-align: middle;\n",
       "    }\n",
       "\n",
       "    .dataframe tbody tr th {\n",
       "        vertical-align: top;\n",
       "    }\n",
       "\n",
       "    .dataframe thead th {\n",
       "        text-align: right;\n",
       "    }\n",
       "</style>\n",
       "<table border=\"1\" class=\"dataframe\">\n",
       "  <thead>\n",
       "    <tr style=\"text-align: right;\">\n",
       "      <th></th>\n",
       "      <th>Unnamed: 0</th>\n",
       "      <th>longitude</th>\n",
       "      <th>latitude</th>\n",
       "    </tr>\n",
       "  </thead>\n",
       "  <tbody>\n",
       "    <tr>\n",
       "      <th>0</th>\n",
       "      <td>0</td>\n",
       "      <td>37.809479</td>\n",
       "      <td>55.700410</td>\n",
       "    </tr>\n",
       "    <tr>\n",
       "      <th>1</th>\n",
       "      <td>1</td>\n",
       "      <td>37.616243</td>\n",
       "      <td>55.729351</td>\n",
       "    </tr>\n",
       "    <tr>\n",
       "      <th>2</th>\n",
       "      <td>2</td>\n",
       "      <td>37.621741</td>\n",
       "      <td>55.727526</td>\n",
       "    </tr>\n",
       "    <tr>\n",
       "      <th>3</th>\n",
       "      <td>3</td>\n",
       "      <td>37.612173</td>\n",
       "      <td>55.711240</td>\n",
       "    </tr>\n",
       "    <tr>\n",
       "      <th>4</th>\n",
       "      <td>4</td>\n",
       "      <td>37.597127</td>\n",
       "      <td>55.766937</td>\n",
       "    </tr>\n",
       "    <tr>\n",
       "      <th>...</th>\n",
       "      <td>...</td>\n",
       "      <td>...</td>\n",
       "      <td>...</td>\n",
       "    </tr>\n",
       "    <tr>\n",
       "      <th>1000</th>\n",
       "      <td>1000</td>\n",
       "      <td>37.566764</td>\n",
       "      <td>55.752323</td>\n",
       "    </tr>\n",
       "    <tr>\n",
       "      <th>1001</th>\n",
       "      <td>1001</td>\n",
       "      <td>37.559954</td>\n",
       "      <td>55.756614</td>\n",
       "    </tr>\n",
       "    <tr>\n",
       "      <th>1002</th>\n",
       "      <td>1002</td>\n",
       "      <td>37.620869</td>\n",
       "      <td>55.732200</td>\n",
       "    </tr>\n",
       "    <tr>\n",
       "      <th>1003</th>\n",
       "      <td>1003</td>\n",
       "      <td>37.586796</td>\n",
       "      <td>55.778193</td>\n",
       "    </tr>\n",
       "    <tr>\n",
       "      <th>1004</th>\n",
       "      <td>1004</td>\n",
       "      <td>37.562308</td>\n",
       "      <td>55.796046</td>\n",
       "    </tr>\n",
       "  </tbody>\n",
       "</table>\n",
       "<p>1005 rows × 3 columns</p>\n",
       "</div>"
      ],
      "text/plain": [
       "      Unnamed: 0  longitude   latitude\n",
       "0              0  37.809479  55.700410\n",
       "1              1  37.616243  55.729351\n",
       "2              2  37.621741  55.727526\n",
       "3              3  37.612173  55.711240\n",
       "4              4  37.597127  55.766937\n",
       "...          ...        ...        ...\n",
       "1000        1000  37.566764  55.752323\n",
       "1001        1001  37.559954  55.756614\n",
       "1002        1002  37.620869  55.732200\n",
       "1003        1003  37.586796  55.778193\n",
       "1004        1004  37.562308  55.796046\n",
       "\n",
       "[1005 rows x 3 columns]"
      ]
     },
     "execution_count": 36,
     "metadata": {},
     "output_type": "execute_result"
    }
   ],
   "source": [
    "df_br"
   ]
  },
  {
   "cell_type": "code",
   "execution_count": 42,
   "metadata": {},
   "outputs": [
    {
     "data": {
      "text/plain": [
       "0         79.828361\n",
       "1        156.518341\n",
       "2        239.967013\n",
       "3        227.641826\n",
       "4        218.409409\n",
       "            ...    \n",
       "51585    104.872249\n",
       "51586    139.330478\n",
       "51587    192.414057\n",
       "51588     97.302992\n",
       "51589    323.264825\n",
       "Name: mp_br, Length: 51590, dtype: float64"
      ]
     },
     "execution_count": 42,
     "metadata": {},
     "output_type": "execute_result"
    }
   ],
   "source": [
    "df_train1.mp_br"
   ]
  },
  {
   "cell_type": "code",
   "execution_count": null,
   "metadata": {},
   "outputs": [],
   "source": []
  }
 ],
 "metadata": {
  "kernelspec": {
   "display_name": "Python 3",
   "language": "python",
   "name": "python3"
  },
  "language_info": {
   "codemirror_mode": {
    "name": "ipython",
    "version": 3
   },
   "file_extension": ".py",
   "mimetype": "text/x-python",
   "name": "python",
   "nbconvert_exporter": "python",
   "pygments_lexer": "ipython3",
   "version": "3.7.6"
  }
 },
 "nbformat": 4,
 "nbformat_minor": 4
}
