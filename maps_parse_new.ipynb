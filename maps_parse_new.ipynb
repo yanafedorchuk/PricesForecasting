{
 "cells": [
  {
   "cell_type": "code",
   "execution_count": 1,
   "metadata": {},
   "outputs": [],
   "source": [
    "import pandas as pd\n",
    "import numpy as np"
   ]
  },
  {
   "cell_type": "code",
   "execution_count": 2,
   "metadata": {},
   "outputs": [
    {
     "data": {
      "text/plain": [
       "(Decimal('37.587093'), Decimal('55.733969'))"
      ]
     },
     "execution_count": 2,
     "metadata": {},
     "output_type": "execute_result"
    }
   ],
   "source": [
    "from decimal import Decimal\n",
    "\n",
    "from yandex_geocoder import Client\n",
    "\n",
    "\n",
    "client = Client(\"0e9e630a-fe09-4a9c-adb7-a518575602ef\")\n",
    "\n",
    "coordinates = client.coordinates(\"Москва Льва Толстого 16\")\n",
    "coordinates"
   ]
  },
  {
   "cell_type": "code",
   "execution_count": 3,
   "metadata": {},
   "outputs": [
    {
     "data": {
      "text/plain": [
       "(Decimal('37.634173'), Decimal('55.765336'))"
      ]
     },
     "execution_count": 3,
     "metadata": {},
     "output_type": "execute_result"
    }
   ],
   "source": [
    "coordinates = client.coordinates(\"Russia, Moscow, Bobrov Lane, 4с1\")\n",
    "coordinates"
   ]
  },
  {
   "cell_type": "code",
   "execution_count": 4,
   "metadata": {},
   "outputs": [
    {
     "ename": "UnexpectedResponse",
     "evalue": "status_code=400, body=b'{\"statusCode\":400,\"error\":\"Bad Request\",\"message\":\"Parameter \\\\\"geocode\\\\\": \\\\\"geocode\\\\\" is not allowed to be empty\"}'",
     "output_type": "error",
     "traceback": [
      "\u001b[1;31m---------------------------------------------------------------------------\u001b[0m",
      "\u001b[1;31mUnexpectedResponse\u001b[0m                        Traceback (most recent call last)",
      "\u001b[1;32m<ipython-input-4-4d0e05c81b0d>\u001b[0m in \u001b[0;36m<module>\u001b[1;34m\u001b[0m\n\u001b[0;32m      1\u001b[0m \u001b[0mcoordinates_list\u001b[0m\u001b[1;33m=\u001b[0m\u001b[1;33m[\u001b[0m\u001b[1;33m]\u001b[0m\u001b[1;33m\u001b[0m\u001b[1;33m\u001b[0m\u001b[0m\n\u001b[1;32m----> 2\u001b[1;33m \u001b[0mcoordinates\u001b[0m \u001b[1;33m=\u001b[0m \u001b[0mclient\u001b[0m\u001b[1;33m.\u001b[0m\u001b[0mcoordinates\u001b[0m\u001b[1;33m(\u001b[0m\u001b[1;34m\"\"\u001b[0m\u001b[1;33m)\u001b[0m\u001b[1;33m\u001b[0m\u001b[1;33m\u001b[0m\u001b[0m\n\u001b[0m\u001b[0;32m      3\u001b[0m \u001b[0mcoordinates_list\u001b[0m\u001b[1;33m.\u001b[0m\u001b[0mappend\u001b[0m\u001b[1;33m(\u001b[0m\u001b[0mcoordinates\u001b[0m\u001b[1;33m)\u001b[0m\u001b[1;33m\u001b[0m\u001b[1;33m\u001b[0m\u001b[0m\n\u001b[0;32m      4\u001b[0m \u001b[0mcoordinates\u001b[0m \u001b[1;33m=\u001b[0m \u001b[0mclient\u001b[0m\u001b[1;33m.\u001b[0m\u001b[0mcoordinates\u001b[0m\u001b[1;33m(\u001b[0m\u001b[1;34m\"\"\u001b[0m\u001b[1;33m)\u001b[0m\u001b[1;33m\u001b[0m\u001b[1;33m\u001b[0m\u001b[0m\n\u001b[0;32m      5\u001b[0m \u001b[0mcoordinates_list\u001b[0m\u001b[1;33m.\u001b[0m\u001b[0mappend\u001b[0m\u001b[1;33m(\u001b[0m\u001b[0mcoordinates\u001b[0m\u001b[1;33m)\u001b[0m\u001b[1;33m\u001b[0m\u001b[1;33m\u001b[0m\u001b[0m\n",
      "\u001b[1;32m~\\anaconda3\\lib\\site-packages\\yandex_geocoder\\client.py\u001b[0m in \u001b[0;36mcoordinates\u001b[1;34m(self, address)\u001b[0m\n\u001b[0;32m     46\u001b[0m     \u001b[1;32mdef\u001b[0m \u001b[0mcoordinates\u001b[0m\u001b[1;33m(\u001b[0m\u001b[0mself\u001b[0m\u001b[1;33m,\u001b[0m \u001b[0maddress\u001b[0m\u001b[1;33m:\u001b[0m \u001b[0mstr\u001b[0m\u001b[1;33m)\u001b[0m \u001b[1;33m->\u001b[0m \u001b[0mTuple\u001b[0m\u001b[1;33m[\u001b[0m\u001b[0mDecimal\u001b[0m\u001b[1;33m]\u001b[0m\u001b[1;33m:\u001b[0m\u001b[1;33m\u001b[0m\u001b[1;33m\u001b[0m\u001b[0m\n\u001b[0;32m     47\u001b[0m         \u001b[1;34m\"\"\"Fetch coordinates (longitude, latitude) for passed address.\"\"\"\u001b[0m\u001b[1;33m\u001b[0m\u001b[1;33m\u001b[0m\u001b[0m\n\u001b[1;32m---> 48\u001b[1;33m         \u001b[0mdata\u001b[0m \u001b[1;33m=\u001b[0m \u001b[0mself\u001b[0m\u001b[1;33m.\u001b[0m\u001b[0m_request\u001b[0m\u001b[1;33m(\u001b[0m\u001b[0maddress\u001b[0m\u001b[1;33m)\u001b[0m\u001b[1;33m[\u001b[0m\u001b[1;34m\"GeoObjectCollection\"\u001b[0m\u001b[1;33m]\u001b[0m\u001b[1;33m[\u001b[0m\u001b[1;34m\"featureMember\"\u001b[0m\u001b[1;33m]\u001b[0m\u001b[1;33m\u001b[0m\u001b[1;33m\u001b[0m\u001b[0m\n\u001b[0m\u001b[0;32m     49\u001b[0m \u001b[1;33m\u001b[0m\u001b[0m\n\u001b[0;32m     50\u001b[0m         \u001b[1;32mif\u001b[0m \u001b[1;32mnot\u001b[0m \u001b[0mdata\u001b[0m\u001b[1;33m:\u001b[0m\u001b[1;33m\u001b[0m\u001b[1;33m\u001b[0m\u001b[0m\n",
      "\u001b[1;32m~\\anaconda3\\lib\\site-packages\\yandex_geocoder\\client.py\u001b[0m in \u001b[0;36m_request\u001b[1;34m(self, address)\u001b[0m\n\u001b[0;32m     41\u001b[0m         \u001b[1;32melse\u001b[0m\u001b[1;33m:\u001b[0m\u001b[1;33m\u001b[0m\u001b[1;33m\u001b[0m\u001b[0m\n\u001b[0;32m     42\u001b[0m             raise UnexpectedResponse(\n\u001b[1;32m---> 43\u001b[1;33m                 \u001b[1;34mf\"status_code={response.status_code}, body={response.content}\"\u001b[0m\u001b[1;33m\u001b[0m\u001b[1;33m\u001b[0m\u001b[0m\n\u001b[0m\u001b[0;32m     44\u001b[0m             )\n\u001b[0;32m     45\u001b[0m \u001b[1;33m\u001b[0m\u001b[0m\n",
      "\u001b[1;31mUnexpectedResponse\u001b[0m: status_code=400, body=b'{\"statusCode\":400,\"error\":\"Bad Request\",\"message\":\"Parameter \\\\\"geocode\\\\\": \\\\\"geocode\\\\\" is not allowed to be empty\"}'"
     ]
    }
   ],
   "source": [
    "coordinates_list=[]\n",
    "coordinates = client.coordinates(\"\")\n",
    "coordinates_list.append(coordinates)\n",
    "coordinates = client.coordinates(\"\")\n",
    "coordinates_list.append(coordinates)\n",
    "coordinates = client.coordinates(\"\")\n",
    "coordinates_list.append(coordinates)\n",
    "coordinates = client.coordinates(\"\")\n",
    "coordinates_list.append(coordinates)\n",
    "coordinates = client.coordinates(\"\")\n",
    "coordinates_list.append(coordinates)\n",
    "coordinates = client.coordinates(\"\")\n",
    "coordinates_list.append(coordinates)\n",
    "coordinates = client.coordinates(\"\")\n",
    "coordinates_list.append(coordinates)\n",
    "coordinates = client.coordinates(\"\")\n",
    "coordinates_list.append(coordinates)\n",
    "coordinates = client.coordinates(\"\")\n",
    "coordinates_list.append(coordinates)\n",
    "coordinates = client.coordinates(\"\")\n",
    "coordinates_list.append(coordinates)\n",
    "coordinates = client.coordinates(\"\")\n",
    "coordinates_list.append(coordinates)\n",
    "coordinates = client.coordinates(\"\")\n",
    "coordinates_list.append(coordinates)\n",
    "coordinates = client.coordinates(\"\")\n",
    "coordinates_list.append(coordinates)\n",
    "coordinates = client.coordinates(\"\")\n",
    "coordinates_list.append(coordinates)\n",
    "coordinates = client.coordinates(\"\")\n",
    "coordinates_list.append(coordinates)\n",
    "coordinates = client.coordinates(\"\")\n",
    "coordinates_list.append(coordinates)\n",
    "coordinates = client.coordinates(\"\")\n",
    "coordinates_list.append(coordinates)\n",
    "coordinates = client.coordinates(\"\")\n",
    "coordinates_list.append(coordinates)\n",
    "coordinates = client.coordinates(\"\")\n",
    "coordinates_list.append(coordinates)\n",
    "coordinates = client.coordinates(\"\")\n",
    "coordinates_list.append(coordinates)\n",
    "coordinates = client.coordinates(\"\")\n",
    "coordinates_list.append(coordinates)\n",
    "coordinates = client.coordinates(\"\")\n",
    "coordinates_list.append(coordinates)\n",
    "coordinates = client.coordinates(\"\")\n",
    "coordinates_list.append(coordinates)\n",
    "coordinates = client.coordinates(\"\")\n",
    "coordinates_list.append(coordinates)\n",
    "coordinates = client.coordinates(\"\")\n",
    "coordinates_list.append(coordinates)\n",
    "coordinates = client.coordinates(\"\")\n",
    "coordinates_list.append(coordinates)\n",
    "coordinates = client.coordinates(\"\")\n",
    "coordinates_list.append(coordinates)\n",
    "coordinates = client.coordinates(\"\")\n",
    "coordinates_list.append(coordinates)\n",
    "coordinates = client.coordinates(\"\")\n",
    "coordinates_list.append(coordinates)\n",
    "coordinates = client.coordinates(\"\")\n",
    "coordinates_list.append(coordinates)\n",
    "coordinates = client.coordinates(\"\")\n",
    "coordinates_list.append(coordinates)\n",
    "coordinates = client.coordinates(\"\")\n",
    "coordinates_list.append(coordinates)\n",
    "coordinates_list"
   ]
  },
  {
   "cell_type": "code",
   "execution_count": null,
   "metadata": {},
   "outputs": [],
   "source": [
    "coordinates = client.coordinates(\"Russia, Moscow, Bobrov Lane, 4с1\")\n",
    "coordinates_list.append(coordinates)\n",
    "coordinates_list"
   ]
  },
  {
   "cell_type": "code",
   "execution_count": null,
   "metadata": {},
   "outputs": [],
   "source": [
    "num = np.array(coordinates_list)"
   ]
  },
  {
   "cell_type": "code",
   "execution_count": null,
   "metadata": {},
   "outputs": [],
   "source": [
    "num"
   ]
  },
  {
   "cell_type": "code",
   "execution_count": null,
   "metadata": {},
   "outputs": [],
   "source": [
    "reshaped = num.reshape(4,2)"
   ]
  },
  {
   "cell_type": "code",
   "execution_count": 5,
   "metadata": {},
   "outputs": [
    {
     "ename": "NameError",
     "evalue": "name 'reshaped' is not defined",
     "output_type": "error",
     "traceback": [
      "\u001b[1;31m---------------------------------------------------------------------------\u001b[0m",
      "\u001b[1;31mNameError\u001b[0m                                 Traceback (most recent call last)",
      "\u001b[1;32m<ipython-input-5-fa3ee9818419>\u001b[0m in \u001b[0;36m<module>\u001b[1;34m\u001b[0m\n\u001b[1;32m----> 1\u001b[1;33m \u001b[0mreshaped\u001b[0m\u001b[1;33m\u001b[0m\u001b[1;33m\u001b[0m\u001b[0m\n\u001b[0m",
      "\u001b[1;31mNameError\u001b[0m: name 'reshaped' is not defined"
     ]
    }
   ],
   "source": [
    "reshaped"
   ]
  },
  {
   "cell_type": "code",
   "execution_count": 6,
   "metadata": {},
   "outputs": [
    {
     "ename": "NameError",
     "evalue": "name 'reshaped' is not defined",
     "output_type": "error",
     "traceback": [
      "\u001b[1;31m---------------------------------------------------------------------------\u001b[0m",
      "\u001b[1;31mNameError\u001b[0m                                 Traceback (most recent call last)",
      "\u001b[1;32m<ipython-input-6-0b103cc1920b>\u001b[0m in \u001b[0;36m<module>\u001b[1;34m\u001b[0m\n\u001b[1;32m----> 1\u001b[1;33m \u001b[0mdf\u001b[0m\u001b[1;33m=\u001b[0m\u001b[0mpd\u001b[0m\u001b[1;33m.\u001b[0m\u001b[0mDataFrame\u001b[0m\u001b[1;33m(\u001b[0m\u001b[0mreshaped\u001b[0m\u001b[1;33m,\u001b[0m \u001b[0mcolumns\u001b[0m\u001b[1;33m=\u001b[0m\u001b[1;33m[\u001b[0m\u001b[1;34m'latitude'\u001b[0m\u001b[1;33m,\u001b[0m\u001b[1;34m'longitude'\u001b[0m\u001b[1;33m]\u001b[0m\u001b[1;33m)\u001b[0m\u001b[1;33m\u001b[0m\u001b[1;33m\u001b[0m\u001b[0m\n\u001b[0m",
      "\u001b[1;31mNameError\u001b[0m: name 'reshaped' is not defined"
     ]
    }
   ],
   "source": [
    "df=pd.DataFrame(reshaped, columns=['latitude','longitude'])"
   ]
  },
  {
   "cell_type": "code",
   "execution_count": 7,
   "metadata": {},
   "outputs": [
    {
     "ename": "NameError",
     "evalue": "name 'df' is not defined",
     "output_type": "error",
     "traceback": [
      "\u001b[1;31m---------------------------------------------------------------------------\u001b[0m",
      "\u001b[1;31mNameError\u001b[0m                                 Traceback (most recent call last)",
      "\u001b[1;32m<ipython-input-7-00cf07b74dcd>\u001b[0m in \u001b[0;36m<module>\u001b[1;34m\u001b[0m\n\u001b[1;32m----> 1\u001b[1;33m \u001b[0mdf\u001b[0m\u001b[1;33m\u001b[0m\u001b[1;33m\u001b[0m\u001b[0m\n\u001b[0m",
      "\u001b[1;31mNameError\u001b[0m: name 'df' is not defined"
     ]
    }
   ],
   "source": [
    "df"
   ]
  },
  {
   "cell_type": "code",
   "execution_count": 8,
   "metadata": {},
   "outputs": [],
   "source": [
    "from lxml import html\n",
    "import requests"
   ]
  },
  {
   "cell_type": "code",
   "execution_count": 9,
   "metadata": {},
   "outputs": [],
   "source": [
    "page = requests.get('https://yandex.com/maps/213/moscow/search/%D0%B1%D0%B0%D1%80%D1%8B%20%D0%B8%20%D1%80%D0%B5%D1%81%D1%82%D0%BE%D1%80%D0%B0%D0%BD%D1%8B%20%D0%BC%D0%BE%D1%81%D0%BA%D0%B2%D1%8B/?ll=37.605322%2C55.758484&sll=37.584948%2C55.755226&sspn=0.999787%2C0.333340&z=12.98')\n",
    "tree = html.fromstring(page.content)"
   ]
  },
  {
   "cell_type": "code",
   "execution_count": 10,
   "metadata": {},
   "outputs": [
    {
     "ename": "NameError",
     "evalue": "name 'content' is not defined",
     "output_type": "error",
     "traceback": [
      "\u001b[1;31m---------------------------------------------------------------------------\u001b[0m",
      "\u001b[1;31mNameError\u001b[0m                                 Traceback (most recent call last)",
      "\u001b[1;32m<ipython-input-10-0ad565fdf599>\u001b[0m in \u001b[0;36m<module>\u001b[1;34m\u001b[0m\n\u001b[1;32m----> 1\u001b[1;33m \u001b[0madress_line\u001b[0m \u001b[1;33m=\u001b[0m \u001b[0mcontent\u001b[0m\u001b[1;33m.\u001b[0m\u001b[0mquerySelectorAll\u001b[0m\u001b[1;33m(\u001b[0m\u001b[1;34m\"div[class=search-business-snippet-view__address]\"\u001b[0m\u001b[1;33m)\u001b[0m\u001b[1;33m[\u001b[0m\u001b[1;36m0\u001b[0m\u001b[1;33m]\u001b[0m\u001b[1;33m.\u001b[0m\u001b[0mtextContent\u001b[0m\u001b[1;33m\u001b[0m\u001b[1;33m\u001b[0m\u001b[0m\n\u001b[0m",
      "\u001b[1;31mNameError\u001b[0m: name 'content' is not defined"
     ]
    }
   ],
   "source": [
    "adress_line = content.querySelectorAll(\"div[class=search-business-snippet-view__address]\")[0].textContent"
   ]
  },
  {
   "cell_type": "code",
   "execution_count": null,
   "metadata": {},
   "outputs": [],
   "source": [
    "adress_line"
   ]
  },
  {
   "cell_type": "code",
   "execution_count": null,
   "metadata": {},
   "outputs": [],
   "source": [
    "page = requests.get('http://econpy.pythonanywhere.com/ex/001.html')\n",
    "tree = html.fromstring(page.content)"
   ]
  },
  {
   "cell_type": "code",
   "execution_count": 11,
   "metadata": {},
   "outputs": [],
   "source": [
    "#This will create a list of buyers:\n",
    "buyers = tree.xpath('//div[@title=\"buyer-name\"]/text()')\n",
    "#This will create a list of prices\n",
    "prices = tree.xpath('//span[@class=\"item-price\"]/text()')"
   ]
  },
  {
   "cell_type": "code",
   "execution_count": 12,
   "metadata": {},
   "outputs": [
    {
     "data": {
      "text/plain": [
       "[]"
      ]
     },
     "execution_count": 12,
     "metadata": {},
     "output_type": "execute_result"
    }
   ],
   "source": [
    "buyers\n"
   ]
  },
  {
   "cell_type": "code",
   "execution_count": 13,
   "metadata": {},
   "outputs": [],
   "source": [
    "import requests\n",
    "from bs4 import BeautifulSoup as Soup\n",
    "html = requests.get('https://yandex.com/maps/213/moscow/search/%D0%B1%D0%B0%D1%80%D1%8B%20%D0%B8%20%D1%80%D0%B5%D1%81%D1%82%D0%BE%D1%80%D0%B0%D0%BD%D1%8B%20%D0%BC%D0%BE%D1%81%D0%BA%D0%B2%D1%8B/?ll=37.605322%2C55.758484&sll=37.584948%2C55.755226&sspn=0.999787%2C0.333340&z=12.98').content\n",
    "soup = Soup(html)"
   ]
  },
  {
   "cell_type": "code",
   "execution_count": 14,
   "metadata": {},
   "outputs": [],
   "source": [
    "example=soup.select('div[class=search-business-snippet-view__address]')"
   ]
  },
  {
   "cell_type": "code",
   "execution_count": 15,
   "metadata": {},
   "outputs": [
    {
     "data": {
      "text/plain": [
       "[<div class=\"search-business-snippet-view__address\">Krasnaya Presnya Street, 32-34с3</div>,\n",
       " <div class=\"search-business-snippet-view__address\">Bolshoy Cherkassky Lane, 15-17с1</div>,\n",
       " <div class=\"search-business-snippet-view__address\">Maroseyka Street, 2/15с1</div>,\n",
       " <div class=\"search-business-snippet-view__address\">Novaya Square, 8с2</div>,\n",
       " <div class=\"search-business-snippet-view__address\">1905 Goda Street, 10с1</div>]"
      ]
     },
     "execution_count": 15,
     "metadata": {},
     "output_type": "execute_result"
    }
   ],
   "source": [
    "example"
   ]
  },
  {
   "cell_type": "code",
   "execution_count": 16,
   "metadata": {},
   "outputs": [],
   "source": [
    "example_1=soup.find_all('div[class=search-business-snippet-view__address]')"
   ]
  },
  {
   "cell_type": "code",
   "execution_count": 17,
   "metadata": {},
   "outputs": [
    {
     "data": {
      "text/plain": [
       "[]"
      ]
     },
     "execution_count": 17,
     "metadata": {},
     "output_type": "execute_result"
    }
   ],
   "source": [
    "example_1"
   ]
  },
  {
   "cell_type": "code",
   "execution_count": 18,
   "metadata": {},
   "outputs": [
    {
     "ename": "IndexError",
     "evalue": "list index out of range",
     "output_type": "error",
     "traceback": [
      "\u001b[1;31m---------------------------------------------------------------------------\u001b[0m",
      "\u001b[1;31mIndexError\u001b[0m                                Traceback (most recent call last)",
      "\u001b[1;32m<ipython-input-18-3c359d60721f>\u001b[0m in \u001b[0;36m<module>\u001b[1;34m\u001b[0m\n\u001b[1;32m----> 1\u001b[1;33m \u001b[0mexample_2\u001b[0m\u001b[1;33m=\u001b[0m\u001b[0msoup\u001b[0m\u001b[1;33m.\u001b[0m\u001b[0mfind_all\u001b[0m\u001b[1;33m(\u001b[0m\u001b[1;34m\"div\"\u001b[0m\u001b[1;33m,\u001b[0m \u001b[0mclass_\u001b[0m\u001b[1;33m=\u001b[0m\u001b[1;34m\"search-business-snippet-view__address\"\u001b[0m\u001b[1;33m)\u001b[0m\u001b[1;33m[\u001b[0m\u001b[1;36m16\u001b[0m\u001b[1;33m]\u001b[0m\u001b[1;33m\u001b[0m\u001b[1;33m\u001b[0m\u001b[0m\n\u001b[0m",
      "\u001b[1;31mIndexError\u001b[0m: list index out of range"
     ]
    }
   ],
   "source": [
    "example_2=soup.find_all(\"div\", class_=\"search-business-snippet-view__address\")[16]"
   ]
  },
  {
   "cell_type": "code",
   "execution_count": 19,
   "metadata": {},
   "outputs": [
    {
     "ename": "NameError",
     "evalue": "name 'example_2' is not defined",
     "output_type": "error",
     "traceback": [
      "\u001b[1;31m---------------------------------------------------------------------------\u001b[0m",
      "\u001b[1;31mNameError\u001b[0m                                 Traceback (most recent call last)",
      "\u001b[1;32m<ipython-input-19-8b08c91a23f1>\u001b[0m in \u001b[0;36m<module>\u001b[1;34m\u001b[0m\n\u001b[1;32m----> 1\u001b[1;33m \u001b[0mexample_2\u001b[0m\u001b[1;33m\u001b[0m\u001b[1;33m\u001b[0m\u001b[0m\n\u001b[0m",
      "\u001b[1;31mNameError\u001b[0m: name 'example_2' is not defined"
     ]
    }
   ],
   "source": [
    "example_2"
   ]
  },
  {
   "cell_type": "code",
   "execution_count": 20,
   "metadata": {},
   "outputs": [],
   "source": [
    "example_3=soup.find_all(\"div\", string=\"Moscow\")"
   ]
  },
  {
   "cell_type": "code",
   "execution_count": 21,
   "metadata": {},
   "outputs": [
    {
     "data": {
      "text/plain": [
       "[]"
      ]
     },
     "execution_count": 21,
     "metadata": {},
     "output_type": "execute_result"
    }
   ],
   "source": [
    "example_3"
   ]
  },
  {
   "cell_type": "code",
   "execution_count": 22,
   "metadata": {},
   "outputs": [
    {
     "ename": "SyntaxError",
     "evalue": "invalid syntax (<ipython-input-22-81409cc8e545>, line 1)",
     "output_type": "error",
     "traceback": [
      "\u001b[1;36m  File \u001b[1;32m\"<ipython-input-22-81409cc8e545>\"\u001b[1;36m, line \u001b[1;32m1\u001b[0m\n\u001b[1;33m    var fruits = [];\u001b[0m\n\u001b[1;37m             ^\u001b[0m\n\u001b[1;31mSyntaxError\u001b[0m\u001b[1;31m:\u001b[0m invalid syntax\n"
     ]
    }
   ],
   "source": [
    "var fruits = [];\n",
    "var image = document.querySelectorAll(\"div.search-business-snippet-view__address\");\n",
    "for (var i = 0; i<image.length; i++){\n",
    "      fruits.push(image[i].textContent);\n",
    "}\n",
    "fruits"
   ]
  },
  {
   "cell_type": "code",
   "execution_count": 23,
   "metadata": {},
   "outputs": [],
   "source": [
    "#https://yandex.com/maps/213/moscow/search/%D0%B1%D0%B0%D1%80%D1%8B%20%D0%B8%20%D1%80%D0%B5%D1%81%D1%82%D0%BE%D1%80%D0%B0%D0%BD%D1%8B%20%D0%BC%D0%BE%D1%81%D0%BA%D0%B2%D1%8B/?ll=37.605322%2C55.758484&sll=37.584948%2C55.755226&sspn=0.999787%2C0.333340&z=12.98"
   ]
  },
  {
   "cell_type": "code",
   "execution_count": 24,
   "metadata": {},
   "outputs": [],
   "source": [
    "list=[\"Bolshoy Cherkassky Lane, 15-17с1\", \"Blagoveschensky Lane, 1А\", \"Bolshaya Dorogomilovskaya Street, 4\", \"Tverskoy Boulevard, 26А\", \"Gogolevsky Boulevard, 33/1\"]"
   ]
  },
  {
   "cell_type": "code",
   "execution_count": 25,
   "metadata": {},
   "outputs": [],
   "source": [
    "def adress_line(Pls):\n",
    "    coordinates_list=[]\n",
    "    for i in Pls:\n",
    "        coordinates = client.coordinates(i)\n",
    "        coordinates_list.append(coordinates)\n",
    "    return coordinates_list\n",
    "        "
   ]
  },
  {
   "cell_type": "code",
   "execution_count": 26,
   "metadata": {},
   "outputs": [
    {
     "data": {
      "text/plain": [
       "[(Decimal('37.627669'), Decimal('55.756781')),\n",
       " (Decimal('37.597019'), Decimal('55.766876')),\n",
       " (Decimal('37.57068'), Decimal('55.74599')),\n",
       " (Decimal('37.605032'), Decimal('55.7637')),\n",
       " (Decimal('37.599849'), Decimal('55.750758'))]"
      ]
     },
     "execution_count": 26,
     "metadata": {},
     "output_type": "execute_result"
    }
   ],
   "source": [
    "adress_line(list)"
   ]
  },
  {
   "cell_type": "code",
   "execution_count": 40,
   "metadata": {},
   "outputs": [
    {
     "name": "stdout",
     "output_type": "stream",
     "text": [
      "                                           url           date_saved District1  \\\n",
      "0      https://www.cian.ru/sale/flat/11825143/  2020-04-27 00:08:05      ЮВАО   \n",
      "1      https://www.cian.ru/sale/flat/12047605/  2020-04-29 01:01:33       САО   \n",
      "2      https://www.cian.ru/sale/flat/12108103/  2020-05-18 19:08:01       ЦАО   \n",
      "3       https://www.cian.ru/sale/flat/1217743/  2020-04-30 12:20:18       САО   \n",
      "4      https://www.cian.ru/sale/flat/12939895/  2020-05-01 21:10:36       САО   \n",
      "...                                        ...                  ...       ...   \n",
      "51585  https://www.cian.ru/sale/flat/51105793/  2020-05-19 21:46:02       ВАО   \n",
      "51586  https://www.cian.ru/sale/flat/51936209/  2020-05-20 01:06:11      ЮЗАО   \n",
      "51587   https://www.cian.ru/sale/flat/6651416/  2020-04-26 14:01:07       САО   \n",
      "51588    https://www.cian.ru/sale/flat/889171/  2020-04-28 12:32:29      СЗАО   \n",
      "51589   https://www.cian.ru/sale/flat/9331361/  2020-04-28 13:30:17       ЦАО   \n",
      "\n",
      "      District2                                     ad_breadCrumbs  \\\n",
      "0          ЮВАО  Недвижимость в Москве, Продажа, Продажа 3-комн...   \n",
      "1           САО  Недвижимость в Москве, Продажа, Продажа 3-комн...   \n",
      "2           ЦАО  Недвижимость в Москве, Продажа, Продажа 2-комн...   \n",
      "3           САО  Недвижимость в Москве, Продажа, Продажа 3-комн...   \n",
      "4           САО  Недвижимость в Москве, Продажа, Продажа 2-комн...   \n",
      "...         ...                                                ...   \n",
      "51585       ВАО  Недвижимость в Москве, Продажа, Продажа 2-комн...   \n",
      "51586      ЮЗАО  Недвижимость в Москве, Продажа, Продажа 3-комн...   \n",
      "51587       САО  Недвижимость в Москве, Продажа, Продажа 3-комн...   \n",
      "51588      СЗАО  Недвижимость в Москве, Продажа, Продажа 3-комн...   \n",
      "51589       ЦАО  Недвижимость в Москве, Продажа, Продажа 3-комн...   \n",
      "\n",
      "            ad_change_time ad_objectType  ad_offerPhone    ad_price  \\\n",
      "0      2020-03-20 12:03:00      flat_old   7.985997e+10  18800000.0   \n",
      "1      2020-03-16 14:40:58      flat_old   7.916812e+10  50000000.0   \n",
      "2      2020-03-03 23:34:16      flat_old            NaN  55000000.0   \n",
      "3                      NaN      flat_old   7.964500e+10         NaN   \n",
      "4                      NaN      flat_old   7.964500e+10         NaN   \n",
      "...                    ...           ...            ...         ...   \n",
      "51585  2019-10-03 15:36:21      flat_old   7.925446e+10   7850000.0   \n",
      "51586  2019-06-17 11:27:07      flat_old   7.926987e+10  32500000.0   \n",
      "51587  2019-10-01 08:35:10      flat_old   7.909933e+10   1275000.0   \n",
      "51588  2020-02-20 14:30:05      flat_old   7.903125e+10  33500000.0   \n",
      "51589  2020-04-04 13:20:25      flat_old   7.964500e+10   2000000.0   \n",
      "\n",
      "      ad_price_cur  ...  offer_similarOffersCount  offer_status offer_title  \\\n",
      "0              rur  ...                         0     published         NaN   \n",
      "1              rur  ...                         0     published         NaN   \n",
      "2              rur  ...                         0         draft         NaN   \n",
      "3              NaN  ...                         0     published         NaN   \n",
      "4              NaN  ...                         0     published         NaN   \n",
      "...            ...  ...                       ...           ...         ...   \n",
      "51585          rur  ...                         0     published         NaN   \n",
      "51586          rur  ...                         0     published         NaN   \n",
      "51587          usd  ...                         0     published         NaN   \n",
      "51588          rur  ...                         0     published         NaN   \n",
      "51589          usd  ...                         0     published         NaN   \n",
      "\n",
      "       offer_totalArea  offer_valueAddedServices_isColorized  \\\n",
      "0                106.0                                 False   \n",
      "1                130.0                                 False   \n",
      "2                108.5                                 False   \n",
      "3                 87.0                                 False   \n",
      "4                 55.0                                 False   \n",
      "...                ...                                   ...   \n",
      "51585             45.0                                 False   \n",
      "51586             80.0                                 False   \n",
      "51587            128.0                                 False   \n",
      "51588            113.0                                 False   \n",
      "51589            138.0                                 False   \n",
      "\n",
      "       offer_valueAddedServices_isPaid  offer_valueAddedServices_isPremium  \\\n",
      "0                                 True                               False   \n",
      "1                                 True                               False   \n",
      "2                                False                               False   \n",
      "3                                 True                               False   \n",
      "4                                 True                               False   \n",
      "...                                ...                                 ...   \n",
      "51585                             True                               False   \n",
      "51586                             True                               False   \n",
      "51587                             True                               False   \n",
      "51588                             True                               False   \n",
      "51589                             True                               False   \n",
      "\n",
      "       offer_valueAddedServices_isTop3  offer_wcType  offer_windowsViewType  \n",
      "0                                False           NaN          yardAndStreet  \n",
      "1                                False           NaN          yardAndStreet  \n",
      "2                                False           NaN                 street  \n",
      "3                                False           NaN          yardAndStreet  \n",
      "4                                False           NaN                   yard  \n",
      "...                                ...           ...                    ...  \n",
      "51585                            False           NaN                 street  \n",
      "51586                            False           NaN                   yard  \n",
      "51587                            False           NaN          yardAndStreet  \n",
      "51588                            False           NaN                   yard  \n",
      "51589                            False           NaN                   yard  \n",
      "\n",
      "[51590 rows x 225 columns]\n"
     ]
    }
   ],
   "source": [
    "df_train = pd.read_excel('CianDataset2020.xlsx')\n",
    "print(df_train)"
   ]
  },
  {
   "cell_type": "code",
   "execution_count": 93,
   "metadata": {},
   "outputs": [
    {
     "data": {
      "text/plain": [
       "0        NaN\n",
       "1        NaN\n",
       "2        NaN\n",
       "3        NaN\n",
       "4        NaN\n",
       "        ... \n",
       "51585    NaN\n",
       "51586    NaN\n",
       "51587    NaN\n",
       "51588    NaN\n",
       "51589    NaN\n",
       "Name: offer_geo_railways_10_name, Length: 51590, dtype: object"
      ]
     },
     "execution_count": 93,
     "metadata": {},
     "output_type": "execute_result"
    }
   ],
   "source": [
    "df_train.offer_geo_railways_10_name"
   ]
  },
  {
   "cell_type": "code",
   "execution_count": 131,
   "metadata": {},
   "outputs": [
    {
     "data": {
      "text/plain": [
       "array([nan,  0.,  1.])"
      ]
     },
     "execution_count": 131,
     "metadata": {},
     "output_type": "execute_result"
    }
   ],
   "source": [
    "df_train.offer_newbuilding_showJkReliableFlag.unique()"
   ]
  },
  {
   "cell_type": "code",
   "execution_count": 142,
   "metadata": {},
   "outputs": [
    {
     "data": {
      "text/plain": [
       "15574"
      ]
     },
     "execution_count": 142,
     "metadata": {},
     "output_type": "execute_result"
    }
   ],
   "source": [
    "count_nan = len(df_train) - df_train.offer_windowsViewType.count()\n",
    "count_nan"
   ]
  },
  {
   "cell_type": "code",
   "execution_count": 41,
   "metadata": {},
   "outputs": [
    {
     "data": {
      "text/plain": [
       "pandas.core.frame.DataFrame"
      ]
     },
     "execution_count": 41,
     "metadata": {},
     "output_type": "execute_result"
    }
   ],
   "source": [
    "type(df_train)"
   ]
  },
  {
   "cell_type": "code",
   "execution_count": 43,
   "metadata": {},
   "outputs": [
    {
     "data": {
      "text/plain": [
       "array(['ЮВАО', 'САО', 'ЦАО', 'ЗАО', 'ЮАО', 'СВАО', 'ЮЗАО', 'СЗАО', 'ВАО',\n",
       "       'НАО', 'ЗелАО', 'ТАО', nan], dtype=object)"
      ]
     },
     "execution_count": 43,
     "metadata": {},
     "output_type": "execute_result"
    }
   ],
   "source": [
    "df_train.District1.unique()"
   ]
  },
  {
   "cell_type": "code",
   "execution_count": 48,
   "metadata": {},
   "outputs": [],
   "source": [
    "list_columns=df_train.columns.to_list()"
   ]
  },
  {
   "cell_type": "code",
   "execution_count": 49,
   "metadata": {},
   "outputs": [
    {
     "data": {
      "text/plain": [
       "['url',\n",
       " 'date_saved',\n",
       " 'District1',\n",
       " 'District2',\n",
       " 'ad_breadCrumbs',\n",
       " 'ad_change_time',\n",
       " 'ad_objectType',\n",
       " 'ad_offerPhone',\n",
       " 'ad_price',\n",
       " 'ad_price_cur',\n",
       " 'ad_stat_daily',\n",
       " 'ad_stat_total',\n",
       " 'agent_accountType',\n",
       " 'agent_isCianPartner',\n",
       " 'agent_isDeveloper',\n",
       " 'agent_isPrivateBroker',\n",
       " 'agent_isPro',\n",
       " 'agent_isRecidivist',\n",
       " 'agent_isSelfEmployed',\n",
       " 'agent_isSubAgent',\n",
       " 'agent_isUserOffersHasErrors',\n",
       " 'agent_offersCount',\n",
       " 'agent_userTrustLevel',\n",
       " 'agent_userType',\n",
       " 'bti_district_avgHouseAge',\n",
       " 'bti_district_districtTitle',\n",
       " 'bti_district_priceSqm',\n",
       " 'bti_district_priceSqmDiff',\n",
       " 'bti_district_regionTitle',\n",
       " 'bti_district_roomRentPrice',\n",
       " 'bti_district_roomRentPriceDiff',\n",
       " 'bti_district_roomSalePrice',\n",
       " 'bti_district_roomSalePriceDiff',\n",
       " 'bti_house_demolishedInMoscowProgramm',\n",
       " 'bti_house_entrances',\n",
       " 'bti_house_flatCount',\n",
       " 'bti_house_floorMax',\n",
       " 'bti_house_houseGasSupplyType',\n",
       " 'bti_house_houseHeatSupplyType',\n",
       " 'bti_house_houseMaterialType',\n",
       " 'bti_house_houseOverhaulFundType',\n",
       " 'bti_house_houseOverlapType',\n",
       " 'bti_house_isEmergency',\n",
       " 'bti_house_lifts',\n",
       " 'bti_house_priceCian',\n",
       " 'bti_house_priceCianMax',\n",
       " 'bti_house_priceCianMin',\n",
       " 'bti_house_priceSqm',\n",
       " 'bti_house_priceSqmDiff',\n",
       " 'bti_house_roomRentPrice',\n",
       " 'bti_house_roomRentPriceDiff',\n",
       " 'bti_house_seriesName',\n",
       " 'bti_house_yearRelease',\n",
       " 'company_newobjectsCount',\n",
       " 'company_offersCount',\n",
       " 'company_yearFoundation',\n",
       " 'demandJsonQuery_price_gte',\n",
       " 'demandJsonQuery_price_lte',\n",
       " 'newObject_stats_done',\n",
       " 'newObject_stats_progress',\n",
       " 'newObject_status',\n",
       " 'offer_added',\n",
       " 'offer_allRoomsArea',\n",
       " 'offer_archivedDate',\n",
       " 'offer_balconiesCount',\n",
       " 'offer_bargainTerms_agentBonus_currency',\n",
       " 'offer_bargainTerms_agentBonus_paymentType',\n",
       " 'offer_bargainTerms_agentBonus_value',\n",
       " 'offer_bargainTerms_currency',\n",
       " 'offer_bargainTerms_deposit',\n",
       " 'offer_bargainTerms_depositPrices_eur',\n",
       " 'offer_bargainTerms_depositPrices_rur',\n",
       " 'offer_bargainTerms_depositPrices_usd',\n",
       " 'offer_bargainTerms_leaseTermType',\n",
       " 'offer_bargainTerms_mortgageAllowed',\n",
       " 'offer_bargainTerms_price',\n",
       " 'offer_bargainTerms_prices_eur',\n",
       " 'offer_bargainTerms_prices_rur',\n",
       " 'offer_bargainTerms_prices_usd',\n",
       " 'offer_bargainTerms_saleType',\n",
       " 'offer_breadCrumbs',\n",
       " 'offer_building_buildYear',\n",
       " 'offer_building_cargoLiftsCount',\n",
       " 'offer_building_ceilingHeight',\n",
       " 'offer_building_deadline_isComplete',\n",
       " 'offer_building_deadline_quarter',\n",
       " 'offer_building_deadline_quarterEnd',\n",
       " 'offer_building_deadline_year',\n",
       " 'offer_building_floorsCount',\n",
       " 'offer_building_hasGarbageChute',\n",
       " 'offer_building_houseMaterialType',\n",
       " 'offer_building_materialType',\n",
       " 'offer_building_name',\n",
       " 'offer_building_parking_type',\n",
       " 'offer_building_passengerLiftsCount',\n",
       " 'offer_building_series',\n",
       " 'offer_building_totalArea',\n",
       " 'offer_cargoLiftsCount',\n",
       " 'offer_category',\n",
       " 'offer_combinedWcsCount',\n",
       " 'offer_deadline_isComplete',\n",
       " 'offer_deadline_quarter',\n",
       " 'offer_deadline_quarterEnd',\n",
       " 'offer_deadline_year',\n",
       " 'offer_decoration',\n",
       " 'offer_demolishedInMoscowProgramm',\n",
       " 'offer_description',\n",
       " 'offer_editDate',\n",
       " 'offer_flatType',\n",
       " 'offer_floorNumber',\n",
       " 'offer_geo_coordinates_lat',\n",
       " 'offer_geo_coordinates_lng',\n",
       " 'offer_geo_highways_1_distance',\n",
       " 'offer_geo_highways_1_name',\n",
       " 'offer_geo_highways_2_distance',\n",
       " 'offer_geo_highways_2_name',\n",
       " 'offer_geo_highways_3_distance',\n",
       " 'offer_geo_highways_3_name',\n",
       " 'offer_geo_jk_displayName',\n",
       " 'offer_geo_railways_10_name',\n",
       " 'offer_geo_railways_10_time',\n",
       " 'offer_geo_railways_10_travelType',\n",
       " 'offer_geo_railways_11_name',\n",
       " 'offer_geo_railways_11_time',\n",
       " 'offer_geo_railways_11_travelType',\n",
       " 'offer_geo_railways_12_name',\n",
       " 'offer_geo_railways_12_time',\n",
       " 'offer_geo_railways_12_travelType',\n",
       " 'offer_geo_railways_1_name',\n",
       " 'offer_geo_railways_1_time',\n",
       " 'offer_geo_railways_1_travelType',\n",
       " 'offer_geo_railways_2_name',\n",
       " 'offer_geo_railways_2_time',\n",
       " 'offer_geo_railways_2_travelType',\n",
       " 'offer_geo_railways_3_name',\n",
       " 'offer_geo_railways_3_time',\n",
       " 'offer_geo_railways_3_travelType',\n",
       " 'offer_geo_railways_4_name',\n",
       " 'offer_geo_railways_4_time',\n",
       " 'offer_geo_railways_4_travelType',\n",
       " 'offer_geo_railways_5_name',\n",
       " 'offer_geo_railways_5_time',\n",
       " 'offer_geo_railways_5_travelType',\n",
       " 'offer_geo_railways_6_name',\n",
       " 'offer_geo_railways_6_time',\n",
       " 'offer_geo_railways_6_travelType',\n",
       " 'offer_geo_railways_7_name',\n",
       " 'offer_geo_railways_7_time',\n",
       " 'offer_geo_railways_7_travelType',\n",
       " 'offer_geo_railways_8_name',\n",
       " 'offer_geo_railways_8_time',\n",
       " 'offer_geo_railways_8_travelType',\n",
       " 'offer_geo_railways_9_name',\n",
       " 'offer_geo_railways_9_time',\n",
       " 'offer_geo_railways_9_travelType',\n",
       " 'offer_geo_undergrounds_1_lineColor',\n",
       " 'offer_geo_undergrounds_1_name',\n",
       " 'offer_geo_undergrounds_1_releaseYear',\n",
       " 'offer_geo_undergrounds_1_travelTime',\n",
       " 'offer_geo_undergrounds_1_travelType',\n",
       " 'offer_geo_undergrounds_1_underConstruction',\n",
       " 'offer_geo_undergrounds_2_lineColor',\n",
       " 'offer_geo_undergrounds_2_name',\n",
       " 'offer_geo_undergrounds_2_releaseYear',\n",
       " 'offer_geo_undergrounds_2_travelTime',\n",
       " 'offer_geo_undergrounds_2_travelType',\n",
       " 'offer_geo_undergrounds_2_underConstruction',\n",
       " 'offer_geo_undergrounds_3_lineColor',\n",
       " 'offer_geo_undergrounds_3_name',\n",
       " 'offer_geo_undergrounds_3_releaseYear',\n",
       " 'offer_geo_undergrounds_3_travelTime',\n",
       " 'offer_geo_undergrounds_3_travelType',\n",
       " 'offer_geo_undergrounds_3_underConstruction',\n",
       " 'offer_hasFurniture',\n",
       " 'offer_hasPhone',\n",
       " 'offer_hasRamp',\n",
       " 'offer_homeownerProofs',\n",
       " 'offer_isApartments',\n",
       " 'offer_isByHomeowner',\n",
       " 'offer_isFromBuilder',\n",
       " 'offer_isFromSeller',\n",
       " 'offer_isImported',\n",
       " 'offer_isInHiddenBase',\n",
       " 'offer_isPenthouse',\n",
       " 'offer_kitchenArea',\n",
       " 'offer_livingArea',\n",
       " 'offer_loggiasCount',\n",
       " 'offer_newbuilding_house_isFinished',\n",
       " 'offer_newbuilding_house_isReliable',\n",
       " 'offer_newbuilding_house_name',\n",
       " 'offer_newbuilding_isFromBuilder',\n",
       " 'offer_newbuilding_isFromDeveloper',\n",
       " 'offer_newbuilding_isFromLeadFactory',\n",
       " 'offer_newbuilding_isFromSeller',\n",
       " 'offer_newbuilding_isReliable',\n",
       " 'offer_newbuilding_name',\n",
       " 'offer_newbuilding_newbuildingFeatures_deadlineInfo',\n",
       " 'offer_newbuilding_newbuildingFeatures_imagesCount',\n",
       " 'offer_newbuilding_newbuildingFeatures_videosCount',\n",
       " 'offer_newbuilding_showJkReliableFlag',\n",
       " 'offer_passengerLiftsCount',\n",
       " 'offer_promoLabel',\n",
       " 'offer_publicationDate',\n",
       " 'offer_publishTerms_autoprolong',\n",
       " 'offer_publishTerms_terms_days',\n",
       " 'offer_publishTerms_terms_services',\n",
       " 'offer_publishTerms_terms_tariff',\n",
       " 'offer_publishTerms_terms_type',\n",
       " 'offer_rentByPartsDescription',\n",
       " 'offer_repairType',\n",
       " 'offer_roomType',\n",
       " 'offer_roomsCount',\n",
       " 'offer_roomsForSaleCount',\n",
       " 'offer_rosreestrCheck',\n",
       " 'offer_separateWcsCount',\n",
       " 'offer_similarOffersCount',\n",
       " 'offer_status',\n",
       " 'offer_title',\n",
       " 'offer_totalArea',\n",
       " 'offer_valueAddedServices_isColorized',\n",
       " 'offer_valueAddedServices_isPaid',\n",
       " 'offer_valueAddedServices_isPremium',\n",
       " 'offer_valueAddedServices_isTop3',\n",
       " 'offer_wcType',\n",
       " 'offer_windowsViewType']"
      ]
     },
     "execution_count": 49,
     "metadata": {},
     "output_type": "execute_result"
    }
   ],
   "source": [
    "list_columns"
   ]
  },
  {
   "cell_type": "code",
   "execution_count": 147,
   "metadata": {},
   "outputs": [],
   "source": [
    "df_train1=df_train.drop(columns=['offer_combinedWcsCount','url','date_saved','ad_breadCrumbs','ad_offerPhone','ad_price_cur','agent_isCianPartner','agent_isDeveloper','agent_isPrivateBroker','agent_isPro','agent_isRecidivist','agent_isSelfEmployed','agent_isSubAgent','agent_isUserOffersHasErrors','agent_userType','bti_house_houseOverhaulFundType','bti_house_isEmergency','bti_house_seriesName','company_newobjectsCount','company_offersCount','company_yearFoundation','newObject_stats_done','newObject_stats_progress','newObject_status','offer_added','offer_allRoomsArea','offer_archivedDate','offer_bargainTerms_agentBonus_currency','offer_bargainTerms_agentBonus_paymentType','offer_bargainTerms_agentBonus_value','offer_bargainTerms_currency','offer_bargainTerms_deposit','offer_bargainTerms_depositPrices_eur','offer_bargainTerms_depositPrices_rur','offer_bargainTerms_depositPrices_usd','offer_bargainTerms_saleType','offer_breadCrumbs','offer_building_ceilingHeight','offer_building_deadline_isComplete','offer_building_deadline_quarter','offer_building_deadline_quarterEnd','offer_building_deadline_year','offer_building_name','offer_building_parking_type','offer_building_passengerLiftsCount','offer_building_series','offer_cargoLiftsCount','offer_category','offer_deadline_isComplete','offer_deadline_quarter','offer_deadline_quarterEnd','offer_deadline_year','offer_decoration','offer_demolishedInMoscowProgramm','offer_description','offer_editDate','offer_flatType','offer_geo_highways_1_distance','offer_geo_highways_1_name','offer_geo_highways_2_distance','offer_geo_highways_2_name','offer_geo_highways_3_distance','offer_geo_highways_3_name','offer_geo_jk_displayName','offer_geo_railways_10_name','offer_geo_railways_10_time','offer_geo_railways_10_travelType','offer_geo_railways_11_name','offer_geo_railways_11_time','offer_geo_railways_11_travelType','offer_geo_railways_12_name','offer_geo_railways_12_time','offer_geo_railways_12_travelType','offer_geo_railways_7_name','offer_geo_railways_7_time','offer_geo_railways_7_time','offer_geo_railways_8_name','offer_geo_railways_8_time','offer_geo_railways_8_travelType','offer_geo_railways_9_name','offer_geo_railways_9_time','offer_geo_railways_9_travelType','offer_geo_undergrounds_1_releaseYear','offer_geo_undergrounds_2_lineColor','offer_geo_undergrounds_2_name','offer_geo_undergrounds_2_releaseYear','offer_geo_undergrounds_2_travelTime','offer_geo_undergrounds_2_travelType','offer_geo_undergrounds_2_underConstruction','offer_geo_undergrounds_3_name','offer_geo_undergrounds_3_releaseYear','offer_geo_undergrounds_3_lineColor','offer_geo_undergrounds_3_travelTime','offer_geo_undergrounds_3_travelType','offer_geo_undergrounds_3_underConstruction','offer_hasFurniture','offer_hasPhone','offer_hasRamp','offer_homeownerProofs','offer_isApartments','offer_isByHomeowner','offer_isFromBuilder','offer_isFromSeller','offer_isImported','offer_isInHiddenBase','offer_isPenthouse','offer_loggiasCount','offer_newbuilding_house_isFinished','offer_newbuilding_house_isReliable','offer_newbuilding_house_name','offer_newbuilding_isFromBuilder','offer_newbuilding_isFromDeveloper','offer_newbuilding_isFromLeadFactory','offer_newbuilding_isFromSeller','offer_newbuilding_isReliable','offer_newbuilding_name','offer_newbuilding_newbuildingFeatures_deadlineInfo','offer_newbuilding_newbuildingFeatures_imagesCount','offer_newbuilding_newbuildingFeatures_videosCount','offer_newbuilding_showJkReliableFlag','offer_passengerLiftsCount','offer_promoLabel','offer_publicationDate','offer_publishTerms_autoprolong','offer_publishTerms_terms_days','offer_publishTerms_terms_services','offer_publishTerms_terms_tariff','offer_publishTerms_terms_type','offer_rentByPartsDescription','offer_repairType','offer_roomType','offer_roomsForSaleCount','offer_rosreestrCheck','offer_separateWcsCount','offer_status','offer_title','offer_valueAddedServices_isColorized','offer_valueAddedServices_isPaid','offer_valueAddedServices_isPremium','offer_windowsViewType'])"
   ]
  },
  {
   "cell_type": "code",
   "execution_count": 148,
   "metadata": {},
   "outputs": [
    {
     "data": {
      "text/plain": [
       "Index(['District1', 'District2', 'ad_change_time', 'ad_objectType', 'ad_price',\n",
       "       'ad_stat_daily', 'ad_stat_total', 'agent_accountType',\n",
       "       'agent_offersCount', 'agent_userTrustLevel', 'bti_district_avgHouseAge',\n",
       "       'bti_district_districtTitle', 'bti_district_priceSqm',\n",
       "       'bti_district_priceSqmDiff', 'bti_district_regionTitle',\n",
       "       'bti_district_roomRentPrice', 'bti_district_roomRentPriceDiff',\n",
       "       'bti_district_roomSalePrice', 'bti_district_roomSalePriceDiff',\n",
       "       'bti_house_demolishedInMoscowProgramm', 'bti_house_entrances',\n",
       "       'bti_house_flatCount', 'bti_house_floorMax',\n",
       "       'bti_house_houseGasSupplyType', 'bti_house_houseHeatSupplyType',\n",
       "       'bti_house_houseMaterialType', 'bti_house_houseOverlapType',\n",
       "       'bti_house_lifts', 'bti_house_priceCian', 'bti_house_priceCianMax',\n",
       "       'bti_house_priceCianMin', 'bti_house_priceSqm',\n",
       "       'bti_house_priceSqmDiff', 'bti_house_roomRentPrice',\n",
       "       'bti_house_roomRentPriceDiff', 'bti_house_yearRelease',\n",
       "       'demandJsonQuery_price_gte', 'demandJsonQuery_price_lte',\n",
       "       'offer_balconiesCount', 'offer_bargainTerms_leaseTermType',\n",
       "       'offer_bargainTerms_mortgageAllowed', 'offer_bargainTerms_price',\n",
       "       'offer_bargainTerms_prices_eur', 'offer_bargainTerms_prices_rur',\n",
       "       'offer_bargainTerms_prices_usd', 'offer_building_buildYear',\n",
       "       'offer_building_cargoLiftsCount', 'offer_building_floorsCount',\n",
       "       'offer_building_hasGarbageChute', 'offer_building_houseMaterialType',\n",
       "       'offer_building_materialType', 'offer_building_totalArea',\n",
       "       'offer_floorNumber', 'offer_geo_coordinates_lat',\n",
       "       'offer_geo_coordinates_lng', 'offer_geo_railways_1_name',\n",
       "       'offer_geo_railways_1_time', 'offer_geo_railways_1_travelType',\n",
       "       'offer_geo_railways_2_name', 'offer_geo_railways_2_time',\n",
       "       'offer_geo_railways_2_travelType', 'offer_geo_railways_3_name',\n",
       "       'offer_geo_railways_3_time', 'offer_geo_railways_3_travelType',\n",
       "       'offer_geo_railways_4_name', 'offer_geo_railways_4_time',\n",
       "       'offer_geo_railways_4_travelType', 'offer_geo_railways_5_name',\n",
       "       'offer_geo_railways_5_time', 'offer_geo_railways_5_travelType',\n",
       "       'offer_geo_railways_6_name', 'offer_geo_railways_6_time',\n",
       "       'offer_geo_railways_6_travelType', 'offer_geo_railways_7_travelType',\n",
       "       'offer_geo_undergrounds_1_lineColor', 'offer_geo_undergrounds_1_name',\n",
       "       'offer_geo_undergrounds_1_travelTime',\n",
       "       'offer_geo_undergrounds_1_travelType',\n",
       "       'offer_geo_undergrounds_1_underConstruction', 'offer_kitchenArea',\n",
       "       'offer_livingArea', 'offer_roomsCount', 'offer_similarOffersCount',\n",
       "       'offer_totalArea', 'offer_valueAddedServices_isTop3', 'offer_wcType'],\n",
       "      dtype='object')"
      ]
     },
     "execution_count": 148,
     "metadata": {},
     "output_type": "execute_result"
    }
   ],
   "source": [
    "df_train1.columns"
   ]
  },
  {
   "cell_type": "code",
   "execution_count": 45,
   "metadata": {},
   "outputs": [
    {
     "data": {
      "text/plain": [
       "12700000.0"
      ]
     },
     "execution_count": 45,
     "metadata": {},
     "output_type": "execute_result"
    }
   ],
   "source": [
    "df_train.ad_price[16]"
   ]
  },
  {
   "cell_type": "code",
   "execution_count": 36,
   "metadata": {},
   "outputs": [],
   "source": [
    "import matplotlib.pyplot as plt\n",
    "import seaborn as sns\n",
    "from sklearn.ensemble import RandomForestRegressor\n",
    "from sklearn.model_selection import train_test_split\n",
    "from sklearn.preprocessing import LabelEncoder\n",
    "from sklearn.metrics import mean_squared_error, r2_score, mean_absolute_error\n",
    "from sklearn.model_selection import GridSearchCV"
   ]
  },
  {
   "cell_type": "code",
   "execution_count": 37,
   "metadata": {},
   "outputs": [],
   "source": [
    "import numpy as np\n",
    "import pandas as pd\n",
    "import matplotlib.pyplot as plt\n",
    "import seaborn as sns\n",
    "from IPython.display import display\n",
    "import numpy as np\n",
    "import pandas as pd\n",
    "import matplotlib.pyplot as plt\n",
    "import seaborn as sns\n",
    "from IPython.display import display\n",
    "\n",
    "from sklearn.pipeline import Pipeline\n",
    "from sklearn.preprocessing import MinMaxScaler, StandardScaler, RobustScaler\n",
    "from sklearn.model_selection import train_test_split, cross_val_score, GridSearchCV, KFold \n",
    "from sklearn.neighbors import KNeighborsClassifier \n",
    "from sklearn.linear_model import LogisticRegression\n",
    "from sklearn.ensemble import RandomForestClassifier\n",
    "from sklearn.model_selection import StratifiedShuffleSplit\n",
    "from sklearn import svm\n",
    "from sklearn.ensemble import GradientBoostingClassifier\n",
    "from sklearn.preprocessing import PolynomialFeatures\n",
    "from sklearn.tree import DecisionTreeClassifier\n",
    "from sklearn.metrics import f1_score"
   ]
  },
  {
   "cell_type": "code",
   "execution_count": 46,
   "metadata": {},
   "outputs": [
    {
     "ename": "ValueError",
     "evalue": "Input contains NaN, infinity or a value too large for dtype('float64').",
     "output_type": "error",
     "traceback": [
      "\u001b[1;31m---------------------------------------------------------------------------\u001b[0m",
      "\u001b[1;31mValueError\u001b[0m                                Traceback (most recent call last)",
      "\u001b[1;32m<ipython-input-46-bbf0da4e339a>\u001b[0m in \u001b[0;36m<module>\u001b[1;34m\u001b[0m\n\u001b[0;32m      5\u001b[0m \u001b[1;31m# сплитуйте X и y как хотите\u001b[0m\u001b[1;33m\u001b[0m\u001b[1;33m\u001b[0m\u001b[1;33m\u001b[0m\u001b[0m\n\u001b[0;32m      6\u001b[0m X_train, X_test, y_train, y_test = train_test_split(X, y, test_size = 0.1, random_state=0, \n\u001b[1;32m----> 7\u001b[1;33m                                                     shuffle=True, stratify = df_train.ad_price)\n\u001b[0m",
      "\u001b[1;32m~\\anaconda3\\lib\\site-packages\\sklearn\\model_selection\\_split.py\u001b[0m in \u001b[0;36mtrain_test_split\u001b[1;34m(*arrays, **options)\u001b[0m\n\u001b[0;32m   2141\u001b[0m                      random_state=random_state)\n\u001b[0;32m   2142\u001b[0m \u001b[1;33m\u001b[0m\u001b[0m\n\u001b[1;32m-> 2143\u001b[1;33m         \u001b[0mtrain\u001b[0m\u001b[1;33m,\u001b[0m \u001b[0mtest\u001b[0m \u001b[1;33m=\u001b[0m \u001b[0mnext\u001b[0m\u001b[1;33m(\u001b[0m\u001b[0mcv\u001b[0m\u001b[1;33m.\u001b[0m\u001b[0msplit\u001b[0m\u001b[1;33m(\u001b[0m\u001b[0mX\u001b[0m\u001b[1;33m=\u001b[0m\u001b[0marrays\u001b[0m\u001b[1;33m[\u001b[0m\u001b[1;36m0\u001b[0m\u001b[1;33m]\u001b[0m\u001b[1;33m,\u001b[0m \u001b[0my\u001b[0m\u001b[1;33m=\u001b[0m\u001b[0mstratify\u001b[0m\u001b[1;33m)\u001b[0m\u001b[1;33m)\u001b[0m\u001b[1;33m\u001b[0m\u001b[1;33m\u001b[0m\u001b[0m\n\u001b[0m\u001b[0;32m   2144\u001b[0m \u001b[1;33m\u001b[0m\u001b[0m\n\u001b[0;32m   2145\u001b[0m     return list(chain.from_iterable((_safe_indexing(a, train),\n",
      "\u001b[1;32m~\\anaconda3\\lib\\site-packages\\sklearn\\model_selection\\_split.py\u001b[0m in \u001b[0;36msplit\u001b[1;34m(self, X, y, groups)\u001b[0m\n\u001b[0;32m   1735\u001b[0m         \u001b[0mto\u001b[0m \u001b[0man\u001b[0m \u001b[0minteger\u001b[0m\u001b[1;33m.\u001b[0m\u001b[1;33m\u001b[0m\u001b[1;33m\u001b[0m\u001b[0m\n\u001b[0;32m   1736\u001b[0m         \"\"\"\n\u001b[1;32m-> 1737\u001b[1;33m         \u001b[0my\u001b[0m \u001b[1;33m=\u001b[0m \u001b[0mcheck_array\u001b[0m\u001b[1;33m(\u001b[0m\u001b[0my\u001b[0m\u001b[1;33m,\u001b[0m \u001b[0mensure_2d\u001b[0m\u001b[1;33m=\u001b[0m\u001b[1;32mFalse\u001b[0m\u001b[1;33m,\u001b[0m \u001b[0mdtype\u001b[0m\u001b[1;33m=\u001b[0m\u001b[1;32mNone\u001b[0m\u001b[1;33m)\u001b[0m\u001b[1;33m\u001b[0m\u001b[1;33m\u001b[0m\u001b[0m\n\u001b[0m\u001b[0;32m   1738\u001b[0m         \u001b[1;32mreturn\u001b[0m \u001b[0msuper\u001b[0m\u001b[1;33m(\u001b[0m\u001b[1;33m)\u001b[0m\u001b[1;33m.\u001b[0m\u001b[0msplit\u001b[0m\u001b[1;33m(\u001b[0m\u001b[0mX\u001b[0m\u001b[1;33m,\u001b[0m \u001b[0my\u001b[0m\u001b[1;33m,\u001b[0m \u001b[0mgroups\u001b[0m\u001b[1;33m)\u001b[0m\u001b[1;33m\u001b[0m\u001b[1;33m\u001b[0m\u001b[0m\n\u001b[0;32m   1739\u001b[0m \u001b[1;33m\u001b[0m\u001b[0m\n",
      "\u001b[1;32m~\\anaconda3\\lib\\site-packages\\sklearn\\utils\\validation.py\u001b[0m in \u001b[0;36mcheck_array\u001b[1;34m(array, accept_sparse, accept_large_sparse, dtype, order, copy, force_all_finite, ensure_2d, allow_nd, ensure_min_samples, ensure_min_features, warn_on_dtype, estimator)\u001b[0m\n\u001b[0;32m    576\u001b[0m         \u001b[1;32mif\u001b[0m \u001b[0mforce_all_finite\u001b[0m\u001b[1;33m:\u001b[0m\u001b[1;33m\u001b[0m\u001b[1;33m\u001b[0m\u001b[0m\n\u001b[0;32m    577\u001b[0m             _assert_all_finite(array,\n\u001b[1;32m--> 578\u001b[1;33m                                allow_nan=force_all_finite == 'allow-nan')\n\u001b[0m\u001b[0;32m    579\u001b[0m \u001b[1;33m\u001b[0m\u001b[0m\n\u001b[0;32m    580\u001b[0m     \u001b[1;32mif\u001b[0m \u001b[0mensure_min_samples\u001b[0m \u001b[1;33m>\u001b[0m \u001b[1;36m0\u001b[0m\u001b[1;33m:\u001b[0m\u001b[1;33m\u001b[0m\u001b[1;33m\u001b[0m\u001b[0m\n",
      "\u001b[1;32m~\\anaconda3\\lib\\site-packages\\sklearn\\utils\\validation.py\u001b[0m in \u001b[0;36m_assert_all_finite\u001b[1;34m(X, allow_nan, msg_dtype)\u001b[0m\n\u001b[0;32m     58\u001b[0m                     \u001b[0mmsg_err\u001b[0m\u001b[1;33m.\u001b[0m\u001b[0mformat\u001b[0m\u001b[1;33m\u001b[0m\u001b[1;33m\u001b[0m\u001b[0m\n\u001b[0;32m     59\u001b[0m                     (type_err,\n\u001b[1;32m---> 60\u001b[1;33m                      msg_dtype if msg_dtype is not None else X.dtype)\n\u001b[0m\u001b[0;32m     61\u001b[0m             )\n\u001b[0;32m     62\u001b[0m     \u001b[1;31m# for object dtype data, we only check for NaNs (GH-13254)\u001b[0m\u001b[1;33m\u001b[0m\u001b[1;33m\u001b[0m\u001b[1;33m\u001b[0m\u001b[0m\n",
      "\u001b[1;31mValueError\u001b[0m: Input contains NaN, infinity or a value too large for dtype('float64')."
     ]
    }
   ],
   "source": [
    "# обязательный код\n",
    "df=df_train.copy()\n",
    "X=df.drop(columns=['ad_price']).values\n",
    "y=df.ad_price.values\n",
    "# сплитуйте X и y как хотите\n",
    "X_train, X_test, y_train, y_test = train_test_split(X, y, test_size = 0.1, random_state=0, \n",
    "                                                    shuffle=True, stratify = df_train.ad_price)"
   ]
  },
  {
   "cell_type": "code",
   "execution_count": null,
   "metadata": {},
   "outputs": [],
   "source": []
  }
 ],
 "metadata": {
  "kernelspec": {
   "display_name": "Python 3",
   "language": "python",
   "name": "python3"
  },
  "language_info": {
   "codemirror_mode": {
    "name": "ipython",
    "version": 3
   },
   "file_extension": ".py",
   "mimetype": "text/x-python",
   "name": "python",
   "nbconvert_exporter": "python",
   "pygments_lexer": "ipython3",
   "version": "3.7.6"
  }
 },
 "nbformat": 4,
 "nbformat_minor": 4
}
